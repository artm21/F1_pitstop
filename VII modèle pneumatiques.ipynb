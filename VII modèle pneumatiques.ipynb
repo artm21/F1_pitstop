{
 "cells": [
  {
   "cell_type": "markdown",
   "id": "2c3b2ba6-d071-4100-86b1-2a672c56e301",
   "metadata": {},
   "source": [
    "# TIPE 2023-2024 \"Jeux et sports\" \n",
    "### MORAIN Arthur MP2 Montaigne"
   ]
  },
  {
   "cell_type": "markdown",
   "id": "47a65a9c-9b7b-487f-a250-7dcb1b588f69",
   "metadata": {},
   "source": [
    "## <ins>Optimisation de l'arrêt au stand en Formule 1</ins> "
   ]
  },
  {
   "cell_type": "markdown",
   "id": "45c35c5c-daa3-4c40-a5d7-ce05f362c1df",
   "metadata": {},
   "source": [
    "### **<ins>VII- Modèle de dégradation des pneumatiques :</ins>**   "
   ]
  },
  {
   "cell_type": "markdown",
   "id": "f3f4e1d8-b340-4bf2-91ca-03fb4caf7910",
   "metadata": {},
   "source": [
    "#### **<ins>a- Modèle de dégradation des pneumatiques :</ins>**   "
   ]
  },
  {
   "cell_type": "code",
   "execution_count": 13,
   "id": "2d750c06-56ec-45f4-84da-b5a165caff37",
   "metadata": {},
   "outputs": [],
   "source": [
    "import pandas as pd\n",
    "import requests\n",
    "import numpy as np\n",
    "import datetime as dt\n",
    "import matplotlib.pyplot as plt\n",
    "import seaborn as sns\n",
    "import plotly.graph_objects as go\n",
    "import plotly.express as px\n",
    "import re\n",
    "import time"
   ]
  },
  {
   "cell_type": "code",
   "execution_count": 20,
   "id": "ca5356d4-5eb5-4277-beb4-61a3a38667cb",
   "metadata": {},
   "outputs": [],
   "source": [
    "def usure_pneumatiques(circuit : str, pneus : str) -> (dict,dict) :\n",
    "    '''Permet d'obtenir les temps au tour en moyenne pour le type de pneus et le circuit demandé, \n",
    "    celui-ci est fait par une moyenne arithmétique puis géométrique et le renvoie sous forme de dictionnaire'''\n",
    "    #ouverture des datasets\n",
    "    df1 = pd.read_csv('/Users/morainarthur/Home/Datascience/redbull-pit-strategy/data/CSV/lapweatherf1.csv')\n",
    "    df2 = pd.read_csv('/Users/morainarthur/Home/Datascience/redbull-pit-strategy/data/CSV/circuit_length.csv')\n",
    "    \n",
    "    #construction des données nécessaires\n",
    "    def series_to_dict(df, key : str, value : str) -> dict :\n",
    "        ''' Permet de prendre deux series du module pandas pour construire un dictionnaire avec les \n",
    "        clés de la colonne souhaité et le valeurs de la colonne souhaité'''\n",
    "        L1 = df[key].tolist()\n",
    "        L2 = df[value].tolist()\n",
    "        D={}\n",
    "        assert len(L1)==len(L2)\n",
    "        for i in range(len(L1)) :\n",
    "            D[L1[i]] = L2[i] \n",
    "        return(D)\n",
    "    \n",
    "    circuit_info = series_to_dict(df2,'EventName','designedLaps')\n",
    "    \n",
    "    def str_to_time(mot : str) -> float :\n",
    "        '''L'objectif est de transformer les temps qui sont en string en un flottant sur lequel on pourra faire des \n",
    "        additions, pour optimiser la complexité temporelle, on construit le programme sur l'écriture particulière de ces \n",
    "        temps, qui sont similaires, sauf cas particulier du 'nan' '''\n",
    "        t = 0\n",
    "        if mot=='nan' :\n",
    "            t = 0\n",
    "        else :\n",
    "            a = float(mot[11]) * 60\n",
    "            t = a + float(mot[13:])\n",
    "        return(t)\n",
    "    \n",
    "    #construction de la fonction souhaitée\n",
    "    def modele_pneus(df, circuit_id : dict , circuit : str , pneus : str ) -> dict :\n",
    "        '''la fonction décrite au début, le premier renvoie la moyenne arithmétique l'autre géométrique'''\n",
    "        \n",
    "        #programmation défensive\n",
    "        D = {'SOFT':1,'MEDIUM':2,'HARD':3}\n",
    "        assert circuit in circuit_id.keys()\n",
    "        assert pneus in D.keys()\n",
    "        \n",
    "        #mise en place des demandes des variables\n",
    "        df = df[df['EventName']==circuit]\n",
    "        df = df[df['session']=='Race']\n",
    "        df = df[df['Compound']==pneus] \n",
    "        nbr_laps = circuit_id[circuit]\n",
    "        n = nbr_laps\n",
    "        #on met en place une liste de nbr_laps listes avec les temps pour le i-ème tour\n",
    "        L = []\n",
    "        for i in range(n) :\n",
    "            df2 = df[df['LapNumber']==float(i+1)]\n",
    "            L.append(df2['LapTime'].tolist())\n",
    "        #print(L)\n",
    "        #on sait que s'il y a une liste vide à un moment il y a un changement de relais \n",
    "        #on peut aller associer la prochaine liste non nulle à la première liste et ainsi de suite\n",
    "        k=0\n",
    "        #print(len(L))\n",
    "        while len(L[k])>0 and k<(len(L)-1) :\n",
    "            k+=1\n",
    "        if k<len(L)-1 :\n",
    "            for i in range(k) : \n",
    "                L[i] = L[i] + L[k+i]\n",
    "            L= L[:k]\n",
    "        \n",
    "        #on passe maintenant aux calculs de moyenne qu'on stocke dans un dictionnaire\n",
    "        D1={}\n",
    "        D2={}\n",
    "        n=len(L)\n",
    "        #calcul de la moyenne sur un circuit\n",
    "        S = 0 \n",
    "        n2 = 0\n",
    "        for i in range(n) :\n",
    "            size = len(L[i])\n",
    "            n2 += size\n",
    "            lst=L[i]\n",
    "            for l in range(size) :\n",
    "                S += str_to_time(str(lst[l]))\n",
    "        moyenne=S/n2\n",
    "        print(moyenne)\n",
    "        #calcul des temps\n",
    "        for i in range(n) :\n",
    "            o = len(L[i])\n",
    "            L2 = L[i]\n",
    "            S = 0\n",
    "            P = 1\n",
    "            if o==0 : \n",
    "                D[i+1] = 0\n",
    "            else :\n",
    "                for l in range(o) :\n",
    "                    t = str_to_time(str(L2[l]))\n",
    "                    if l>2 :\n",
    "                        if t<(moyenne+3) :\n",
    "                            P = P * t\n",
    "                            S += t\n",
    "                        else :\n",
    "                            o -= 1\n",
    "                    elif l<=2 :\n",
    "                        P = P*t\n",
    "                        S += t\n",
    "                D1[i+1] = S/o\n",
    "                D2[i+1] = pow(P, (1.0)/o)\n",
    "        return((D1,D2))\n",
    "    \n",
    "    ((D1,D2)) = modele_pneus(df1,circuit_info,circuit,pneus)\n",
    "    #en faire un joli graphique\n",
    "    fig = plt.figure(figsize=(12,2))\n",
    "    plt.plot(D1.keys(),D1.values())\n",
    "    plt.plot(D2.keys(),D2.values())\n",
    "    plt.grid()\n",
    "    plt.xlabel('Lap Number')\n",
    "    plt.ylabel('Lap Time (Sec)')\n",
    "    plt.title('Durée au temps moyenne pour des pneus '+pneus+' sur le circuit '+circuit)\n",
    "    plt.legend(['Moyenne arithmétique','Moyenne géométrique'])\n",
    "    \n",
    "    \n",
    "    return((D1,D2))\n",
    "\n",
    "    \n",
    "    \n",
    "    \n",
    "    \n",
    "        \n",
    "        \n",
    "        \n",
    "    \n",
    "    \n",
    "        \n",
    "        \n",
    "        "
   ]
  },
  {
   "cell_type": "code",
   "execution_count": 21,
   "id": "dbffdfdf-3151-43a3-887c-3741fdc2aad8",
   "metadata": {},
   "outputs": [
    {
     "name": "stderr",
     "output_type": "stream",
     "text": [
      "/var/folders/vk/f22z063n5rl20ps172zv7gxm0000gn/T/ipykernel_13064/1839382198.py:5: DtypeWarning: Columns (37) have mixed types. Specify dtype option on import or set low_memory=False.\n",
      "  df1 = pd.read_csv('/Users/morainarthur/Home/Datascience/redbull-pit-strategy/data/CSV/lapweatherf1.csv')\n"
     ]
    },
    {
     "name": "stdout",
     "output_type": "stream",
     "text": [
      "98.8946701388888\n"
     ]
    },
    {
     "data": {
      "image/png": "[encoded data removed]",
      "text/plain": [
       "<Figure size 1200x200 with 1 Axes>"
      ]
     },
     "metadata": {},
     "output_type": "display_data"
    }
   ],
   "source": [
    " a = usure_pneumatiques('Abu Dhabi Grand Prix', 'SOFT')"
   ]
  },
  {
   "cell_type": "code",
   "execution_count": 22,
   "id": "7cf04861-6609-4ff9-8769-fff82d91ee63",
   "metadata": {},
   "outputs": [
    {
     "name": "stderr",
     "output_type": "stream",
     "text": [
      "/var/folders/vk/f22z063n5rl20ps172zv7gxm0000gn/T/ipykernel_13064/1839382198.py:5: DtypeWarning: Columns (37) have mixed types. Specify dtype option on import or set low_memory=False.\n",
      "  df1 = pd.read_csv('/Users/morainarthur/Home/Datascience/redbull-pit-strategy/data/CSV/lapweatherf1.csv')\n"
     ]
    },
    {
     "name": "stdout",
     "output_type": "stream",
     "text": [
      "98.55810615384614\n"
     ]
    },
    {
     "data": {
      "image/png": "[encoded data removed]",
      "text/plain": [
       "<Figure size 1200x200 with 1 Axes>"
      ]
     },
     "metadata": {},
     "output_type": "display_data"
    }
   ],
   "source": [
    "c = usure_pneumatiques('Abu Dhabi Grand Prix', 'MEDIUM')"
   ]
  },
  {
   "cell_type": "markdown",
   "id": "c6aaa46e-aeed-43d6-a49d-5cf77ae07994",
   "metadata": {},
   "source": [
    "### **<ins>b- complexité du modèle de dégradation des pneumatiques :</ins>**   "
   ]
  },
  {
   "cell_type": "code",
   "execution_count": 32,
   "id": "b6742088-3031-40fb-b212-77d5084e1a34",
   "metadata": {},
   "outputs": [],
   "source": [
    " def usure_pneumatiques_complexite(circuit : str, pneus : str) -> int :\n",
    "    '''Permet d'obtenir les temps au tour en moyenne pour le type de pneus et le circuit demandé, \n",
    "    celui-ci est fait par une moyenne arithmétique puis géométrique et le renvoie sous forme de dictionnaire'''\n",
    "    S2 = 0\n",
    "    #ouverture des datasets\n",
    "    df1 = pd.read_csv('/Users/morainarthur/Home/Datascience/redbull-pit-strategy/data/CSV/lapweatherf1.csv')\n",
    "    df2 = pd.read_csv('/Users/morainarthur/Home/Datascience/redbull-pit-strategy/data/CSV/circuit_length.csv')\n",
    "    \n",
    "    #construction des données nécessaires\n",
    "    def series_to_dict(df, key : str, value : str) -> dict :\n",
    "        ''' Permet de prendre deux series du module pandas pour construire un dictionnaire avec les \n",
    "        clés de la colonne souhaité et le valeurs de la colonne souhaité'''\n",
    "        L1 = df[key].tolist()\n",
    "        L2 = df[value].tolist()\n",
    "        D={}\n",
    "        assert len(L1)==len(L2)\n",
    "        for i in range(len(L1)) :\n",
    "            D[L1[i]] = L2[i] \n",
    "        return(D)\n",
    "    \n",
    "    circuit_info = series_to_dict(df2,'EventName','designedLaps')\n",
    "    \n",
    "    def str_to_time(mot : str) -> float :\n",
    "        '''L'objectif est de transformer les temps qui sont en string en un flottant sur lequel on pourra faire des \n",
    "        additions, pour optimiser la complexité temporelle, on construit le programme sur l'écriture particulière de ces \n",
    "        temps, qui sont similaires, sauf cas particulier du 'nan' '''\n",
    "        t = 0\n",
    "        if mot=='nan' :\n",
    "            t = 0\n",
    "        else :\n",
    "            a = float(mot[11]) * 60\n",
    "            t = a + float(mot[13:])\n",
    "        return(t)\n",
    "    \n",
    "    #construction de la fonction souhaitée\n",
    "    def modele_pneus(df, circuit_id : dict , circuit : str , pneus : str , S2 : int) -> dict :\n",
    "        '''la fonction décrite au début, le premier renvoie la moyenne arithmétique l'autre géométrique'''\n",
    "        \n",
    "        #programmation défensive\n",
    "        D = {'SOFT':1,'MEDIUM':2,'HARD':3}\n",
    "        assert circuit in circuit_id.keys()\n",
    "        assert pneus in D.keys()\n",
    "        \n",
    "        #mise en place des demandes des variables\n",
    "        df = df[df['EventName']==circuit]\n",
    "        df = df[df['session']=='Race']\n",
    "        df = df[df['Compound']==pneus] \n",
    "        nbr_laps = circuit_id[circuit]\n",
    "        n = nbr_laps\n",
    "        #on met en place une liste de nbr_laps listes avec les temps pour le i-ème tour\n",
    "        L = []\n",
    "        for i in range(n) :\n",
    "            df2 = df[df['LapNumber']==float(i+1)]\n",
    "            L.append(df2['LapTime'].tolist())\n",
    "        #print(L)\n",
    "        #on sait que s'il y a une liste vide à un moment il y a un changement de relais \n",
    "        #on peut aller associer la prochaine liste non nulle à la première liste et ainsi de suite\n",
    "        k=0\n",
    "        #print(len(L))\n",
    "        while len(L[k])>0 and k<(len(L)-1) :\n",
    "            S2 += len(L[k])\n",
    "            k+=1\n",
    "        if k<len(L)-1 :\n",
    "            for i in range(k) : \n",
    "                L[i] = L[i] + L[k+i]\n",
    "            L= L[:k]\n",
    "        \n",
    "        #on passe maintenant aux calculs de moyenne qu'on stocke dans un dictionnaire\n",
    "        D1={}\n",
    "        D2={}\n",
    "        n=len(L)\n",
    "        #calcul de la moyenne sur un circuit\n",
    "        S = 0 \n",
    "        n2 = 0\n",
    "        for i in range(n) :\n",
    "            size = len(L[i])\n",
    "            n2 += size\n",
    "            lst=L[i]\n",
    "            for l in range(size) :\n",
    "                S += str_to_time(str(lst[l]))\n",
    "        if n2>0 :\n",
    "            \n",
    "            moyenne=S/n2\n",
    "            print(moyenne)\n",
    "        #calcul des temps\n",
    "        for i in range(n) :\n",
    "            o = len(L[i])\n",
    "            L2 = L[i]\n",
    "            S = 0\n",
    "            P = 1\n",
    "            if o==0 : \n",
    "                D[i+1] = 0\n",
    "            else :\n",
    "                for l in range(o) :\n",
    "                    t = str_to_time(str(L2[l]))\n",
    "                    if l>2 :\n",
    "                        if t<(moyenne+3) :\n",
    "                            P = P * t\n",
    "                            S += t\n",
    "                        else :\n",
    "                            o -= 1\n",
    "                    elif l<=2 :\n",
    "                        P = P*t\n",
    "                        S += t\n",
    "                if o > 0 :\n",
    "                    \n",
    "                    D1[i+1] = S/o\n",
    "                    D2[i+1] = pow(P, (1.0)/o)\n",
    "        return(S2)\n",
    "    \n",
    "    S2 = modele_pneus(df1,circuit_info,circuit,pneus,S2)\n",
    "    return(S2)"
   ]
  },
  {
   "cell_type": "code",
   "execution_count": 33,
   "id": "fa9d3984-d870-4ca1-9b17-afa1bf54aed6",
   "metadata": {},
   "outputs": [],
   "source": [
    "def lst_temps(l1 : list, l2 : list) -> dict :\n",
    "    Temps = {}\n",
    "    n1 = len(l1)\n",
    "    n2 = len(l2)\n",
    "    for i in range(n1) :\n",
    "        t1 = time.time()\n",
    "        S=0\n",
    "        for l in range(i) :\n",
    "            S += usure_pneumatiques_complexite(l1[l],l2[0])\n",
    "        t2 = time.time()\n",
    "        delta = t2 - t1 \n",
    "        Temps[S] = delta\n",
    "        \n",
    "        #graphique pour voir l'évolution\n",
    "    fig = plt.figure(figsize=(12,2))\n",
    "    plt.plot(Temps.keys(),Temps.values())\n",
    "    plt.grid()\n",
    "    plt.xlabel('Nombre données de tour')\n",
    "    plt.ylabel(\"Durée d'exécution\")\n",
    "    plt.title('Approximation de la complexité')\n",
    "    return(Temps)\n",
    "            \n",
    "    \n",
    "    "
   ]
  },
  {
   "cell_type": "code",
   "execution_count": 34,
   "id": "4af29082-b621-461b-8d3c-9005da685a23",
   "metadata": {},
   "outputs": [],
   "source": [
    "l1 = ['Abu Dhabi Grand Prix','Australian Grand Prix','Austrian Grand Prix','Azerbaijan Grand Prix','Bahrain Grand Prix',\n",
    "      'Belgian Grand Prix','Brazilian Grand Prix','British Grand Prix','Canadian Grand Prix','Chinese Grand Prix',\n",
    "      'Dutch Grand Prix','French Grand Prix','Hungarian Grand Prix','Italian Grand Prix','Japanese Grand Prix',\n",
    "      'Mexican Grand Prix','Monaco Grand Prix','Russian Grand Prix','Saudi Arabia Grand Prix','Singapore Grand Prix',\n",
    "      'Spanish Grand Prix','United States Grand Prix','Emilia Romagna Grand Prix','German Grand Prix','Portuguese Grand Prix',\n",
    "      'Qatar Grand Prix']"
   ]
  },
  {
   "cell_type": "code",
   "execution_count": 35,
   "id": "8d223843-537c-4752-af10-e96366141117",
   "metadata": {},
   "outputs": [
    {
     "name": "stderr",
     "output_type": "stream",
     "text": [
      "/var/folders/vk/f22z063n5rl20ps172zv7gxm0000gn/T/ipykernel_13064/1535690992.py:6: DtypeWarning: Columns (37) have mixed types. Specify dtype option on import or set low_memory=False.\n",
      "  df1 = pd.read_csv('/Users/morainarthur/Home/Datascience/redbull-pit-strategy/data/CSV/lapweatherf1.csv')\n"
     ]
    },
    {
     "name": "stdout",
     "output_type": "stream",
     "text": [
      "98.55810615384614\n"
     ]
    },
    {
     "name": "stderr",
     "output_type": "stream",
     "text": [
      "/var/folders/vk/f22z063n5rl20ps172zv7gxm0000gn/T/ipykernel_13064/1535690992.py:6: DtypeWarning: Columns (37) have mixed types. Specify dtype option on import or set low_memory=False.\n",
      "  df1 = pd.read_csv('/Users/morainarthur/Home/Datascience/redbull-pit-strategy/data/CSV/lapweatherf1.csv')\n"
     ]
    },
    {
     "name": "stdout",
     "output_type": "stream",
     "text": [
      "98.55810615384614\n"
     ]
    },
    {
     "name": "stderr",
     "output_type": "stream",
     "text": [
      "/var/folders/vk/f22z063n5rl20ps172zv7gxm0000gn/T/ipykernel_13064/1535690992.py:6: DtypeWarning: Columns (37) have mixed types. Specify dtype option on import or set low_memory=False.\n",
      "  df1 = pd.read_csv('/Users/morainarthur/Home/Datascience/redbull-pit-strategy/data/CSV/lapweatherf1.csv')\n"
     ]
    },
    {
     "name": "stdout",
     "output_type": "stream",
     "text": [
      "91.05849039692691\n"
     ]
    },
    {
     "name": "stderr",
     "output_type": "stream",
     "text": [
      "/var/folders/vk/f22z063n5rl20ps172zv7gxm0000gn/T/ipykernel_13064/1535690992.py:6: DtypeWarning: Columns (37) have mixed types. Specify dtype option on import or set low_memory=False.\n",
      "  df1 = pd.read_csv('/Users/morainarthur/Home/Datascience/redbull-pit-strategy/data/CSV/lapweatherf1.csv')\n"
     ]
    },
    {
     "name": "stdout",
     "output_type": "stream",
     "text": [
      "98.55810615384614\n"
     ]
    },
    {
     "name": "stderr",
     "output_type": "stream",
     "text": [
      "/var/folders/vk/f22z063n5rl20ps172zv7gxm0000gn/T/ipykernel_13064/1535690992.py:6: DtypeWarning: Columns (37) have mixed types. Specify dtype option on import or set low_memory=False.\n",
      "  df1 = pd.read_csv('/Users/morainarthur/Home/Datascience/redbull-pit-strategy/data/CSV/lapweatherf1.csv')\n"
     ]
    },
    {
     "name": "stdout",
     "output_type": "stream",
     "text": [
      "91.05849039692691\n"
     ]
    },
    {
     "name": "stderr",
     "output_type": "stream",
     "text": [
      "/var/folders/vk/f22z063n5rl20ps172zv7gxm0000gn/T/ipykernel_13064/1535690992.py:6: DtypeWarning: Columns (37) have mixed types. Specify dtype option on import or set low_memory=False.\n",
      "  df1 = pd.read_csv('/Users/morainarthur/Home/Datascience/redbull-pit-strategy/data/CSV/lapweatherf1.csv')\n"
     ]
    },
    {
     "name": "stdout",
     "output_type": "stream",
     "text": [
      "73.04040280210168\n"
     ]
    },
    {
     "name": "stderr",
     "output_type": "stream",
     "text": [
      "/var/folders/vk/f22z063n5rl20ps172zv7gxm0000gn/T/ipykernel_13064/1535690992.py:6: DtypeWarning: Columns (37) have mixed types. Specify dtype option on import or set low_memory=False.\n",
      "  df1 = pd.read_csv('/Users/morainarthur/Home/Datascience/redbull-pit-strategy/data/CSV/lapweatherf1.csv')\n"
     ]
    },
    {
     "name": "stdout",
     "output_type": "stream",
     "text": [
      "98.55810615384614\n"
     ]
    },
    {
     "name": "stderr",
     "output_type": "stream",
     "text": [
      "/var/folders/vk/f22z063n5rl20ps172zv7gxm0000gn/T/ipykernel_13064/1535690992.py:6: DtypeWarning: Columns (37) have mixed types. Specify dtype option on import or set low_memory=False.\n",
      "  df1 = pd.read_csv('/Users/morainarthur/Home/Datascience/redbull-pit-strategy/data/CSV/lapweatherf1.csv')\n"
     ]
    },
    {
     "name": "stdout",
     "output_type": "stream",
     "text": [
      "91.05849039692691\n"
     ]
    },
    {
     "name": "stderr",
     "output_type": "stream",
     "text": [
      "/var/folders/vk/f22z063n5rl20ps172zv7gxm0000gn/T/ipykernel_13064/1535690992.py:6: DtypeWarning: Columns (37) have mixed types. Specify dtype option on import or set low_memory=False.\n",
      "  df1 = pd.read_csv('/Users/morainarthur/Home/Datascience/redbull-pit-strategy/data/CSV/lapweatherf1.csv')\n"
     ]
    },
    {
     "name": "stdout",
     "output_type": "stream",
     "text": [
      "73.04040280210168\n"
     ]
    },
    {
     "name": "stderr",
     "output_type": "stream",
     "text": [
      "/var/folders/vk/f22z063n5rl20ps172zv7gxm0000gn/T/ipykernel_13064/1535690992.py:6: DtypeWarning: Columns (37) have mixed types. Specify dtype option on import or set low_memory=False.\n",
      "  df1 = pd.read_csv('/Users/morainarthur/Home/Datascience/redbull-pit-strategy/data/CSV/lapweatherf1.csv')\n"
     ]
    },
    {
     "name": "stdout",
     "output_type": "stream",
     "text": [
      "109.02829732408335\n"
     ]
    },
    {
     "name": "stderr",
     "output_type": "stream",
     "text": [
      "/var/folders/vk/f22z063n5rl20ps172zv7gxm0000gn/T/ipykernel_13064/1535690992.py:6: DtypeWarning: Columns (37) have mixed types. Specify dtype option on import or set low_memory=False.\n",
      "  df1 = pd.read_csv('/Users/morainarthur/Home/Datascience/redbull-pit-strategy/data/CSV/lapweatherf1.csv')\n"
     ]
    },
    {
     "name": "stdout",
     "output_type": "stream",
     "text": [
      "98.55810615384614\n"
     ]
    },
    {
     "name": "stderr",
     "output_type": "stream",
     "text": [
      "/var/folders/vk/f22z063n5rl20ps172zv7gxm0000gn/T/ipykernel_13064/1535690992.py:6: DtypeWarning: Columns (37) have mixed types. Specify dtype option on import or set low_memory=False.\n",
      "  df1 = pd.read_csv('/Users/morainarthur/Home/Datascience/redbull-pit-strategy/data/CSV/lapweatherf1.csv')\n"
     ]
    },
    {
     "name": "stdout",
     "output_type": "stream",
     "text": [
      "91.05849039692691\n"
     ]
    },
    {
     "name": "stderr",
     "output_type": "stream",
     "text": [
      "/var/folders/vk/f22z063n5rl20ps172zv7gxm0000gn/T/ipykernel_13064/1535690992.py:6: DtypeWarning: Columns (37) have mixed types. Specify dtype option on import or set low_memory=False.\n",
      "  df1 = pd.read_csv('/Users/morainarthur/Home/Datascience/redbull-pit-strategy/data/CSV/lapweatherf1.csv')\n"
     ]
    },
    {
     "name": "stdout",
     "output_type": "stream",
     "text": [
      "73.04040280210168\n"
     ]
    },
    {
     "name": "stderr",
     "output_type": "stream",
     "text": [
      "/var/folders/vk/f22z063n5rl20ps172zv7gxm0000gn/T/ipykernel_13064/1535690992.py:6: DtypeWarning: Columns (37) have mixed types. Specify dtype option on import or set low_memory=False.\n",
      "  df1 = pd.read_csv('/Users/morainarthur/Home/Datascience/redbull-pit-strategy/data/CSV/lapweatherf1.csv')\n"
     ]
    },
    {
     "name": "stdout",
     "output_type": "stream",
     "text": [
      "109.02829732408335\n"
     ]
    },
    {
     "name": "stderr",
     "output_type": "stream",
     "text": [
      "/var/folders/vk/f22z063n5rl20ps172zv7gxm0000gn/T/ipykernel_13064/1535690992.py:6: DtypeWarning: Columns (37) have mixed types. Specify dtype option on import or set low_memory=False.\n",
      "  df1 = pd.read_csv('/Users/morainarthur/Home/Datascience/redbull-pit-strategy/data/CSV/lapweatherf1.csv')\n"
     ]
    },
    {
     "name": "stdout",
     "output_type": "stream",
     "text": [
      "98.72058275058279\n"
     ]
    },
    {
     "name": "stderr",
     "output_type": "stream",
     "text": [
      "/var/folders/vk/f22z063n5rl20ps172zv7gxm0000gn/T/ipykernel_13064/1535690992.py:6: DtypeWarning: Columns (37) have mixed types. Specify dtype option on import or set low_memory=False.\n",
      "  df1 = pd.read_csv('/Users/morainarthur/Home/Datascience/redbull-pit-strategy/data/CSV/lapweatherf1.csv')\n"
     ]
    },
    {
     "name": "stdout",
     "output_type": "stream",
     "text": [
      "98.55810615384614\n"
     ]
    },
    {
     "name": "stderr",
     "output_type": "stream",
     "text": [
      "/var/folders/vk/f22z063n5rl20ps172zv7gxm0000gn/T/ipykernel_13064/1535690992.py:6: DtypeWarning: Columns (37) have mixed types. Specify dtype option on import or set low_memory=False.\n",
      "  df1 = pd.read_csv('/Users/morainarthur/Home/Datascience/redbull-pit-strategy/data/CSV/lapweatherf1.csv')\n"
     ]
    },
    {
     "name": "stdout",
     "output_type": "stream",
     "text": [
      "91.05849039692691\n"
     ]
    },
    {
     "name": "stderr",
     "output_type": "stream",
     "text": [
      "/var/folders/vk/f22z063n5rl20ps172zv7gxm0000gn/T/ipykernel_13064/1535690992.py:6: DtypeWarning: Columns (37) have mixed types. Specify dtype option on import or set low_memory=False.\n",
      "  df1 = pd.read_csv('/Users/morainarthur/Home/Datascience/redbull-pit-strategy/data/CSV/lapweatherf1.csv')\n"
     ]
    },
    {
     "name": "stdout",
     "output_type": "stream",
     "text": [
      "73.04040280210168\n"
     ]
    },
    {
     "name": "stderr",
     "output_type": "stream",
     "text": [
      "/var/folders/vk/f22z063n5rl20ps172zv7gxm0000gn/T/ipykernel_13064/1535690992.py:6: DtypeWarning: Columns (37) have mixed types. Specify dtype option on import or set low_memory=False.\n",
      "  df1 = pd.read_csv('/Users/morainarthur/Home/Datascience/redbull-pit-strategy/data/CSV/lapweatherf1.csv')\n"
     ]
    },
    {
     "name": "stdout",
     "output_type": "stream",
     "text": [
      "109.02829732408335\n"
     ]
    },
    {
     "name": "stderr",
     "output_type": "stream",
     "text": [
      "/var/folders/vk/f22z063n5rl20ps172zv7gxm0000gn/T/ipykernel_13064/1535690992.py:6: DtypeWarning: Columns (37) have mixed types. Specify dtype option on import or set low_memory=False.\n",
      "  df1 = pd.read_csv('/Users/morainarthur/Home/Datascience/redbull-pit-strategy/data/CSV/lapweatherf1.csv')\n"
     ]
    },
    {
     "name": "stdout",
     "output_type": "stream",
     "text": [
      "98.72058275058279\n"
     ]
    },
    {
     "name": "stderr",
     "output_type": "stream",
     "text": [
      "/var/folders/vk/f22z063n5rl20ps172zv7gxm0000gn/T/ipykernel_13064/1535690992.py:6: DtypeWarning: Columns (37) have mixed types. Specify dtype option on import or set low_memory=False.\n",
      "  df1 = pd.read_csv('/Users/morainarthur/Home/Datascience/redbull-pit-strategy/data/CSV/lapweatherf1.csv')\n"
     ]
    },
    {
     "name": "stdout",
     "output_type": "stream",
     "text": [
      "106.69152064026949\n"
     ]
    },
    {
     "name": "stderr",
     "output_type": "stream",
     "text": [
      "/var/folders/vk/f22z063n5rl20ps172zv7gxm0000gn/T/ipykernel_13064/1535690992.py:6: DtypeWarning: Columns (37) have mixed types. Specify dtype option on import or set low_memory=False.\n",
      "  df1 = pd.read_csv('/Users/morainarthur/Home/Datascience/redbull-pit-strategy/data/CSV/lapweatherf1.csv')\n"
     ]
    },
    {
     "name": "stdout",
     "output_type": "stream",
     "text": [
      "98.55810615384614\n"
     ]
    },
    {
     "name": "stderr",
     "output_type": "stream",
     "text": [
      "/var/folders/vk/f22z063n5rl20ps172zv7gxm0000gn/T/ipykernel_13064/1535690992.py:6: DtypeWarning: Columns (37) have mixed types. Specify dtype option on import or set low_memory=False.\n",
      "  df1 = pd.read_csv('/Users/morainarthur/Home/Datascience/redbull-pit-strategy/data/CSV/lapweatherf1.csv')\n"
     ]
    },
    {
     "name": "stdout",
     "output_type": "stream",
     "text": [
      "91.05849039692691\n"
     ]
    },
    {
     "name": "stderr",
     "output_type": "stream",
     "text": [
      "/var/folders/vk/f22z063n5rl20ps172zv7gxm0000gn/T/ipykernel_13064/1535690992.py:6: DtypeWarning: Columns (37) have mixed types. Specify dtype option on import or set low_memory=False.\n",
      "  df1 = pd.read_csv('/Users/morainarthur/Home/Datascience/redbull-pit-strategy/data/CSV/lapweatherf1.csv')\n"
     ]
    },
    {
     "name": "stdout",
     "output_type": "stream",
     "text": [
      "73.04040280210168\n"
     ]
    },
    {
     "name": "stderr",
     "output_type": "stream",
     "text": [
      "/var/folders/vk/f22z063n5rl20ps172zv7gxm0000gn/T/ipykernel_13064/1535690992.py:6: DtypeWarning: Columns (37) have mixed types. Specify dtype option on import or set low_memory=False.\n",
      "  df1 = pd.read_csv('/Users/morainarthur/Home/Datascience/redbull-pit-strategy/data/CSV/lapweatherf1.csv')\n"
     ]
    },
    {
     "name": "stdout",
     "output_type": "stream",
     "text": [
      "109.02829732408335\n"
     ]
    },
    {
     "name": "stderr",
     "output_type": "stream",
     "text": [
      "/var/folders/vk/f22z063n5rl20ps172zv7gxm0000gn/T/ipykernel_13064/1535690992.py:6: DtypeWarning: Columns (37) have mixed types. Specify dtype option on import or set low_memory=False.\n",
      "  df1 = pd.read_csv('/Users/morainarthur/Home/Datascience/redbull-pit-strategy/data/CSV/lapweatherf1.csv')\n"
     ]
    },
    {
     "name": "stdout",
     "output_type": "stream",
     "text": [
      "98.72058275058279\n"
     ]
    },
    {
     "name": "stderr",
     "output_type": "stream",
     "text": [
      "/var/folders/vk/f22z063n5rl20ps172zv7gxm0000gn/T/ipykernel_13064/1535690992.py:6: DtypeWarning: Columns (37) have mixed types. Specify dtype option on import or set low_memory=False.\n",
      "  df1 = pd.read_csv('/Users/morainarthur/Home/Datascience/redbull-pit-strategy/data/CSV/lapweatherf1.csv')\n"
     ]
    },
    {
     "name": "stdout",
     "output_type": "stream",
     "text": [
      "106.69152064026949\n"
     ]
    },
    {
     "name": "stderr",
     "output_type": "stream",
     "text": [
      "/var/folders/vk/f22z063n5rl20ps172zv7gxm0000gn/T/ipykernel_13064/1535690992.py:6: DtypeWarning: Columns (37) have mixed types. Specify dtype option on import or set low_memory=False.\n",
      "  df1 = pd.read_csv('/Users/morainarthur/Home/Datascience/redbull-pit-strategy/data/CSV/lapweatherf1.csv')\n"
     ]
    },
    {
     "name": "stdout",
     "output_type": "stream",
     "text": [
      "75.73884492481203\n"
     ]
    },
    {
     "name": "stderr",
     "output_type": "stream",
     "text": [
      "/var/folders/vk/f22z063n5rl20ps172zv7gxm0000gn/T/ipykernel_13064/1535690992.py:6: DtypeWarning: Columns (37) have mixed types. Specify dtype option on import or set low_memory=False.\n",
      "  df1 = pd.read_csv('/Users/morainarthur/Home/Datascience/redbull-pit-strategy/data/CSV/lapweatherf1.csv')\n"
     ]
    },
    {
     "name": "stdout",
     "output_type": "stream",
     "text": [
      "98.55810615384614\n"
     ]
    },
    {
     "name": "stderr",
     "output_type": "stream",
     "text": [
      "/var/folders/vk/f22z063n5rl20ps172zv7gxm0000gn/T/ipykernel_13064/1535690992.py:6: DtypeWarning: Columns (37) have mixed types. Specify dtype option on import or set low_memory=False.\n",
      "  df1 = pd.read_csv('/Users/morainarthur/Home/Datascience/redbull-pit-strategy/data/CSV/lapweatherf1.csv')\n"
     ]
    },
    {
     "name": "stdout",
     "output_type": "stream",
     "text": [
      "91.05849039692691\n"
     ]
    },
    {
     "name": "stderr",
     "output_type": "stream",
     "text": [
      "/var/folders/vk/f22z063n5rl20ps172zv7gxm0000gn/T/ipykernel_13064/1535690992.py:6: DtypeWarning: Columns (37) have mixed types. Specify dtype option on import or set low_memory=False.\n",
      "  df1 = pd.read_csv('/Users/morainarthur/Home/Datascience/redbull-pit-strategy/data/CSV/lapweatherf1.csv')\n"
     ]
    },
    {
     "name": "stdout",
     "output_type": "stream",
     "text": [
      "73.04040280210168\n"
     ]
    },
    {
     "name": "stderr",
     "output_type": "stream",
     "text": [
      "/var/folders/vk/f22z063n5rl20ps172zv7gxm0000gn/T/ipykernel_13064/1535690992.py:6: DtypeWarning: Columns (37) have mixed types. Specify dtype option on import or set low_memory=False.\n",
      "  df1 = pd.read_csv('/Users/morainarthur/Home/Datascience/redbull-pit-strategy/data/CSV/lapweatherf1.csv')\n"
     ]
    },
    {
     "name": "stdout",
     "output_type": "stream",
     "text": [
      "109.02829732408335\n"
     ]
    },
    {
     "name": "stderr",
     "output_type": "stream",
     "text": [
      "/var/folders/vk/f22z063n5rl20ps172zv7gxm0000gn/T/ipykernel_13064/1535690992.py:6: DtypeWarning: Columns (37) have mixed types. Specify dtype option on import or set low_memory=False.\n",
      "  df1 = pd.read_csv('/Users/morainarthur/Home/Datascience/redbull-pit-strategy/data/CSV/lapweatherf1.csv')\n"
     ]
    },
    {
     "name": "stdout",
     "output_type": "stream",
     "text": [
      "98.72058275058279\n"
     ]
    },
    {
     "name": "stderr",
     "output_type": "stream",
     "text": [
      "/var/folders/vk/f22z063n5rl20ps172zv7gxm0000gn/T/ipykernel_13064/1535690992.py:6: DtypeWarning: Columns (37) have mixed types. Specify dtype option on import or set low_memory=False.\n",
      "  df1 = pd.read_csv('/Users/morainarthur/Home/Datascience/redbull-pit-strategy/data/CSV/lapweatherf1.csv')\n"
     ]
    },
    {
     "name": "stdout",
     "output_type": "stream",
     "text": [
      "106.69152064026949\n"
     ]
    },
    {
     "name": "stderr",
     "output_type": "stream",
     "text": [
      "/var/folders/vk/f22z063n5rl20ps172zv7gxm0000gn/T/ipykernel_13064/1535690992.py:6: DtypeWarning: Columns (37) have mixed types. Specify dtype option on import or set low_memory=False.\n",
      "  df1 = pd.read_csv('/Users/morainarthur/Home/Datascience/redbull-pit-strategy/data/CSV/lapweatherf1.csv')\n"
     ]
    },
    {
     "name": "stdout",
     "output_type": "stream",
     "text": [
      "75.73884492481203\n"
     ]
    },
    {
     "name": "stderr",
     "output_type": "stream",
     "text": [
      "/var/folders/vk/f22z063n5rl20ps172zv7gxm0000gn/T/ipykernel_13064/1535690992.py:6: DtypeWarning: Columns (37) have mixed types. Specify dtype option on import or set low_memory=False.\n",
      "  df1 = pd.read_csv('/Users/morainarthur/Home/Datascience/redbull-pit-strategy/data/CSV/lapweatherf1.csv')\n"
     ]
    },
    {
     "name": "stdout",
     "output_type": "stream",
     "text": [
      "93.48667871485945\n"
     ]
    },
    {
     "name": "stderr",
     "output_type": "stream",
     "text": [
      "/var/folders/vk/f22z063n5rl20ps172zv7gxm0000gn/T/ipykernel_13064/1535690992.py:6: DtypeWarning: Columns (37) have mixed types. Specify dtype option on import or set low_memory=False.\n",
      "  df1 = pd.read_csv('/Users/morainarthur/Home/Datascience/redbull-pit-strategy/data/CSV/lapweatherf1.csv')\n"
     ]
    },
    {
     "name": "stdout",
     "output_type": "stream",
     "text": [
      "98.55810615384614\n"
     ]
    },
    {
     "name": "stderr",
     "output_type": "stream",
     "text": [
      "/var/folders/vk/f22z063n5rl20ps172zv7gxm0000gn/T/ipykernel_13064/1535690992.py:6: DtypeWarning: Columns (37) have mixed types. Specify dtype option on import or set low_memory=False.\n",
      "  df1 = pd.read_csv('/Users/morainarthur/Home/Datascience/redbull-pit-strategy/data/CSV/lapweatherf1.csv')\n"
     ]
    },
    {
     "name": "stdout",
     "output_type": "stream",
     "text": [
      "91.05849039692691\n"
     ]
    },
    {
     "name": "stderr",
     "output_type": "stream",
     "text": [
      "/var/folders/vk/f22z063n5rl20ps172zv7gxm0000gn/T/ipykernel_13064/1535690992.py:6: DtypeWarning: Columns (37) have mixed types. Specify dtype option on import or set low_memory=False.\n",
      "  df1 = pd.read_csv('/Users/morainarthur/Home/Datascience/redbull-pit-strategy/data/CSV/lapweatherf1.csv')\n"
     ]
    },
    {
     "name": "stdout",
     "output_type": "stream",
     "text": [
      "73.04040280210168\n"
     ]
    },
    {
     "name": "stderr",
     "output_type": "stream",
     "text": [
      "/var/folders/vk/f22z063n5rl20ps172zv7gxm0000gn/T/ipykernel_13064/1535690992.py:6: DtypeWarning: Columns (37) have mixed types. Specify dtype option on import or set low_memory=False.\n",
      "  df1 = pd.read_csv('/Users/morainarthur/Home/Datascience/redbull-pit-strategy/data/CSV/lapweatherf1.csv')\n"
     ]
    },
    {
     "name": "stdout",
     "output_type": "stream",
     "text": [
      "109.02829732408335\n"
     ]
    },
    {
     "name": "stderr",
     "output_type": "stream",
     "text": [
      "/var/folders/vk/f22z063n5rl20ps172zv7gxm0000gn/T/ipykernel_13064/1535690992.py:6: DtypeWarning: Columns (37) have mixed types. Specify dtype option on import or set low_memory=False.\n",
      "  df1 = pd.read_csv('/Users/morainarthur/Home/Datascience/redbull-pit-strategy/data/CSV/lapweatherf1.csv')\n"
     ]
    },
    {
     "name": "stdout",
     "output_type": "stream",
     "text": [
      "98.72058275058279\n"
     ]
    },
    {
     "name": "stderr",
     "output_type": "stream",
     "text": [
      "/var/folders/vk/f22z063n5rl20ps172zv7gxm0000gn/T/ipykernel_13064/1535690992.py:6: DtypeWarning: Columns (37) have mixed types. Specify dtype option on import or set low_memory=False.\n",
      "  df1 = pd.read_csv('/Users/morainarthur/Home/Datascience/redbull-pit-strategy/data/CSV/lapweatherf1.csv')\n"
     ]
    },
    {
     "name": "stdout",
     "output_type": "stream",
     "text": [
      "106.69152064026949\n"
     ]
    },
    {
     "name": "stderr",
     "output_type": "stream",
     "text": [
      "/var/folders/vk/f22z063n5rl20ps172zv7gxm0000gn/T/ipykernel_13064/1535690992.py:6: DtypeWarning: Columns (37) have mixed types. Specify dtype option on import or set low_memory=False.\n",
      "  df1 = pd.read_csv('/Users/morainarthur/Home/Datascience/redbull-pit-strategy/data/CSV/lapweatherf1.csv')\n"
     ]
    },
    {
     "name": "stdout",
     "output_type": "stream",
     "text": [
      "75.73884492481203\n"
     ]
    },
    {
     "name": "stderr",
     "output_type": "stream",
     "text": [
      "/var/folders/vk/f22z063n5rl20ps172zv7gxm0000gn/T/ipykernel_13064/1535690992.py:6: DtypeWarning: Columns (37) have mixed types. Specify dtype option on import or set low_memory=False.\n",
      "  df1 = pd.read_csv('/Users/morainarthur/Home/Datascience/redbull-pit-strategy/data/CSV/lapweatherf1.csv')\n"
     ]
    },
    {
     "name": "stdout",
     "output_type": "stream",
     "text": [
      "93.48667871485945\n"
     ]
    },
    {
     "name": "stderr",
     "output_type": "stream",
     "text": [
      "/var/folders/vk/f22z063n5rl20ps172zv7gxm0000gn/T/ipykernel_13064/1535690992.py:6: DtypeWarning: Columns (37) have mixed types. Specify dtype option on import or set low_memory=False.\n",
      "  df1 = pd.read_csv('/Users/morainarthur/Home/Datascience/redbull-pit-strategy/data/CSV/lapweatherf1.csv')\n"
     ]
    },
    {
     "name": "stdout",
     "output_type": "stream",
     "text": [
      "81.63676911544222\n"
     ]
    },
    {
     "name": "stderr",
     "output_type": "stream",
     "text": [
      "/var/folders/vk/f22z063n5rl20ps172zv7gxm0000gn/T/ipykernel_13064/1535690992.py:6: DtypeWarning: Columns (37) have mixed types. Specify dtype option on import or set low_memory=False.\n",
      "  df1 = pd.read_csv('/Users/morainarthur/Home/Datascience/redbull-pit-strategy/data/CSV/lapweatherf1.csv')\n"
     ]
    },
    {
     "name": "stdout",
     "output_type": "stream",
     "text": [
      "98.55810615384614\n"
     ]
    },
    {
     "name": "stderr",
     "output_type": "stream",
     "text": [
      "/var/folders/vk/f22z063n5rl20ps172zv7gxm0000gn/T/ipykernel_13064/1535690992.py:6: DtypeWarning: Columns (37) have mixed types. Specify dtype option on import or set low_memory=False.\n",
      "  df1 = pd.read_csv('/Users/morainarthur/Home/Datascience/redbull-pit-strategy/data/CSV/lapweatherf1.csv')\n"
     ]
    },
    {
     "name": "stdout",
     "output_type": "stream",
     "text": [
      "91.05849039692691\n"
     ]
    },
    {
     "name": "stderr",
     "output_type": "stream",
     "text": [
      "/var/folders/vk/f22z063n5rl20ps172zv7gxm0000gn/T/ipykernel_13064/1535690992.py:6: DtypeWarning: Columns (37) have mixed types. Specify dtype option on import or set low_memory=False.\n",
      "  df1 = pd.read_csv('/Users/morainarthur/Home/Datascience/redbull-pit-strategy/data/CSV/lapweatherf1.csv')\n"
     ]
    },
    {
     "name": "stdout",
     "output_type": "stream",
     "text": [
      "73.04040280210168\n"
     ]
    },
    {
     "name": "stderr",
     "output_type": "stream",
     "text": [
      "/var/folders/vk/f22z063n5rl20ps172zv7gxm0000gn/T/ipykernel_13064/1535690992.py:6: DtypeWarning: Columns (37) have mixed types. Specify dtype option on import or set low_memory=False.\n",
      "  df1 = pd.read_csv('/Users/morainarthur/Home/Datascience/redbull-pit-strategy/data/CSV/lapweatherf1.csv')\n"
     ]
    },
    {
     "name": "stdout",
     "output_type": "stream",
     "text": [
      "109.02829732408335\n"
     ]
    },
    {
     "name": "stderr",
     "output_type": "stream",
     "text": [
      "/var/folders/vk/f22z063n5rl20ps172zv7gxm0000gn/T/ipykernel_13064/1535690992.py:6: DtypeWarning: Columns (37) have mixed types. Specify dtype option on import or set low_memory=False.\n",
      "  df1 = pd.read_csv('/Users/morainarthur/Home/Datascience/redbull-pit-strategy/data/CSV/lapweatherf1.csv')\n"
     ]
    },
    {
     "name": "stdout",
     "output_type": "stream",
     "text": [
      "98.72058275058279\n"
     ]
    },
    {
     "name": "stderr",
     "output_type": "stream",
     "text": [
      "/var/folders/vk/f22z063n5rl20ps172zv7gxm0000gn/T/ipykernel_13064/1535690992.py:6: DtypeWarning: Columns (37) have mixed types. Specify dtype option on import or set low_memory=False.\n",
      "  df1 = pd.read_csv('/Users/morainarthur/Home/Datascience/redbull-pit-strategy/data/CSV/lapweatherf1.csv')\n"
     ]
    },
    {
     "name": "stdout",
     "output_type": "stream",
     "text": [
      "106.69152064026949\n"
     ]
    },
    {
     "name": "stderr",
     "output_type": "stream",
     "text": [
      "/var/folders/vk/f22z063n5rl20ps172zv7gxm0000gn/T/ipykernel_13064/1535690992.py:6: DtypeWarning: Columns (37) have mixed types. Specify dtype option on import or set low_memory=False.\n",
      "  df1 = pd.read_csv('/Users/morainarthur/Home/Datascience/redbull-pit-strategy/data/CSV/lapweatherf1.csv')\n"
     ]
    },
    {
     "name": "stdout",
     "output_type": "stream",
     "text": [
      "75.73884492481203\n"
     ]
    },
    {
     "name": "stderr",
     "output_type": "stream",
     "text": [
      "/var/folders/vk/f22z063n5rl20ps172zv7gxm0000gn/T/ipykernel_13064/1535690992.py:6: DtypeWarning: Columns (37) have mixed types. Specify dtype option on import or set low_memory=False.\n",
      "  df1 = pd.read_csv('/Users/morainarthur/Home/Datascience/redbull-pit-strategy/data/CSV/lapweatherf1.csv')\n"
     ]
    },
    {
     "name": "stdout",
     "output_type": "stream",
     "text": [
      "93.48667871485945\n"
     ]
    },
    {
     "name": "stderr",
     "output_type": "stream",
     "text": [
      "/var/folders/vk/f22z063n5rl20ps172zv7gxm0000gn/T/ipykernel_13064/1535690992.py:6: DtypeWarning: Columns (37) have mixed types. Specify dtype option on import or set low_memory=False.\n",
      "  df1 = pd.read_csv('/Users/morainarthur/Home/Datascience/redbull-pit-strategy/data/CSV/lapweatherf1.csv')\n"
     ]
    },
    {
     "name": "stdout",
     "output_type": "stream",
     "text": [
      "81.63676911544222\n"
     ]
    },
    {
     "name": "stderr",
     "output_type": "stream",
     "text": [
      "/var/folders/vk/f22z063n5rl20ps172zv7gxm0000gn/T/ipykernel_13064/1535690992.py:6: DtypeWarning: Columns (37) have mixed types. Specify dtype option on import or set low_memory=False.\n",
      "  df1 = pd.read_csv('/Users/morainarthur/Home/Datascience/redbull-pit-strategy/data/CSV/lapweatherf1.csv')\n"
     ]
    },
    {
     "name": "stdout",
     "output_type": "stream",
     "text": [
      "97.71412540716615\n"
     ]
    },
    {
     "name": "stderr",
     "output_type": "stream",
     "text": [
      "/var/folders/vk/f22z063n5rl20ps172zv7gxm0000gn/T/ipykernel_13064/1535690992.py:6: DtypeWarning: Columns (37) have mixed types. Specify dtype option on import or set low_memory=False.\n",
      "  df1 = pd.read_csv('/Users/morainarthur/Home/Datascience/redbull-pit-strategy/data/CSV/lapweatherf1.csv')\n"
     ]
    },
    {
     "name": "stdout",
     "output_type": "stream",
     "text": [
      "98.55810615384614\n"
     ]
    },
    {
     "name": "stderr",
     "output_type": "stream",
     "text": [
      "/var/folders/vk/f22z063n5rl20ps172zv7gxm0000gn/T/ipykernel_13064/1535690992.py:6: DtypeWarning: Columns (37) have mixed types. Specify dtype option on import or set low_memory=False.\n",
      "  df1 = pd.read_csv('/Users/morainarthur/Home/Datascience/redbull-pit-strategy/data/CSV/lapweatherf1.csv')\n"
     ]
    },
    {
     "name": "stdout",
     "output_type": "stream",
     "text": [
      "91.05849039692691\n"
     ]
    },
    {
     "name": "stderr",
     "output_type": "stream",
     "text": [
      "/var/folders/vk/f22z063n5rl20ps172zv7gxm0000gn/T/ipykernel_13064/1535690992.py:6: DtypeWarning: Columns (37) have mixed types. Specify dtype option on import or set low_memory=False.\n",
      "  df1 = pd.read_csv('/Users/morainarthur/Home/Datascience/redbull-pit-strategy/data/CSV/lapweatherf1.csv')\n"
     ]
    },
    {
     "name": "stdout",
     "output_type": "stream",
     "text": [
      "73.04040280210168\n"
     ]
    },
    {
     "name": "stderr",
     "output_type": "stream",
     "text": [
      "/var/folders/vk/f22z063n5rl20ps172zv7gxm0000gn/T/ipykernel_13064/1535690992.py:6: DtypeWarning: Columns (37) have mixed types. Specify dtype option on import or set low_memory=False.\n",
      "  df1 = pd.read_csv('/Users/morainarthur/Home/Datascience/redbull-pit-strategy/data/CSV/lapweatherf1.csv')\n"
     ]
    },
    {
     "name": "stdout",
     "output_type": "stream",
     "text": [
      "109.02829732408335\n"
     ]
    },
    {
     "name": "stderr",
     "output_type": "stream",
     "text": [
      "/var/folders/vk/f22z063n5rl20ps172zv7gxm0000gn/T/ipykernel_13064/1535690992.py:6: DtypeWarning: Columns (37) have mixed types. Specify dtype option on import or set low_memory=False.\n",
      "  df1 = pd.read_csv('/Users/morainarthur/Home/Datascience/redbull-pit-strategy/data/CSV/lapweatherf1.csv')\n"
     ]
    },
    {
     "name": "stdout",
     "output_type": "stream",
     "text": [
      "98.72058275058279\n"
     ]
    },
    {
     "name": "stderr",
     "output_type": "stream",
     "text": [
      "/var/folders/vk/f22z063n5rl20ps172zv7gxm0000gn/T/ipykernel_13064/1535690992.py:6: DtypeWarning: Columns (37) have mixed types. Specify dtype option on import or set low_memory=False.\n",
      "  df1 = pd.read_csv('/Users/morainarthur/Home/Datascience/redbull-pit-strategy/data/CSV/lapweatherf1.csv')\n"
     ]
    },
    {
     "name": "stdout",
     "output_type": "stream",
     "text": [
      "106.69152064026949\n"
     ]
    },
    {
     "name": "stderr",
     "output_type": "stream",
     "text": [
      "/var/folders/vk/f22z063n5rl20ps172zv7gxm0000gn/T/ipykernel_13064/1535690992.py:6: DtypeWarning: Columns (37) have mixed types. Specify dtype option on import or set low_memory=False.\n",
      "  df1 = pd.read_csv('/Users/morainarthur/Home/Datascience/redbull-pit-strategy/data/CSV/lapweatherf1.csv')\n"
     ]
    },
    {
     "name": "stdout",
     "output_type": "stream",
     "text": [
      "75.73884492481203\n"
     ]
    },
    {
     "name": "stderr",
     "output_type": "stream",
     "text": [
      "/var/folders/vk/f22z063n5rl20ps172zv7gxm0000gn/T/ipykernel_13064/1535690992.py:6: DtypeWarning: Columns (37) have mixed types. Specify dtype option on import or set low_memory=False.\n",
      "  df1 = pd.read_csv('/Users/morainarthur/Home/Datascience/redbull-pit-strategy/data/CSV/lapweatherf1.csv')\n"
     ]
    },
    {
     "name": "stdout",
     "output_type": "stream",
     "text": [
      "93.48667871485945\n"
     ]
    },
    {
     "name": "stderr",
     "output_type": "stream",
     "text": [
      "/var/folders/vk/f22z063n5rl20ps172zv7gxm0000gn/T/ipykernel_13064/1535690992.py:6: DtypeWarning: Columns (37) have mixed types. Specify dtype option on import or set low_memory=False.\n",
      "  df1 = pd.read_csv('/Users/morainarthur/Home/Datascience/redbull-pit-strategy/data/CSV/lapweatherf1.csv')\n"
     ]
    },
    {
     "name": "stdout",
     "output_type": "stream",
     "text": [
      "81.63676911544222\n"
     ]
    },
    {
     "name": "stderr",
     "output_type": "stream",
     "text": [
      "/var/folders/vk/f22z063n5rl20ps172zv7gxm0000gn/T/ipykernel_13064/1535690992.py:6: DtypeWarning: Columns (37) have mixed types. Specify dtype option on import or set low_memory=False.\n",
      "  df1 = pd.read_csv('/Users/morainarthur/Home/Datascience/redbull-pit-strategy/data/CSV/lapweatherf1.csv')\n"
     ]
    },
    {
     "name": "stdout",
     "output_type": "stream",
     "text": [
      "97.71412540716615\n"
     ]
    },
    {
     "name": "stderr",
     "output_type": "stream",
     "text": [
      "/var/folders/vk/f22z063n5rl20ps172zv7gxm0000gn/T/ipykernel_13064/1535690992.py:6: DtypeWarning: Columns (37) have mixed types. Specify dtype option on import or set low_memory=False.\n",
      "  df1 = pd.read_csv('/Users/morainarthur/Home/Datascience/redbull-pit-strategy/data/CSV/lapweatherf1.csv')\n"
     ]
    },
    {
     "name": "stdout",
     "output_type": "stream",
     "text": [
      "78.14083285024152\n"
     ]
    },
    {
     "name": "stderr",
     "output_type": "stream",
     "text": [
      "/var/folders/vk/f22z063n5rl20ps172zv7gxm0000gn/T/ipykernel_13064/1535690992.py:6: DtypeWarning: Columns (37) have mixed types. Specify dtype option on import or set low_memory=False.\n",
      "  df1 = pd.read_csv('/Users/morainarthur/Home/Datascience/redbull-pit-strategy/data/CSV/lapweatherf1.csv')\n"
     ]
    },
    {
     "name": "stdout",
     "output_type": "stream",
     "text": [
      "98.55810615384614\n"
     ]
    },
    {
     "name": "stderr",
     "output_type": "stream",
     "text": [
      "/var/folders/vk/f22z063n5rl20ps172zv7gxm0000gn/T/ipykernel_13064/1535690992.py:6: DtypeWarning: Columns (37) have mixed types. Specify dtype option on import or set low_memory=False.\n",
      "  df1 = pd.read_csv('/Users/morainarthur/Home/Datascience/redbull-pit-strategy/data/CSV/lapweatherf1.csv')\n"
     ]
    },
    {
     "name": "stdout",
     "output_type": "stream",
     "text": [
      "91.05849039692691\n"
     ]
    },
    {
     "name": "stderr",
     "output_type": "stream",
     "text": [
      "/var/folders/vk/f22z063n5rl20ps172zv7gxm0000gn/T/ipykernel_13064/1535690992.py:6: DtypeWarning: Columns (37) have mixed types. Specify dtype option on import or set low_memory=False.\n",
      "  df1 = pd.read_csv('/Users/morainarthur/Home/Datascience/redbull-pit-strategy/data/CSV/lapweatherf1.csv')\n"
     ]
    },
    {
     "name": "stdout",
     "output_type": "stream",
     "text": [
      "73.04040280210168\n"
     ]
    },
    {
     "name": "stderr",
     "output_type": "stream",
     "text": [
      "/var/folders/vk/f22z063n5rl20ps172zv7gxm0000gn/T/ipykernel_13064/1535690992.py:6: DtypeWarning: Columns (37) have mixed types. Specify dtype option on import or set low_memory=False.\n",
      "  df1 = pd.read_csv('/Users/morainarthur/Home/Datascience/redbull-pit-strategy/data/CSV/lapweatherf1.csv')\n"
     ]
    },
    {
     "name": "stdout",
     "output_type": "stream",
     "text": [
      "109.02829732408335\n"
     ]
    },
    {
     "name": "stderr",
     "output_type": "stream",
     "text": [
      "/var/folders/vk/f22z063n5rl20ps172zv7gxm0000gn/T/ipykernel_13064/1535690992.py:6: DtypeWarning: Columns (37) have mixed types. Specify dtype option on import or set low_memory=False.\n",
      "  df1 = pd.read_csv('/Users/morainarthur/Home/Datascience/redbull-pit-strategy/data/CSV/lapweatherf1.csv')\n"
     ]
    },
    {
     "name": "stdout",
     "output_type": "stream",
     "text": [
      "98.72058275058279\n"
     ]
    },
    {
     "name": "stderr",
     "output_type": "stream",
     "text": [
      "/var/folders/vk/f22z063n5rl20ps172zv7gxm0000gn/T/ipykernel_13064/1535690992.py:6: DtypeWarning: Columns (37) have mixed types. Specify dtype option on import or set low_memory=False.\n",
      "  df1 = pd.read_csv('/Users/morainarthur/Home/Datascience/redbull-pit-strategy/data/CSV/lapweatherf1.csv')\n"
     ]
    },
    {
     "name": "stdout",
     "output_type": "stream",
     "text": [
      "106.69152064026949\n"
     ]
    },
    {
     "name": "stderr",
     "output_type": "stream",
     "text": [
      "/var/folders/vk/f22z063n5rl20ps172zv7gxm0000gn/T/ipykernel_13064/1535690992.py:6: DtypeWarning: Columns (37) have mixed types. Specify dtype option on import or set low_memory=False.\n",
      "  df1 = pd.read_csv('/Users/morainarthur/Home/Datascience/redbull-pit-strategy/data/CSV/lapweatherf1.csv')\n"
     ]
    },
    {
     "name": "stdout",
     "output_type": "stream",
     "text": [
      "75.73884492481203\n"
     ]
    },
    {
     "name": "stderr",
     "output_type": "stream",
     "text": [
      "/var/folders/vk/f22z063n5rl20ps172zv7gxm0000gn/T/ipykernel_13064/1535690992.py:6: DtypeWarning: Columns (37) have mixed types. Specify dtype option on import or set low_memory=False.\n",
      "  df1 = pd.read_csv('/Users/morainarthur/Home/Datascience/redbull-pit-strategy/data/CSV/lapweatherf1.csv')\n"
     ]
    },
    {
     "name": "stdout",
     "output_type": "stream",
     "text": [
      "93.48667871485945\n"
     ]
    },
    {
     "name": "stderr",
     "output_type": "stream",
     "text": [
      "/var/folders/vk/f22z063n5rl20ps172zv7gxm0000gn/T/ipykernel_13064/1535690992.py:6: DtypeWarning: Columns (37) have mixed types. Specify dtype option on import or set low_memory=False.\n",
      "  df1 = pd.read_csv('/Users/morainarthur/Home/Datascience/redbull-pit-strategy/data/CSV/lapweatherf1.csv')\n"
     ]
    },
    {
     "name": "stdout",
     "output_type": "stream",
     "text": [
      "81.63676911544222\n"
     ]
    },
    {
     "name": "stderr",
     "output_type": "stream",
     "text": [
      "/var/folders/vk/f22z063n5rl20ps172zv7gxm0000gn/T/ipykernel_13064/1535690992.py:6: DtypeWarning: Columns (37) have mixed types. Specify dtype option on import or set low_memory=False.\n",
      "  df1 = pd.read_csv('/Users/morainarthur/Home/Datascience/redbull-pit-strategy/data/CSV/lapweatherf1.csv')\n"
     ]
    },
    {
     "name": "stdout",
     "output_type": "stream",
     "text": [
      "97.71412540716615\n"
     ]
    },
    {
     "name": "stderr",
     "output_type": "stream",
     "text": [
      "/var/folders/vk/f22z063n5rl20ps172zv7gxm0000gn/T/ipykernel_13064/1535690992.py:6: DtypeWarning: Columns (37) have mixed types. Specify dtype option on import or set low_memory=False.\n",
      "  df1 = pd.read_csv('/Users/morainarthur/Home/Datascience/redbull-pit-strategy/data/CSV/lapweatherf1.csv')\n"
     ]
    },
    {
     "name": "stdout",
     "output_type": "stream",
     "text": [
      "78.14083285024152\n"
     ]
    },
    {
     "name": "stderr",
     "output_type": "stream",
     "text": [
      "/var/folders/vk/f22z063n5rl20ps172zv7gxm0000gn/T/ipykernel_13064/1535690992.py:6: DtypeWarning: Columns (37) have mixed types. Specify dtype option on import or set low_memory=False.\n",
      "  df1 = pd.read_csv('/Users/morainarthur/Home/Datascience/redbull-pit-strategy/data/CSV/lapweatherf1.csv')\n"
     ]
    },
    {
     "name": "stdout",
     "output_type": "stream",
     "text": [
      "100.18632838427956\n"
     ]
    },
    {
     "name": "stderr",
     "output_type": "stream",
     "text": [
      "/var/folders/vk/f22z063n5rl20ps172zv7gxm0000gn/T/ipykernel_13064/1535690992.py:6: DtypeWarning: Columns (37) have mixed types. Specify dtype option on import or set low_memory=False.\n",
      "  df1 = pd.read_csv('/Users/morainarthur/Home/Datascience/redbull-pit-strategy/data/CSV/lapweatherf1.csv')\n"
     ]
    },
    {
     "name": "stdout",
     "output_type": "stream",
     "text": [
      "98.55810615384614\n"
     ]
    },
    {
     "name": "stderr",
     "output_type": "stream",
     "text": [
      "/var/folders/vk/f22z063n5rl20ps172zv7gxm0000gn/T/ipykernel_13064/1535690992.py:6: DtypeWarning: Columns (37) have mixed types. Specify dtype option on import or set low_memory=False.\n",
      "  df1 = pd.read_csv('/Users/morainarthur/Home/Datascience/redbull-pit-strategy/data/CSV/lapweatherf1.csv')\n"
     ]
    },
    {
     "name": "stdout",
     "output_type": "stream",
     "text": [
      "91.05849039692691\n"
     ]
    },
    {
     "name": "stderr",
     "output_type": "stream",
     "text": [
      "/var/folders/vk/f22z063n5rl20ps172zv7gxm0000gn/T/ipykernel_13064/1535690992.py:6: DtypeWarning: Columns (37) have mixed types. Specify dtype option on import or set low_memory=False.\n",
      "  df1 = pd.read_csv('/Users/morainarthur/Home/Datascience/redbull-pit-strategy/data/CSV/lapweatherf1.csv')\n"
     ]
    },
    {
     "name": "stdout",
     "output_type": "stream",
     "text": [
      "73.04040280210168\n"
     ]
    },
    {
     "name": "stderr",
     "output_type": "stream",
     "text": [
      "/var/folders/vk/f22z063n5rl20ps172zv7gxm0000gn/T/ipykernel_13064/1535690992.py:6: DtypeWarning: Columns (37) have mixed types. Specify dtype option on import or set low_memory=False.\n",
      "  df1 = pd.read_csv('/Users/morainarthur/Home/Datascience/redbull-pit-strategy/data/CSV/lapweatherf1.csv')\n"
     ]
    },
    {
     "name": "stdout",
     "output_type": "stream",
     "text": [
      "109.02829732408335\n"
     ]
    },
    {
     "name": "stderr",
     "output_type": "stream",
     "text": [
      "/var/folders/vk/f22z063n5rl20ps172zv7gxm0000gn/T/ipykernel_13064/1535690992.py:6: DtypeWarning: Columns (37) have mixed types. Specify dtype option on import or set low_memory=False.\n",
      "  df1 = pd.read_csv('/Users/morainarthur/Home/Datascience/redbull-pit-strategy/data/CSV/lapweatherf1.csv')\n"
     ]
    },
    {
     "name": "stdout",
     "output_type": "stream",
     "text": [
      "98.72058275058279\n"
     ]
    },
    {
     "name": "stderr",
     "output_type": "stream",
     "text": [
      "/var/folders/vk/f22z063n5rl20ps172zv7gxm0000gn/T/ipykernel_13064/1535690992.py:6: DtypeWarning: Columns (37) have mixed types. Specify dtype option on import or set low_memory=False.\n",
      "  df1 = pd.read_csv('/Users/morainarthur/Home/Datascience/redbull-pit-strategy/data/CSV/lapweatherf1.csv')\n"
     ]
    },
    {
     "name": "stdout",
     "output_type": "stream",
     "text": [
      "106.69152064026949\n"
     ]
    },
    {
     "name": "stderr",
     "output_type": "stream",
     "text": [
      "/var/folders/vk/f22z063n5rl20ps172zv7gxm0000gn/T/ipykernel_13064/1535690992.py:6: DtypeWarning: Columns (37) have mixed types. Specify dtype option on import or set low_memory=False.\n",
      "  df1 = pd.read_csv('/Users/morainarthur/Home/Datascience/redbull-pit-strategy/data/CSV/lapweatherf1.csv')\n"
     ]
    },
    {
     "name": "stdout",
     "output_type": "stream",
     "text": [
      "75.73884492481203\n"
     ]
    },
    {
     "name": "stderr",
     "output_type": "stream",
     "text": [
      "/var/folders/vk/f22z063n5rl20ps172zv7gxm0000gn/T/ipykernel_13064/1535690992.py:6: DtypeWarning: Columns (37) have mixed types. Specify dtype option on import or set low_memory=False.\n",
      "  df1 = pd.read_csv('/Users/morainarthur/Home/Datascience/redbull-pit-strategy/data/CSV/lapweatherf1.csv')\n"
     ]
    },
    {
     "name": "stdout",
     "output_type": "stream",
     "text": [
      "93.48667871485945\n"
     ]
    },
    {
     "name": "stderr",
     "output_type": "stream",
     "text": [
      "/var/folders/vk/f22z063n5rl20ps172zv7gxm0000gn/T/ipykernel_13064/1535690992.py:6: DtypeWarning: Columns (37) have mixed types. Specify dtype option on import or set low_memory=False.\n",
      "  df1 = pd.read_csv('/Users/morainarthur/Home/Datascience/redbull-pit-strategy/data/CSV/lapweatherf1.csv')\n"
     ]
    },
    {
     "name": "stdout",
     "output_type": "stream",
     "text": [
      "81.63676911544222\n"
     ]
    },
    {
     "name": "stderr",
     "output_type": "stream",
     "text": [
      "/var/folders/vk/f22z063n5rl20ps172zv7gxm0000gn/T/ipykernel_13064/1535690992.py:6: DtypeWarning: Columns (37) have mixed types. Specify dtype option on import or set low_memory=False.\n",
      "  df1 = pd.read_csv('/Users/morainarthur/Home/Datascience/redbull-pit-strategy/data/CSV/lapweatherf1.csv')\n"
     ]
    },
    {
     "name": "stdout",
     "output_type": "stream",
     "text": [
      "97.71412540716615\n"
     ]
    },
    {
     "name": "stderr",
     "output_type": "stream",
     "text": [
      "/var/folders/vk/f22z063n5rl20ps172zv7gxm0000gn/T/ipykernel_13064/1535690992.py:6: DtypeWarning: Columns (37) have mixed types. Specify dtype option on import or set low_memory=False.\n",
      "  df1 = pd.read_csv('/Users/morainarthur/Home/Datascience/redbull-pit-strategy/data/CSV/lapweatherf1.csv')\n"
     ]
    },
    {
     "name": "stdout",
     "output_type": "stream",
     "text": [
      "78.14083285024152\n"
     ]
    },
    {
     "name": "stderr",
     "output_type": "stream",
     "text": [
      "/var/folders/vk/f22z063n5rl20ps172zv7gxm0000gn/T/ipykernel_13064/1535690992.py:6: DtypeWarning: Columns (37) have mixed types. Specify dtype option on import or set low_memory=False.\n",
      "  df1 = pd.read_csv('/Users/morainarthur/Home/Datascience/redbull-pit-strategy/data/CSV/lapweatherf1.csv')\n"
     ]
    },
    {
     "name": "stdout",
     "output_type": "stream",
     "text": [
      "100.18632838427956\n"
     ]
    },
    {
     "name": "stderr",
     "output_type": "stream",
     "text": [
      "/var/folders/vk/f22z063n5rl20ps172zv7gxm0000gn/T/ipykernel_13064/1535690992.py:6: DtypeWarning: Columns (37) have mixed types. Specify dtype option on import or set low_memory=False.\n",
      "  df1 = pd.read_csv('/Users/morainarthur/Home/Datascience/redbull-pit-strategy/data/CSV/lapweatherf1.csv')\n"
     ]
    },
    {
     "name": "stdout",
     "output_type": "stream",
     "text": [
      "85.12230352084173\n"
     ]
    },
    {
     "name": "stderr",
     "output_type": "stream",
     "text": [
      "/var/folders/vk/f22z063n5rl20ps172zv7gxm0000gn/T/ipykernel_13064/1535690992.py:6: DtypeWarning: Columns (37) have mixed types. Specify dtype option on import or set low_memory=False.\n",
      "  df1 = pd.read_csv('/Users/morainarthur/Home/Datascience/redbull-pit-strategy/data/CSV/lapweatherf1.csv')\n"
     ]
    },
    {
     "name": "stdout",
     "output_type": "stream",
     "text": [
      "98.55810615384614\n"
     ]
    },
    {
     "name": "stderr",
     "output_type": "stream",
     "text": [
      "/var/folders/vk/f22z063n5rl20ps172zv7gxm0000gn/T/ipykernel_13064/1535690992.py:6: DtypeWarning: Columns (37) have mixed types. Specify dtype option on import or set low_memory=False.\n",
      "  df1 = pd.read_csv('/Users/morainarthur/Home/Datascience/redbull-pit-strategy/data/CSV/lapweatherf1.csv')\n"
     ]
    },
    {
     "name": "stdout",
     "output_type": "stream",
     "text": [
      "91.05849039692691\n"
     ]
    },
    {
     "name": "stderr",
     "output_type": "stream",
     "text": [
      "/var/folders/vk/f22z063n5rl20ps172zv7gxm0000gn/T/ipykernel_13064/1535690992.py:6: DtypeWarning: Columns (37) have mixed types. Specify dtype option on import or set low_memory=False.\n",
      "  df1 = pd.read_csv('/Users/morainarthur/Home/Datascience/redbull-pit-strategy/data/CSV/lapweatherf1.csv')\n"
     ]
    },
    {
     "name": "stdout",
     "output_type": "stream",
     "text": [
      "73.04040280210168\n"
     ]
    },
    {
     "name": "stderr",
     "output_type": "stream",
     "text": [
      "/var/folders/vk/f22z063n5rl20ps172zv7gxm0000gn/T/ipykernel_13064/1535690992.py:6: DtypeWarning: Columns (37) have mixed types. Specify dtype option on import or set low_memory=False.\n",
      "  df1 = pd.read_csv('/Users/morainarthur/Home/Datascience/redbull-pit-strategy/data/CSV/lapweatherf1.csv')\n"
     ]
    },
    {
     "name": "stdout",
     "output_type": "stream",
     "text": [
      "109.02829732408335\n"
     ]
    },
    {
     "name": "stderr",
     "output_type": "stream",
     "text": [
      "/var/folders/vk/f22z063n5rl20ps172zv7gxm0000gn/T/ipykernel_13064/1535690992.py:6: DtypeWarning: Columns (37) have mixed types. Specify dtype option on import or set low_memory=False.\n",
      "  df1 = pd.read_csv('/Users/morainarthur/Home/Datascience/redbull-pit-strategy/data/CSV/lapweatherf1.csv')\n"
     ]
    },
    {
     "name": "stdout",
     "output_type": "stream",
     "text": [
      "98.72058275058279\n"
     ]
    },
    {
     "name": "stderr",
     "output_type": "stream",
     "text": [
      "/var/folders/vk/f22z063n5rl20ps172zv7gxm0000gn/T/ipykernel_13064/1535690992.py:6: DtypeWarning: Columns (37) have mixed types. Specify dtype option on import or set low_memory=False.\n",
      "  df1 = pd.read_csv('/Users/morainarthur/Home/Datascience/redbull-pit-strategy/data/CSV/lapweatherf1.csv')\n"
     ]
    },
    {
     "name": "stdout",
     "output_type": "stream",
     "text": [
      "106.69152064026949\n"
     ]
    },
    {
     "name": "stderr",
     "output_type": "stream",
     "text": [
      "/var/folders/vk/f22z063n5rl20ps172zv7gxm0000gn/T/ipykernel_13064/1535690992.py:6: DtypeWarning: Columns (37) have mixed types. Specify dtype option on import or set low_memory=False.\n",
      "  df1 = pd.read_csv('/Users/morainarthur/Home/Datascience/redbull-pit-strategy/data/CSV/lapweatherf1.csv')\n"
     ]
    },
    {
     "name": "stdout",
     "output_type": "stream",
     "text": [
      "75.73884492481203\n"
     ]
    },
    {
     "name": "stderr",
     "output_type": "stream",
     "text": [
      "/var/folders/vk/f22z063n5rl20ps172zv7gxm0000gn/T/ipykernel_13064/1535690992.py:6: DtypeWarning: Columns (37) have mixed types. Specify dtype option on import or set low_memory=False.\n",
      "  df1 = pd.read_csv('/Users/morainarthur/Home/Datascience/redbull-pit-strategy/data/CSV/lapweatherf1.csv')\n"
     ]
    },
    {
     "name": "stdout",
     "output_type": "stream",
     "text": [
      "93.48667871485945\n"
     ]
    },
    {
     "name": "stderr",
     "output_type": "stream",
     "text": [
      "/var/folders/vk/f22z063n5rl20ps172zv7gxm0000gn/T/ipykernel_13064/1535690992.py:6: DtypeWarning: Columns (37) have mixed types. Specify dtype option on import or set low_memory=False.\n",
      "  df1 = pd.read_csv('/Users/morainarthur/Home/Datascience/redbull-pit-strategy/data/CSV/lapweatherf1.csv')\n"
     ]
    },
    {
     "name": "stdout",
     "output_type": "stream",
     "text": [
      "81.63676911544222\n"
     ]
    },
    {
     "name": "stderr",
     "output_type": "stream",
     "text": [
      "/var/folders/vk/f22z063n5rl20ps172zv7gxm0000gn/T/ipykernel_13064/1535690992.py:6: DtypeWarning: Columns (37) have mixed types. Specify dtype option on import or set low_memory=False.\n",
      "  df1 = pd.read_csv('/Users/morainarthur/Home/Datascience/redbull-pit-strategy/data/CSV/lapweatherf1.csv')\n"
     ]
    },
    {
     "name": "stdout",
     "output_type": "stream",
     "text": [
      "97.71412540716615\n"
     ]
    },
    {
     "name": "stderr",
     "output_type": "stream",
     "text": [
      "/var/folders/vk/f22z063n5rl20ps172zv7gxm0000gn/T/ipykernel_13064/1535690992.py:6: DtypeWarning: Columns (37) have mixed types. Specify dtype option on import or set low_memory=False.\n",
      "  df1 = pd.read_csv('/Users/morainarthur/Home/Datascience/redbull-pit-strategy/data/CSV/lapweatherf1.csv')\n"
     ]
    },
    {
     "name": "stdout",
     "output_type": "stream",
     "text": [
      "78.14083285024152\n"
     ]
    },
    {
     "name": "stderr",
     "output_type": "stream",
     "text": [
      "/var/folders/vk/f22z063n5rl20ps172zv7gxm0000gn/T/ipykernel_13064/1535690992.py:6: DtypeWarning: Columns (37) have mixed types. Specify dtype option on import or set low_memory=False.\n",
      "  df1 = pd.read_csv('/Users/morainarthur/Home/Datascience/redbull-pit-strategy/data/CSV/lapweatherf1.csv')\n"
     ]
    },
    {
     "name": "stdout",
     "output_type": "stream",
     "text": [
      "100.18632838427956\n"
     ]
    },
    {
     "name": "stderr",
     "output_type": "stream",
     "text": [
      "/var/folders/vk/f22z063n5rl20ps172zv7gxm0000gn/T/ipykernel_13064/1535690992.py:6: DtypeWarning: Columns (37) have mixed types. Specify dtype option on import or set low_memory=False.\n",
      "  df1 = pd.read_csv('/Users/morainarthur/Home/Datascience/redbull-pit-strategy/data/CSV/lapweatherf1.csv')\n"
     ]
    },
    {
     "name": "stdout",
     "output_type": "stream",
     "text": [
      "85.12230352084173\n"
     ]
    },
    {
     "name": "stderr",
     "output_type": "stream",
     "text": [
      "/var/folders/vk/f22z063n5rl20ps172zv7gxm0000gn/T/ipykernel_13064/1535690992.py:6: DtypeWarning: Columns (37) have mixed types. Specify dtype option on import or set low_memory=False.\n",
      "  df1 = pd.read_csv('/Users/morainarthur/Home/Datascience/redbull-pit-strategy/data/CSV/lapweatherf1.csv')\n"
     ]
    },
    {
     "name": "stdout",
     "output_type": "stream",
     "text": [
      "87.39901781737174\n"
     ]
    },
    {
     "name": "stderr",
     "output_type": "stream",
     "text": [
      "/var/folders/vk/f22z063n5rl20ps172zv7gxm0000gn/T/ipykernel_13064/1535690992.py:6: DtypeWarning: Columns (37) have mixed types. Specify dtype option on import or set low_memory=False.\n",
      "  df1 = pd.read_csv('/Users/morainarthur/Home/Datascience/redbull-pit-strategy/data/CSV/lapweatherf1.csv')\n"
     ]
    },
    {
     "name": "stdout",
     "output_type": "stream",
     "text": [
      "98.55810615384614\n"
     ]
    },
    {
     "name": "stderr",
     "output_type": "stream",
     "text": [
      "/var/folders/vk/f22z063n5rl20ps172zv7gxm0000gn/T/ipykernel_13064/1535690992.py:6: DtypeWarning: Columns (37) have mixed types. Specify dtype option on import or set low_memory=False.\n",
      "  df1 = pd.read_csv('/Users/morainarthur/Home/Datascience/redbull-pit-strategy/data/CSV/lapweatherf1.csv')\n"
     ]
    },
    {
     "name": "stdout",
     "output_type": "stream",
     "text": [
      "91.05849039692691\n"
     ]
    },
    {
     "name": "stderr",
     "output_type": "stream",
     "text": [
      "/var/folders/vk/f22z063n5rl20ps172zv7gxm0000gn/T/ipykernel_13064/1535690992.py:6: DtypeWarning: Columns (37) have mixed types. Specify dtype option on import or set low_memory=False.\n",
      "  df1 = pd.read_csv('/Users/morainarthur/Home/Datascience/redbull-pit-strategy/data/CSV/lapweatherf1.csv')\n"
     ]
    },
    {
     "name": "stdout",
     "output_type": "stream",
     "text": [
      "73.04040280210168\n"
     ]
    },
    {
     "name": "stderr",
     "output_type": "stream",
     "text": [
      "/var/folders/vk/f22z063n5rl20ps172zv7gxm0000gn/T/ipykernel_13064/1535690992.py:6: DtypeWarning: Columns (37) have mixed types. Specify dtype option on import or set low_memory=False.\n",
      "  df1 = pd.read_csv('/Users/morainarthur/Home/Datascience/redbull-pit-strategy/data/CSV/lapweatherf1.csv')\n"
     ]
    },
    {
     "name": "stdout",
     "output_type": "stream",
     "text": [
      "109.02829732408335\n"
     ]
    },
    {
     "name": "stderr",
     "output_type": "stream",
     "text": [
      "/var/folders/vk/f22z063n5rl20ps172zv7gxm0000gn/T/ipykernel_13064/1535690992.py:6: DtypeWarning: Columns (37) have mixed types. Specify dtype option on import or set low_memory=False.\n",
      "  df1 = pd.read_csv('/Users/morainarthur/Home/Datascience/redbull-pit-strategy/data/CSV/lapweatherf1.csv')\n"
     ]
    },
    {
     "name": "stdout",
     "output_type": "stream",
     "text": [
      "98.72058275058279\n"
     ]
    },
    {
     "name": "stderr",
     "output_type": "stream",
     "text": [
      "/var/folders/vk/f22z063n5rl20ps172zv7gxm0000gn/T/ipykernel_13064/1535690992.py:6: DtypeWarning: Columns (37) have mixed types. Specify dtype option on import or set low_memory=False.\n",
      "  df1 = pd.read_csv('/Users/morainarthur/Home/Datascience/redbull-pit-strategy/data/CSV/lapweatherf1.csv')\n"
     ]
    },
    {
     "name": "stdout",
     "output_type": "stream",
     "text": [
      "106.69152064026949\n"
     ]
    },
    {
     "name": "stderr",
     "output_type": "stream",
     "text": [
      "/var/folders/vk/f22z063n5rl20ps172zv7gxm0000gn/T/ipykernel_13064/1535690992.py:6: DtypeWarning: Columns (37) have mixed types. Specify dtype option on import or set low_memory=False.\n",
      "  df1 = pd.read_csv('/Users/morainarthur/Home/Datascience/redbull-pit-strategy/data/CSV/lapweatherf1.csv')\n"
     ]
    },
    {
     "name": "stdout",
     "output_type": "stream",
     "text": [
      "75.73884492481203\n"
     ]
    },
    {
     "name": "stderr",
     "output_type": "stream",
     "text": [
      "/var/folders/vk/f22z063n5rl20ps172zv7gxm0000gn/T/ipykernel_13064/1535690992.py:6: DtypeWarning: Columns (37) have mixed types. Specify dtype option on import or set low_memory=False.\n",
      "  df1 = pd.read_csv('/Users/morainarthur/Home/Datascience/redbull-pit-strategy/data/CSV/lapweatherf1.csv')\n"
     ]
    },
    {
     "name": "stdout",
     "output_type": "stream",
     "text": [
      "93.48667871485945\n"
     ]
    },
    {
     "name": "stderr",
     "output_type": "stream",
     "text": [
      "/var/folders/vk/f22z063n5rl20ps172zv7gxm0000gn/T/ipykernel_13064/1535690992.py:6: DtypeWarning: Columns (37) have mixed types. Specify dtype option on import or set low_memory=False.\n",
      "  df1 = pd.read_csv('/Users/morainarthur/Home/Datascience/redbull-pit-strategy/data/CSV/lapweatherf1.csv')\n"
     ]
    },
    {
     "name": "stdout",
     "output_type": "stream",
     "text": [
      "81.63676911544222\n"
     ]
    },
    {
     "name": "stderr",
     "output_type": "stream",
     "text": [
      "/var/folders/vk/f22z063n5rl20ps172zv7gxm0000gn/T/ipykernel_13064/1535690992.py:6: DtypeWarning: Columns (37) have mixed types. Specify dtype option on import or set low_memory=False.\n",
      "  df1 = pd.read_csv('/Users/morainarthur/Home/Datascience/redbull-pit-strategy/data/CSV/lapweatherf1.csv')\n"
     ]
    },
    {
     "name": "stdout",
     "output_type": "stream",
     "text": [
      "97.71412540716615\n"
     ]
    },
    {
     "name": "stderr",
     "output_type": "stream",
     "text": [
      "/var/folders/vk/f22z063n5rl20ps172zv7gxm0000gn/T/ipykernel_13064/1535690992.py:6: DtypeWarning: Columns (37) have mixed types. Specify dtype option on import or set low_memory=False.\n",
      "  df1 = pd.read_csv('/Users/morainarthur/Home/Datascience/redbull-pit-strategy/data/CSV/lapweatherf1.csv')\n"
     ]
    },
    {
     "name": "stdout",
     "output_type": "stream",
     "text": [
      "78.14083285024152\n"
     ]
    },
    {
     "name": "stderr",
     "output_type": "stream",
     "text": [
      "/var/folders/vk/f22z063n5rl20ps172zv7gxm0000gn/T/ipykernel_13064/1535690992.py:6: DtypeWarning: Columns (37) have mixed types. Specify dtype option on import or set low_memory=False.\n",
      "  df1 = pd.read_csv('/Users/morainarthur/Home/Datascience/redbull-pit-strategy/data/CSV/lapweatherf1.csv')\n"
     ]
    },
    {
     "name": "stdout",
     "output_type": "stream",
     "text": [
      "100.18632838427956\n"
     ]
    },
    {
     "name": "stderr",
     "output_type": "stream",
     "text": [
      "/var/folders/vk/f22z063n5rl20ps172zv7gxm0000gn/T/ipykernel_13064/1535690992.py:6: DtypeWarning: Columns (37) have mixed types. Specify dtype option on import or set low_memory=False.\n",
      "  df1 = pd.read_csv('/Users/morainarthur/Home/Datascience/redbull-pit-strategy/data/CSV/lapweatherf1.csv')\n"
     ]
    },
    {
     "name": "stdout",
     "output_type": "stream",
     "text": [
      "85.12230352084173\n"
     ]
    },
    {
     "name": "stderr",
     "output_type": "stream",
     "text": [
      "/var/folders/vk/f22z063n5rl20ps172zv7gxm0000gn/T/ipykernel_13064/1535690992.py:6: DtypeWarning: Columns (37) have mixed types. Specify dtype option on import or set low_memory=False.\n",
      "  df1 = pd.read_csv('/Users/morainarthur/Home/Datascience/redbull-pit-strategy/data/CSV/lapweatherf1.csv')\n"
     ]
    },
    {
     "name": "stdout",
     "output_type": "stream",
     "text": [
      "87.39901781737174\n"
     ]
    },
    {
     "name": "stderr",
     "output_type": "stream",
     "text": [
      "/var/folders/vk/f22z063n5rl20ps172zv7gxm0000gn/T/ipykernel_13064/1535690992.py:6: DtypeWarning: Columns (37) have mixed types. Specify dtype option on import or set low_memory=False.\n",
      "  df1 = pd.read_csv('/Users/morainarthur/Home/Datascience/redbull-pit-strategy/data/CSV/lapweatherf1.csv')\n"
     ]
    },
    {
     "name": "stdout",
     "output_type": "stream",
     "text": [
      "97.02195381062353\n"
     ]
    },
    {
     "name": "stderr",
     "output_type": "stream",
     "text": [
      "/var/folders/vk/f22z063n5rl20ps172zv7gxm0000gn/T/ipykernel_13064/1535690992.py:6: DtypeWarning: Columns (37) have mixed types. Specify dtype option on import or set low_memory=False.\n",
      "  df1 = pd.read_csv('/Users/morainarthur/Home/Datascience/redbull-pit-strategy/data/CSV/lapweatherf1.csv')\n"
     ]
    },
    {
     "name": "stdout",
     "output_type": "stream",
     "text": [
      "98.55810615384614\n"
     ]
    },
    {
     "name": "stderr",
     "output_type": "stream",
     "text": [
      "/var/folders/vk/f22z063n5rl20ps172zv7gxm0000gn/T/ipykernel_13064/1535690992.py:6: DtypeWarning: Columns (37) have mixed types. Specify dtype option on import or set low_memory=False.\n",
      "  df1 = pd.read_csv('/Users/morainarthur/Home/Datascience/redbull-pit-strategy/data/CSV/lapweatherf1.csv')\n"
     ]
    },
    {
     "name": "stdout",
     "output_type": "stream",
     "text": [
      "91.05849039692691\n"
     ]
    },
    {
     "name": "stderr",
     "output_type": "stream",
     "text": [
      "/var/folders/vk/f22z063n5rl20ps172zv7gxm0000gn/T/ipykernel_13064/1535690992.py:6: DtypeWarning: Columns (37) have mixed types. Specify dtype option on import or set low_memory=False.\n",
      "  df1 = pd.read_csv('/Users/morainarthur/Home/Datascience/redbull-pit-strategy/data/CSV/lapweatherf1.csv')\n"
     ]
    },
    {
     "name": "stdout",
     "output_type": "stream",
     "text": [
      "73.04040280210168\n"
     ]
    },
    {
     "name": "stderr",
     "output_type": "stream",
     "text": [
      "/var/folders/vk/f22z063n5rl20ps172zv7gxm0000gn/T/ipykernel_13064/1535690992.py:6: DtypeWarning: Columns (37) have mixed types. Specify dtype option on import or set low_memory=False.\n",
      "  df1 = pd.read_csv('/Users/morainarthur/Home/Datascience/redbull-pit-strategy/data/CSV/lapweatherf1.csv')\n"
     ]
    },
    {
     "name": "stdout",
     "output_type": "stream",
     "text": [
      "109.02829732408335\n"
     ]
    },
    {
     "name": "stderr",
     "output_type": "stream",
     "text": [
      "/var/folders/vk/f22z063n5rl20ps172zv7gxm0000gn/T/ipykernel_13064/1535690992.py:6: DtypeWarning: Columns (37) have mixed types. Specify dtype option on import or set low_memory=False.\n",
      "  df1 = pd.read_csv('/Users/morainarthur/Home/Datascience/redbull-pit-strategy/data/CSV/lapweatherf1.csv')\n"
     ]
    },
    {
     "name": "stdout",
     "output_type": "stream",
     "text": [
      "98.72058275058279\n"
     ]
    },
    {
     "name": "stderr",
     "output_type": "stream",
     "text": [
      "/var/folders/vk/f22z063n5rl20ps172zv7gxm0000gn/T/ipykernel_13064/1535690992.py:6: DtypeWarning: Columns (37) have mixed types. Specify dtype option on import or set low_memory=False.\n",
      "  df1 = pd.read_csv('/Users/morainarthur/Home/Datascience/redbull-pit-strategy/data/CSV/lapweatherf1.csv')\n"
     ]
    },
    {
     "name": "stdout",
     "output_type": "stream",
     "text": [
      "106.69152064026949\n"
     ]
    },
    {
     "name": "stderr",
     "output_type": "stream",
     "text": [
      "/var/folders/vk/f22z063n5rl20ps172zv7gxm0000gn/T/ipykernel_13064/1535690992.py:6: DtypeWarning: Columns (37) have mixed types. Specify dtype option on import or set low_memory=False.\n",
      "  df1 = pd.read_csv('/Users/morainarthur/Home/Datascience/redbull-pit-strategy/data/CSV/lapweatherf1.csv')\n"
     ]
    },
    {
     "name": "stdout",
     "output_type": "stream",
     "text": [
      "75.73884492481203\n"
     ]
    },
    {
     "name": "stderr",
     "output_type": "stream",
     "text": [
      "/var/folders/vk/f22z063n5rl20ps172zv7gxm0000gn/T/ipykernel_13064/1535690992.py:6: DtypeWarning: Columns (37) have mixed types. Specify dtype option on import or set low_memory=False.\n",
      "  df1 = pd.read_csv('/Users/morainarthur/Home/Datascience/redbull-pit-strategy/data/CSV/lapweatherf1.csv')\n"
     ]
    },
    {
     "name": "stdout",
     "output_type": "stream",
     "text": [
      "93.48667871485945\n"
     ]
    },
    {
     "name": "stderr",
     "output_type": "stream",
     "text": [
      "/var/folders/vk/f22z063n5rl20ps172zv7gxm0000gn/T/ipykernel_13064/1535690992.py:6: DtypeWarning: Columns (37) have mixed types. Specify dtype option on import or set low_memory=False.\n",
      "  df1 = pd.read_csv('/Users/morainarthur/Home/Datascience/redbull-pit-strategy/data/CSV/lapweatherf1.csv')\n"
     ]
    },
    {
     "name": "stdout",
     "output_type": "stream",
     "text": [
      "81.63676911544222\n"
     ]
    },
    {
     "name": "stderr",
     "output_type": "stream",
     "text": [
      "/var/folders/vk/f22z063n5rl20ps172zv7gxm0000gn/T/ipykernel_13064/1535690992.py:6: DtypeWarning: Columns (37) have mixed types. Specify dtype option on import or set low_memory=False.\n",
      "  df1 = pd.read_csv('/Users/morainarthur/Home/Datascience/redbull-pit-strategy/data/CSV/lapweatherf1.csv')\n"
     ]
    },
    {
     "name": "stdout",
     "output_type": "stream",
     "text": [
      "97.71412540716615\n"
     ]
    },
    {
     "name": "stderr",
     "output_type": "stream",
     "text": [
      "/var/folders/vk/f22z063n5rl20ps172zv7gxm0000gn/T/ipykernel_13064/1535690992.py:6: DtypeWarning: Columns (37) have mixed types. Specify dtype option on import or set low_memory=False.\n",
      "  df1 = pd.read_csv('/Users/morainarthur/Home/Datascience/redbull-pit-strategy/data/CSV/lapweatherf1.csv')\n"
     ]
    },
    {
     "name": "stdout",
     "output_type": "stream",
     "text": [
      "78.14083285024152\n"
     ]
    },
    {
     "name": "stderr",
     "output_type": "stream",
     "text": [
      "/var/folders/vk/f22z063n5rl20ps172zv7gxm0000gn/T/ipykernel_13064/1535690992.py:6: DtypeWarning: Columns (37) have mixed types. Specify dtype option on import or set low_memory=False.\n",
      "  df1 = pd.read_csv('/Users/morainarthur/Home/Datascience/redbull-pit-strategy/data/CSV/lapweatherf1.csv')\n"
     ]
    },
    {
     "name": "stdout",
     "output_type": "stream",
     "text": [
      "100.18632838427956\n"
     ]
    },
    {
     "name": "stderr",
     "output_type": "stream",
     "text": [
      "/var/folders/vk/f22z063n5rl20ps172zv7gxm0000gn/T/ipykernel_13064/1535690992.py:6: DtypeWarning: Columns (37) have mixed types. Specify dtype option on import or set low_memory=False.\n",
      "  df1 = pd.read_csv('/Users/morainarthur/Home/Datascience/redbull-pit-strategy/data/CSV/lapweatherf1.csv')\n"
     ]
    },
    {
     "name": "stdout",
     "output_type": "stream",
     "text": [
      "85.12230352084173\n"
     ]
    },
    {
     "name": "stderr",
     "output_type": "stream",
     "text": [
      "/var/folders/vk/f22z063n5rl20ps172zv7gxm0000gn/T/ipykernel_13064/1535690992.py:6: DtypeWarning: Columns (37) have mixed types. Specify dtype option on import or set low_memory=False.\n",
      "  df1 = pd.read_csv('/Users/morainarthur/Home/Datascience/redbull-pit-strategy/data/CSV/lapweatherf1.csv')\n"
     ]
    },
    {
     "name": "stdout",
     "output_type": "stream",
     "text": [
      "87.39901781737174\n"
     ]
    },
    {
     "name": "stderr",
     "output_type": "stream",
     "text": [
      "/var/folders/vk/f22z063n5rl20ps172zv7gxm0000gn/T/ipykernel_13064/1535690992.py:6: DtypeWarning: Columns (37) have mixed types. Specify dtype option on import or set low_memory=False.\n",
      "  df1 = pd.read_csv('/Users/morainarthur/Home/Datascience/redbull-pit-strategy/data/CSV/lapweatherf1.csv')\n"
     ]
    },
    {
     "name": "stdout",
     "output_type": "stream",
     "text": [
      "97.02195381062353\n"
     ]
    },
    {
     "name": "stderr",
     "output_type": "stream",
     "text": [
      "/var/folders/vk/f22z063n5rl20ps172zv7gxm0000gn/T/ipykernel_13064/1535690992.py:6: DtypeWarning: Columns (37) have mixed types. Specify dtype option on import or set low_memory=False.\n",
      "  df1 = pd.read_csv('/Users/morainarthur/Home/Datascience/redbull-pit-strategy/data/CSV/lapweatherf1.csv')\n"
     ]
    },
    {
     "name": "stdout",
     "output_type": "stream",
     "text": [
      "84.1680666666667\n"
     ]
    },
    {
     "name": "stderr",
     "output_type": "stream",
     "text": [
      "/var/folders/vk/f22z063n5rl20ps172zv7gxm0000gn/T/ipykernel_13064/1535690992.py:6: DtypeWarning: Columns (37) have mixed types. Specify dtype option on import or set low_memory=False.\n",
      "  df1 = pd.read_csv('/Users/morainarthur/Home/Datascience/redbull-pit-strategy/data/CSV/lapweatherf1.csv')\n"
     ]
    },
    {
     "name": "stdout",
     "output_type": "stream",
     "text": [
      "98.55810615384614\n"
     ]
    },
    {
     "name": "stderr",
     "output_type": "stream",
     "text": [
      "/var/folders/vk/f22z063n5rl20ps172zv7gxm0000gn/T/ipykernel_13064/1535690992.py:6: DtypeWarning: Columns (37) have mixed types. Specify dtype option on import or set low_memory=False.\n",
      "  df1 = pd.read_csv('/Users/morainarthur/Home/Datascience/redbull-pit-strategy/data/CSV/lapweatherf1.csv')\n"
     ]
    },
    {
     "name": "stdout",
     "output_type": "stream",
     "text": [
      "91.05849039692691\n"
     ]
    },
    {
     "name": "stderr",
     "output_type": "stream",
     "text": [
      "/var/folders/vk/f22z063n5rl20ps172zv7gxm0000gn/T/ipykernel_13064/1535690992.py:6: DtypeWarning: Columns (37) have mixed types. Specify dtype option on import or set low_memory=False.\n",
      "  df1 = pd.read_csv('/Users/morainarthur/Home/Datascience/redbull-pit-strategy/data/CSV/lapweatherf1.csv')\n"
     ]
    },
    {
     "name": "stdout",
     "output_type": "stream",
     "text": [
      "73.04040280210168\n"
     ]
    },
    {
     "name": "stderr",
     "output_type": "stream",
     "text": [
      "/var/folders/vk/f22z063n5rl20ps172zv7gxm0000gn/T/ipykernel_13064/1535690992.py:6: DtypeWarning: Columns (37) have mixed types. Specify dtype option on import or set low_memory=False.\n",
      "  df1 = pd.read_csv('/Users/morainarthur/Home/Datascience/redbull-pit-strategy/data/CSV/lapweatherf1.csv')\n"
     ]
    },
    {
     "name": "stdout",
     "output_type": "stream",
     "text": [
      "109.02829732408335\n"
     ]
    },
    {
     "name": "stderr",
     "output_type": "stream",
     "text": [
      "/var/folders/vk/f22z063n5rl20ps172zv7gxm0000gn/T/ipykernel_13064/1535690992.py:6: DtypeWarning: Columns (37) have mixed types. Specify dtype option on import or set low_memory=False.\n",
      "  df1 = pd.read_csv('/Users/morainarthur/Home/Datascience/redbull-pit-strategy/data/CSV/lapweatherf1.csv')\n"
     ]
    },
    {
     "name": "stdout",
     "output_type": "stream",
     "text": [
      "98.72058275058279\n"
     ]
    },
    {
     "name": "stderr",
     "output_type": "stream",
     "text": [
      "/var/folders/vk/f22z063n5rl20ps172zv7gxm0000gn/T/ipykernel_13064/1535690992.py:6: DtypeWarning: Columns (37) have mixed types. Specify dtype option on import or set low_memory=False.\n",
      "  df1 = pd.read_csv('/Users/morainarthur/Home/Datascience/redbull-pit-strategy/data/CSV/lapweatherf1.csv')\n"
     ]
    },
    {
     "name": "stdout",
     "output_type": "stream",
     "text": [
      "106.69152064026949\n"
     ]
    },
    {
     "name": "stderr",
     "output_type": "stream",
     "text": [
      "/var/folders/vk/f22z063n5rl20ps172zv7gxm0000gn/T/ipykernel_13064/1535690992.py:6: DtypeWarning: Columns (37) have mixed types. Specify dtype option on import or set low_memory=False.\n",
      "  df1 = pd.read_csv('/Users/morainarthur/Home/Datascience/redbull-pit-strategy/data/CSV/lapweatherf1.csv')\n"
     ]
    },
    {
     "name": "stdout",
     "output_type": "stream",
     "text": [
      "75.73884492481203\n"
     ]
    },
    {
     "name": "stderr",
     "output_type": "stream",
     "text": [
      "/var/folders/vk/f22z063n5rl20ps172zv7gxm0000gn/T/ipykernel_13064/1535690992.py:6: DtypeWarning: Columns (37) have mixed types. Specify dtype option on import or set low_memory=False.\n",
      "  df1 = pd.read_csv('/Users/morainarthur/Home/Datascience/redbull-pit-strategy/data/CSV/lapweatherf1.csv')\n"
     ]
    },
    {
     "name": "stdout",
     "output_type": "stream",
     "text": [
      "93.48667871485945\n"
     ]
    },
    {
     "name": "stderr",
     "output_type": "stream",
     "text": [
      "/var/folders/vk/f22z063n5rl20ps172zv7gxm0000gn/T/ipykernel_13064/1535690992.py:6: DtypeWarning: Columns (37) have mixed types. Specify dtype option on import or set low_memory=False.\n",
      "  df1 = pd.read_csv('/Users/morainarthur/Home/Datascience/redbull-pit-strategy/data/CSV/lapweatherf1.csv')\n"
     ]
    },
    {
     "name": "stdout",
     "output_type": "stream",
     "text": [
      "81.63676911544222\n"
     ]
    },
    {
     "name": "stderr",
     "output_type": "stream",
     "text": [
      "/var/folders/vk/f22z063n5rl20ps172zv7gxm0000gn/T/ipykernel_13064/1535690992.py:6: DtypeWarning: Columns (37) have mixed types. Specify dtype option on import or set low_memory=False.\n",
      "  df1 = pd.read_csv('/Users/morainarthur/Home/Datascience/redbull-pit-strategy/data/CSV/lapweatherf1.csv')\n"
     ]
    },
    {
     "name": "stdout",
     "output_type": "stream",
     "text": [
      "97.71412540716615\n"
     ]
    },
    {
     "name": "stderr",
     "output_type": "stream",
     "text": [
      "/var/folders/vk/f22z063n5rl20ps172zv7gxm0000gn/T/ipykernel_13064/1535690992.py:6: DtypeWarning: Columns (37) have mixed types. Specify dtype option on import or set low_memory=False.\n",
      "  df1 = pd.read_csv('/Users/morainarthur/Home/Datascience/redbull-pit-strategy/data/CSV/lapweatherf1.csv')\n"
     ]
    },
    {
     "name": "stdout",
     "output_type": "stream",
     "text": [
      "78.14083285024152\n"
     ]
    },
    {
     "name": "stderr",
     "output_type": "stream",
     "text": [
      "/var/folders/vk/f22z063n5rl20ps172zv7gxm0000gn/T/ipykernel_13064/1535690992.py:6: DtypeWarning: Columns (37) have mixed types. Specify dtype option on import or set low_memory=False.\n",
      "  df1 = pd.read_csv('/Users/morainarthur/Home/Datascience/redbull-pit-strategy/data/CSV/lapweatherf1.csv')\n"
     ]
    },
    {
     "name": "stdout",
     "output_type": "stream",
     "text": [
      "100.18632838427956\n"
     ]
    },
    {
     "name": "stderr",
     "output_type": "stream",
     "text": [
      "/var/folders/vk/f22z063n5rl20ps172zv7gxm0000gn/T/ipykernel_13064/1535690992.py:6: DtypeWarning: Columns (37) have mixed types. Specify dtype option on import or set low_memory=False.\n",
      "  df1 = pd.read_csv('/Users/morainarthur/Home/Datascience/redbull-pit-strategy/data/CSV/lapweatherf1.csv')\n"
     ]
    },
    {
     "name": "stdout",
     "output_type": "stream",
     "text": [
      "85.12230352084173\n"
     ]
    },
    {
     "name": "stderr",
     "output_type": "stream",
     "text": [
      "/var/folders/vk/f22z063n5rl20ps172zv7gxm0000gn/T/ipykernel_13064/1535690992.py:6: DtypeWarning: Columns (37) have mixed types. Specify dtype option on import or set low_memory=False.\n",
      "  df1 = pd.read_csv('/Users/morainarthur/Home/Datascience/redbull-pit-strategy/data/CSV/lapweatherf1.csv')\n"
     ]
    },
    {
     "name": "stdout",
     "output_type": "stream",
     "text": [
      "87.39901781737174\n"
     ]
    },
    {
     "name": "stderr",
     "output_type": "stream",
     "text": [
      "/var/folders/vk/f22z063n5rl20ps172zv7gxm0000gn/T/ipykernel_13064/1535690992.py:6: DtypeWarning: Columns (37) have mixed types. Specify dtype option on import or set low_memory=False.\n",
      "  df1 = pd.read_csv('/Users/morainarthur/Home/Datascience/redbull-pit-strategy/data/CSV/lapweatherf1.csv')\n"
     ]
    },
    {
     "name": "stdout",
     "output_type": "stream",
     "text": [
      "97.02195381062353\n"
     ]
    },
    {
     "name": "stderr",
     "output_type": "stream",
     "text": [
      "/var/folders/vk/f22z063n5rl20ps172zv7gxm0000gn/T/ipykernel_13064/1535690992.py:6: DtypeWarning: Columns (37) have mixed types. Specify dtype option on import or set low_memory=False.\n",
      "  df1 = pd.read_csv('/Users/morainarthur/Home/Datascience/redbull-pit-strategy/data/CSV/lapweatherf1.csv')\n"
     ]
    },
    {
     "name": "stdout",
     "output_type": "stream",
     "text": [
      "84.1680666666667\n"
     ]
    },
    {
     "name": "stderr",
     "output_type": "stream",
     "text": [
      "/var/folders/vk/f22z063n5rl20ps172zv7gxm0000gn/T/ipykernel_13064/1535690992.py:6: DtypeWarning: Columns (37) have mixed types. Specify dtype option on import or set low_memory=False.\n",
      "  df1 = pd.read_csv('/Users/morainarthur/Home/Datascience/redbull-pit-strategy/data/CSV/lapweatherf1.csv')\n"
     ]
    },
    {
     "name": "stdout",
     "output_type": "stream",
     "text": [
      "80.41334462809915\n"
     ]
    },
    {
     "name": "stderr",
     "output_type": "stream",
     "text": [
      "/var/folders/vk/f22z063n5rl20ps172zv7gxm0000gn/T/ipykernel_13064/1535690992.py:6: DtypeWarning: Columns (37) have mixed types. Specify dtype option on import or set low_memory=False.\n",
      "  df1 = pd.read_csv('/Users/morainarthur/Home/Datascience/redbull-pit-strategy/data/CSV/lapweatherf1.csv')\n"
     ]
    },
    {
     "name": "stdout",
     "output_type": "stream",
     "text": [
      "98.55810615384614\n"
     ]
    },
    {
     "name": "stderr",
     "output_type": "stream",
     "text": [
      "/var/folders/vk/f22z063n5rl20ps172zv7gxm0000gn/T/ipykernel_13064/1535690992.py:6: DtypeWarning: Columns (37) have mixed types. Specify dtype option on import or set low_memory=False.\n",
      "  df1 = pd.read_csv('/Users/morainarthur/Home/Datascience/redbull-pit-strategy/data/CSV/lapweatherf1.csv')\n"
     ]
    },
    {
     "name": "stdout",
     "output_type": "stream",
     "text": [
      "91.05849039692691\n"
     ]
    },
    {
     "name": "stderr",
     "output_type": "stream",
     "text": [
      "/var/folders/vk/f22z063n5rl20ps172zv7gxm0000gn/T/ipykernel_13064/1535690992.py:6: DtypeWarning: Columns (37) have mixed types. Specify dtype option on import or set low_memory=False.\n",
      "  df1 = pd.read_csv('/Users/morainarthur/Home/Datascience/redbull-pit-strategy/data/CSV/lapweatherf1.csv')\n"
     ]
    },
    {
     "name": "stdout",
     "output_type": "stream",
     "text": [
      "73.04040280210168\n"
     ]
    },
    {
     "name": "stderr",
     "output_type": "stream",
     "text": [
      "/var/folders/vk/f22z063n5rl20ps172zv7gxm0000gn/T/ipykernel_13064/1535690992.py:6: DtypeWarning: Columns (37) have mixed types. Specify dtype option on import or set low_memory=False.\n",
      "  df1 = pd.read_csv('/Users/morainarthur/Home/Datascience/redbull-pit-strategy/data/CSV/lapweatherf1.csv')\n"
     ]
    },
    {
     "name": "stdout",
     "output_type": "stream",
     "text": [
      "109.02829732408335\n"
     ]
    },
    {
     "name": "stderr",
     "output_type": "stream",
     "text": [
      "/var/folders/vk/f22z063n5rl20ps172zv7gxm0000gn/T/ipykernel_13064/1535690992.py:6: DtypeWarning: Columns (37) have mixed types. Specify dtype option on import or set low_memory=False.\n",
      "  df1 = pd.read_csv('/Users/morainarthur/Home/Datascience/redbull-pit-strategy/data/CSV/lapweatherf1.csv')\n"
     ]
    },
    {
     "name": "stdout",
     "output_type": "stream",
     "text": [
      "98.72058275058279\n"
     ]
    },
    {
     "name": "stderr",
     "output_type": "stream",
     "text": [
      "/var/folders/vk/f22z063n5rl20ps172zv7gxm0000gn/T/ipykernel_13064/1535690992.py:6: DtypeWarning: Columns (37) have mixed types. Specify dtype option on import or set low_memory=False.\n",
      "  df1 = pd.read_csv('/Users/morainarthur/Home/Datascience/redbull-pit-strategy/data/CSV/lapweatherf1.csv')\n"
     ]
    },
    {
     "name": "stdout",
     "output_type": "stream",
     "text": [
      "106.69152064026949\n"
     ]
    },
    {
     "name": "stderr",
     "output_type": "stream",
     "text": [
      "/var/folders/vk/f22z063n5rl20ps172zv7gxm0000gn/T/ipykernel_13064/1535690992.py:6: DtypeWarning: Columns (37) have mixed types. Specify dtype option on import or set low_memory=False.\n",
      "  df1 = pd.read_csv('/Users/morainarthur/Home/Datascience/redbull-pit-strategy/data/CSV/lapweatherf1.csv')\n"
     ]
    },
    {
     "name": "stdout",
     "output_type": "stream",
     "text": [
      "75.73884492481203\n"
     ]
    },
    {
     "name": "stderr",
     "output_type": "stream",
     "text": [
      "/var/folders/vk/f22z063n5rl20ps172zv7gxm0000gn/T/ipykernel_13064/1535690992.py:6: DtypeWarning: Columns (37) have mixed types. Specify dtype option on import or set low_memory=False.\n",
      "  df1 = pd.read_csv('/Users/morainarthur/Home/Datascience/redbull-pit-strategy/data/CSV/lapweatherf1.csv')\n"
     ]
    },
    {
     "name": "stdout",
     "output_type": "stream",
     "text": [
      "93.48667871485945\n"
     ]
    },
    {
     "name": "stderr",
     "output_type": "stream",
     "text": [
      "/var/folders/vk/f22z063n5rl20ps172zv7gxm0000gn/T/ipykernel_13064/1535690992.py:6: DtypeWarning: Columns (37) have mixed types. Specify dtype option on import or set low_memory=False.\n",
      "  df1 = pd.read_csv('/Users/morainarthur/Home/Datascience/redbull-pit-strategy/data/CSV/lapweatherf1.csv')\n"
     ]
    },
    {
     "name": "stdout",
     "output_type": "stream",
     "text": [
      "81.63676911544222\n"
     ]
    },
    {
     "name": "stderr",
     "output_type": "stream",
     "text": [
      "/var/folders/vk/f22z063n5rl20ps172zv7gxm0000gn/T/ipykernel_13064/1535690992.py:6: DtypeWarning: Columns (37) have mixed types. Specify dtype option on import or set low_memory=False.\n",
      "  df1 = pd.read_csv('/Users/morainarthur/Home/Datascience/redbull-pit-strategy/data/CSV/lapweatherf1.csv')\n"
     ]
    },
    {
     "name": "stdout",
     "output_type": "stream",
     "text": [
      "97.71412540716615\n"
     ]
    },
    {
     "name": "stderr",
     "output_type": "stream",
     "text": [
      "/var/folders/vk/f22z063n5rl20ps172zv7gxm0000gn/T/ipykernel_13064/1535690992.py:6: DtypeWarning: Columns (37) have mixed types. Specify dtype option on import or set low_memory=False.\n",
      "  df1 = pd.read_csv('/Users/morainarthur/Home/Datascience/redbull-pit-strategy/data/CSV/lapweatherf1.csv')\n"
     ]
    },
    {
     "name": "stdout",
     "output_type": "stream",
     "text": [
      "78.14083285024152\n"
     ]
    },
    {
     "name": "stderr",
     "output_type": "stream",
     "text": [
      "/var/folders/vk/f22z063n5rl20ps172zv7gxm0000gn/T/ipykernel_13064/1535690992.py:6: DtypeWarning: Columns (37) have mixed types. Specify dtype option on import or set low_memory=False.\n",
      "  df1 = pd.read_csv('/Users/morainarthur/Home/Datascience/redbull-pit-strategy/data/CSV/lapweatherf1.csv')\n"
     ]
    },
    {
     "name": "stdout",
     "output_type": "stream",
     "text": [
      "100.18632838427956\n"
     ]
    },
    {
     "name": "stderr",
     "output_type": "stream",
     "text": [
      "/var/folders/vk/f22z063n5rl20ps172zv7gxm0000gn/T/ipykernel_13064/1535690992.py:6: DtypeWarning: Columns (37) have mixed types. Specify dtype option on import or set low_memory=False.\n",
      "  df1 = pd.read_csv('/Users/morainarthur/Home/Datascience/redbull-pit-strategy/data/CSV/lapweatherf1.csv')\n"
     ]
    },
    {
     "name": "stdout",
     "output_type": "stream",
     "text": [
      "85.12230352084173\n"
     ]
    },
    {
     "name": "stderr",
     "output_type": "stream",
     "text": [
      "/var/folders/vk/f22z063n5rl20ps172zv7gxm0000gn/T/ipykernel_13064/1535690992.py:6: DtypeWarning: Columns (37) have mixed types. Specify dtype option on import or set low_memory=False.\n",
      "  df1 = pd.read_csv('/Users/morainarthur/Home/Datascience/redbull-pit-strategy/data/CSV/lapweatherf1.csv')\n"
     ]
    },
    {
     "name": "stdout",
     "output_type": "stream",
     "text": [
      "87.39901781737174\n"
     ]
    },
    {
     "name": "stderr",
     "output_type": "stream",
     "text": [
      "/var/folders/vk/f22z063n5rl20ps172zv7gxm0000gn/T/ipykernel_13064/1535690992.py:6: DtypeWarning: Columns (37) have mixed types. Specify dtype option on import or set low_memory=False.\n",
      "  df1 = pd.read_csv('/Users/morainarthur/Home/Datascience/redbull-pit-strategy/data/CSV/lapweatherf1.csv')\n"
     ]
    },
    {
     "name": "stdout",
     "output_type": "stream",
     "text": [
      "97.02195381062353\n"
     ]
    },
    {
     "name": "stderr",
     "output_type": "stream",
     "text": [
      "/var/folders/vk/f22z063n5rl20ps172zv7gxm0000gn/T/ipykernel_13064/1535690992.py:6: DtypeWarning: Columns (37) have mixed types. Specify dtype option on import or set low_memory=False.\n",
      "  df1 = pd.read_csv('/Users/morainarthur/Home/Datascience/redbull-pit-strategy/data/CSV/lapweatherf1.csv')\n"
     ]
    },
    {
     "name": "stdout",
     "output_type": "stream",
     "text": [
      "84.1680666666667\n"
     ]
    },
    {
     "name": "stderr",
     "output_type": "stream",
     "text": [
      "/var/folders/vk/f22z063n5rl20ps172zv7gxm0000gn/T/ipykernel_13064/1535690992.py:6: DtypeWarning: Columns (37) have mixed types. Specify dtype option on import or set low_memory=False.\n",
      "  df1 = pd.read_csv('/Users/morainarthur/Home/Datascience/redbull-pit-strategy/data/CSV/lapweatherf1.csv')\n"
     ]
    },
    {
     "name": "stdout",
     "output_type": "stream",
     "text": [
      "80.41334462809915\n"
     ]
    },
    {
     "name": "stderr",
     "output_type": "stream",
     "text": [
      "/var/folders/vk/f22z063n5rl20ps172zv7gxm0000gn/T/ipykernel_13064/1535690992.py:6: DtypeWarning: Columns (37) have mixed types. Specify dtype option on import or set low_memory=False.\n",
      "  df1 = pd.read_csv('/Users/morainarthur/Home/Datascience/redbull-pit-strategy/data/CSV/lapweatherf1.csv')\n"
     ]
    },
    {
     "name": "stdout",
     "output_type": "stream",
     "text": [
      "98.45287626031165\n"
     ]
    },
    {
     "name": "stderr",
     "output_type": "stream",
     "text": [
      "/var/folders/vk/f22z063n5rl20ps172zv7gxm0000gn/T/ipykernel_13064/1535690992.py:6: DtypeWarning: Columns (37) have mixed types. Specify dtype option on import or set low_memory=False.\n",
      "  df1 = pd.read_csv('/Users/morainarthur/Home/Datascience/redbull-pit-strategy/data/CSV/lapweatherf1.csv')\n"
     ]
    },
    {
     "name": "stdout",
     "output_type": "stream",
     "text": [
      "98.55810615384614\n"
     ]
    },
    {
     "name": "stderr",
     "output_type": "stream",
     "text": [
      "/var/folders/vk/f22z063n5rl20ps172zv7gxm0000gn/T/ipykernel_13064/1535690992.py:6: DtypeWarning: Columns (37) have mixed types. Specify dtype option on import or set low_memory=False.\n",
      "  df1 = pd.read_csv('/Users/morainarthur/Home/Datascience/redbull-pit-strategy/data/CSV/lapweatherf1.csv')\n"
     ]
    },
    {
     "name": "stdout",
     "output_type": "stream",
     "text": [
      "91.05849039692691\n"
     ]
    },
    {
     "name": "stderr",
     "output_type": "stream",
     "text": [
      "/var/folders/vk/f22z063n5rl20ps172zv7gxm0000gn/T/ipykernel_13064/1535690992.py:6: DtypeWarning: Columns (37) have mixed types. Specify dtype option on import or set low_memory=False.\n",
      "  df1 = pd.read_csv('/Users/morainarthur/Home/Datascience/redbull-pit-strategy/data/CSV/lapweatherf1.csv')\n"
     ]
    },
    {
     "name": "stdout",
     "output_type": "stream",
     "text": [
      "73.04040280210168\n"
     ]
    },
    {
     "name": "stderr",
     "output_type": "stream",
     "text": [
      "/var/folders/vk/f22z063n5rl20ps172zv7gxm0000gn/T/ipykernel_13064/1535690992.py:6: DtypeWarning: Columns (37) have mixed types. Specify dtype option on import or set low_memory=False.\n",
      "  df1 = pd.read_csv('/Users/morainarthur/Home/Datascience/redbull-pit-strategy/data/CSV/lapweatherf1.csv')\n"
     ]
    },
    {
     "name": "stdout",
     "output_type": "stream",
     "text": [
      "109.02829732408335\n"
     ]
    },
    {
     "name": "stderr",
     "output_type": "stream",
     "text": [
      "/var/folders/vk/f22z063n5rl20ps172zv7gxm0000gn/T/ipykernel_13064/1535690992.py:6: DtypeWarning: Columns (37) have mixed types. Specify dtype option on import or set low_memory=False.\n",
      "  df1 = pd.read_csv('/Users/morainarthur/Home/Datascience/redbull-pit-strategy/data/CSV/lapweatherf1.csv')\n"
     ]
    },
    {
     "name": "stdout",
     "output_type": "stream",
     "text": [
      "98.72058275058279\n"
     ]
    },
    {
     "name": "stderr",
     "output_type": "stream",
     "text": [
      "/var/folders/vk/f22z063n5rl20ps172zv7gxm0000gn/T/ipykernel_13064/1535690992.py:6: DtypeWarning: Columns (37) have mixed types. Specify dtype option on import or set low_memory=False.\n",
      "  df1 = pd.read_csv('/Users/morainarthur/Home/Datascience/redbull-pit-strategy/data/CSV/lapweatherf1.csv')\n"
     ]
    },
    {
     "name": "stdout",
     "output_type": "stream",
     "text": [
      "106.69152064026949\n"
     ]
    },
    {
     "name": "stderr",
     "output_type": "stream",
     "text": [
      "/var/folders/vk/f22z063n5rl20ps172zv7gxm0000gn/T/ipykernel_13064/1535690992.py:6: DtypeWarning: Columns (37) have mixed types. Specify dtype option on import or set low_memory=False.\n",
      "  df1 = pd.read_csv('/Users/morainarthur/Home/Datascience/redbull-pit-strategy/data/CSV/lapweatherf1.csv')\n"
     ]
    },
    {
     "name": "stdout",
     "output_type": "stream",
     "text": [
      "75.73884492481203\n"
     ]
    },
    {
     "name": "stderr",
     "output_type": "stream",
     "text": [
      "/var/folders/vk/f22z063n5rl20ps172zv7gxm0000gn/T/ipykernel_13064/1535690992.py:6: DtypeWarning: Columns (37) have mixed types. Specify dtype option on import or set low_memory=False.\n",
      "  df1 = pd.read_csv('/Users/morainarthur/Home/Datascience/redbull-pit-strategy/data/CSV/lapweatherf1.csv')\n"
     ]
    },
    {
     "name": "stdout",
     "output_type": "stream",
     "text": [
      "93.48667871485945\n"
     ]
    },
    {
     "name": "stderr",
     "output_type": "stream",
     "text": [
      "/var/folders/vk/f22z063n5rl20ps172zv7gxm0000gn/T/ipykernel_13064/1535690992.py:6: DtypeWarning: Columns (37) have mixed types. Specify dtype option on import or set low_memory=False.\n",
      "  df1 = pd.read_csv('/Users/morainarthur/Home/Datascience/redbull-pit-strategy/data/CSV/lapweatherf1.csv')\n"
     ]
    },
    {
     "name": "stdout",
     "output_type": "stream",
     "text": [
      "81.63676911544222\n"
     ]
    },
    {
     "name": "stderr",
     "output_type": "stream",
     "text": [
      "/var/folders/vk/f22z063n5rl20ps172zv7gxm0000gn/T/ipykernel_13064/1535690992.py:6: DtypeWarning: Columns (37) have mixed types. Specify dtype option on import or set low_memory=False.\n",
      "  df1 = pd.read_csv('/Users/morainarthur/Home/Datascience/redbull-pit-strategy/data/CSV/lapweatherf1.csv')\n"
     ]
    },
    {
     "name": "stdout",
     "output_type": "stream",
     "text": [
      "97.71412540716615\n"
     ]
    },
    {
     "name": "stderr",
     "output_type": "stream",
     "text": [
      "/var/folders/vk/f22z063n5rl20ps172zv7gxm0000gn/T/ipykernel_13064/1535690992.py:6: DtypeWarning: Columns (37) have mixed types. Specify dtype option on import or set low_memory=False.\n",
      "  df1 = pd.read_csv('/Users/morainarthur/Home/Datascience/redbull-pit-strategy/data/CSV/lapweatherf1.csv')\n"
     ]
    },
    {
     "name": "stdout",
     "output_type": "stream",
     "text": [
      "78.14083285024152\n"
     ]
    },
    {
     "name": "stderr",
     "output_type": "stream",
     "text": [
      "/var/folders/vk/f22z063n5rl20ps172zv7gxm0000gn/T/ipykernel_13064/1535690992.py:6: DtypeWarning: Columns (37) have mixed types. Specify dtype option on import or set low_memory=False.\n",
      "  df1 = pd.read_csv('/Users/morainarthur/Home/Datascience/redbull-pit-strategy/data/CSV/lapweatherf1.csv')\n"
     ]
    },
    {
     "name": "stdout",
     "output_type": "stream",
     "text": [
      "100.18632838427956\n"
     ]
    },
    {
     "name": "stderr",
     "output_type": "stream",
     "text": [
      "/var/folders/vk/f22z063n5rl20ps172zv7gxm0000gn/T/ipykernel_13064/1535690992.py:6: DtypeWarning: Columns (37) have mixed types. Specify dtype option on import or set low_memory=False.\n",
      "  df1 = pd.read_csv('/Users/morainarthur/Home/Datascience/redbull-pit-strategy/data/CSV/lapweatherf1.csv')\n"
     ]
    },
    {
     "name": "stdout",
     "output_type": "stream",
     "text": [
      "85.12230352084173\n"
     ]
    },
    {
     "name": "stderr",
     "output_type": "stream",
     "text": [
      "/var/folders/vk/f22z063n5rl20ps172zv7gxm0000gn/T/ipykernel_13064/1535690992.py:6: DtypeWarning: Columns (37) have mixed types. Specify dtype option on import or set low_memory=False.\n",
      "  df1 = pd.read_csv('/Users/morainarthur/Home/Datascience/redbull-pit-strategy/data/CSV/lapweatherf1.csv')\n"
     ]
    },
    {
     "name": "stdout",
     "output_type": "stream",
     "text": [
      "87.39901781737174\n"
     ]
    },
    {
     "name": "stderr",
     "output_type": "stream",
     "text": [
      "/var/folders/vk/f22z063n5rl20ps172zv7gxm0000gn/T/ipykernel_13064/1535690992.py:6: DtypeWarning: Columns (37) have mixed types. Specify dtype option on import or set low_memory=False.\n",
      "  df1 = pd.read_csv('/Users/morainarthur/Home/Datascience/redbull-pit-strategy/data/CSV/lapweatherf1.csv')\n"
     ]
    },
    {
     "name": "stdout",
     "output_type": "stream",
     "text": [
      "97.02195381062353\n"
     ]
    },
    {
     "name": "stderr",
     "output_type": "stream",
     "text": [
      "/var/folders/vk/f22z063n5rl20ps172zv7gxm0000gn/T/ipykernel_13064/1535690992.py:6: DtypeWarning: Columns (37) have mixed types. Specify dtype option on import or set low_memory=False.\n",
      "  df1 = pd.read_csv('/Users/morainarthur/Home/Datascience/redbull-pit-strategy/data/CSV/lapweatherf1.csv')\n"
     ]
    },
    {
     "name": "stdout",
     "output_type": "stream",
     "text": [
      "84.1680666666667\n"
     ]
    },
    {
     "name": "stderr",
     "output_type": "stream",
     "text": [
      "/var/folders/vk/f22z063n5rl20ps172zv7gxm0000gn/T/ipykernel_13064/1535690992.py:6: DtypeWarning: Columns (37) have mixed types. Specify dtype option on import or set low_memory=False.\n",
      "  df1 = pd.read_csv('/Users/morainarthur/Home/Datascience/redbull-pit-strategy/data/CSV/lapweatherf1.csv')\n"
     ]
    },
    {
     "name": "stdout",
     "output_type": "stream",
     "text": [
      "80.41334462809915\n"
     ]
    },
    {
     "name": "stderr",
     "output_type": "stream",
     "text": [
      "/var/folders/vk/f22z063n5rl20ps172zv7gxm0000gn/T/ipykernel_13064/1535690992.py:6: DtypeWarning: Columns (37) have mixed types. Specify dtype option on import or set low_memory=False.\n",
      "  df1 = pd.read_csv('/Users/morainarthur/Home/Datascience/redbull-pit-strategy/data/CSV/lapweatherf1.csv')\n"
     ]
    },
    {
     "name": "stdout",
     "output_type": "stream",
     "text": [
      "98.45287626031165\n"
     ]
    },
    {
     "name": "stderr",
     "output_type": "stream",
     "text": [
      "/var/folders/vk/f22z063n5rl20ps172zv7gxm0000gn/T/ipykernel_13064/1535690992.py:6: DtypeWarning: Columns (37) have mixed types. Specify dtype option on import or set low_memory=False.\n",
      "  df1 = pd.read_csv('/Users/morainarthur/Home/Datascience/redbull-pit-strategy/data/CSV/lapweatherf1.csv')\n",
      "/var/folders/vk/f22z063n5rl20ps172zv7gxm0000gn/T/ipykernel_13064/1535690992.py:6: DtypeWarning: Columns (37) have mixed types. Specify dtype option on import or set low_memory=False.\n",
      "  df1 = pd.read_csv('/Users/morainarthur/Home/Datascience/redbull-pit-strategy/data/CSV/lapweatherf1.csv')\n"
     ]
    },
    {
     "name": "stdout",
     "output_type": "stream",
     "text": [
      "98.55810615384614\n"
     ]
    },
    {
     "name": "stderr",
     "output_type": "stream",
     "text": [
      "/var/folders/vk/f22z063n5rl20ps172zv7gxm0000gn/T/ipykernel_13064/1535690992.py:6: DtypeWarning: Columns (37) have mixed types. Specify dtype option on import or set low_memory=False.\n",
      "  df1 = pd.read_csv('/Users/morainarthur/Home/Datascience/redbull-pit-strategy/data/CSV/lapweatherf1.csv')\n"
     ]
    },
    {
     "name": "stdout",
     "output_type": "stream",
     "text": [
      "91.05849039692691\n"
     ]
    },
    {
     "name": "stderr",
     "output_type": "stream",
     "text": [
      "/var/folders/vk/f22z063n5rl20ps172zv7gxm0000gn/T/ipykernel_13064/1535690992.py:6: DtypeWarning: Columns (37) have mixed types. Specify dtype option on import or set low_memory=False.\n",
      "  df1 = pd.read_csv('/Users/morainarthur/Home/Datascience/redbull-pit-strategy/data/CSV/lapweatherf1.csv')\n"
     ]
    },
    {
     "name": "stdout",
     "output_type": "stream",
     "text": [
      "73.04040280210168\n"
     ]
    },
    {
     "name": "stderr",
     "output_type": "stream",
     "text": [
      "/var/folders/vk/f22z063n5rl20ps172zv7gxm0000gn/T/ipykernel_13064/1535690992.py:6: DtypeWarning: Columns (37) have mixed types. Specify dtype option on import or set low_memory=False.\n",
      "  df1 = pd.read_csv('/Users/morainarthur/Home/Datascience/redbull-pit-strategy/data/CSV/lapweatherf1.csv')\n"
     ]
    },
    {
     "name": "stdout",
     "output_type": "stream",
     "text": [
      "109.02829732408335\n"
     ]
    },
    {
     "name": "stderr",
     "output_type": "stream",
     "text": [
      "/var/folders/vk/f22z063n5rl20ps172zv7gxm0000gn/T/ipykernel_13064/1535690992.py:6: DtypeWarning: Columns (37) have mixed types. Specify dtype option on import or set low_memory=False.\n",
      "  df1 = pd.read_csv('/Users/morainarthur/Home/Datascience/redbull-pit-strategy/data/CSV/lapweatherf1.csv')\n"
     ]
    },
    {
     "name": "stdout",
     "output_type": "stream",
     "text": [
      "98.72058275058279\n"
     ]
    },
    {
     "name": "stderr",
     "output_type": "stream",
     "text": [
      "/var/folders/vk/f22z063n5rl20ps172zv7gxm0000gn/T/ipykernel_13064/1535690992.py:6: DtypeWarning: Columns (37) have mixed types. Specify dtype option on import or set low_memory=False.\n",
      "  df1 = pd.read_csv('/Users/morainarthur/Home/Datascience/redbull-pit-strategy/data/CSV/lapweatherf1.csv')\n"
     ]
    },
    {
     "name": "stdout",
     "output_type": "stream",
     "text": [
      "106.69152064026949\n"
     ]
    },
    {
     "name": "stderr",
     "output_type": "stream",
     "text": [
      "/var/folders/vk/f22z063n5rl20ps172zv7gxm0000gn/T/ipykernel_13064/1535690992.py:6: DtypeWarning: Columns (37) have mixed types. Specify dtype option on import or set low_memory=False.\n",
      "  df1 = pd.read_csv('/Users/morainarthur/Home/Datascience/redbull-pit-strategy/data/CSV/lapweatherf1.csv')\n"
     ]
    },
    {
     "name": "stdout",
     "output_type": "stream",
     "text": [
      "75.73884492481203\n"
     ]
    },
    {
     "name": "stderr",
     "output_type": "stream",
     "text": [
      "/var/folders/vk/f22z063n5rl20ps172zv7gxm0000gn/T/ipykernel_13064/1535690992.py:6: DtypeWarning: Columns (37) have mixed types. Specify dtype option on import or set low_memory=False.\n",
      "  df1 = pd.read_csv('/Users/morainarthur/Home/Datascience/redbull-pit-strategy/data/CSV/lapweatherf1.csv')\n"
     ]
    },
    {
     "name": "stdout",
     "output_type": "stream",
     "text": [
      "93.48667871485945\n"
     ]
    },
    {
     "name": "stderr",
     "output_type": "stream",
     "text": [
      "/var/folders/vk/f22z063n5rl20ps172zv7gxm0000gn/T/ipykernel_13064/1535690992.py:6: DtypeWarning: Columns (37) have mixed types. Specify dtype option on import or set low_memory=False.\n",
      "  df1 = pd.read_csv('/Users/morainarthur/Home/Datascience/redbull-pit-strategy/data/CSV/lapweatherf1.csv')\n"
     ]
    },
    {
     "name": "stdout",
     "output_type": "stream",
     "text": [
      "81.63676911544222\n"
     ]
    },
    {
     "name": "stderr",
     "output_type": "stream",
     "text": [
      "/var/folders/vk/f22z063n5rl20ps172zv7gxm0000gn/T/ipykernel_13064/1535690992.py:6: DtypeWarning: Columns (37) have mixed types. Specify dtype option on import or set low_memory=False.\n",
      "  df1 = pd.read_csv('/Users/morainarthur/Home/Datascience/redbull-pit-strategy/data/CSV/lapweatherf1.csv')\n"
     ]
    },
    {
     "name": "stdout",
     "output_type": "stream",
     "text": [
      "97.71412540716615\n"
     ]
    },
    {
     "name": "stderr",
     "output_type": "stream",
     "text": [
      "/var/folders/vk/f22z063n5rl20ps172zv7gxm0000gn/T/ipykernel_13064/1535690992.py:6: DtypeWarning: Columns (37) have mixed types. Specify dtype option on import or set low_memory=False.\n",
      "  df1 = pd.read_csv('/Users/morainarthur/Home/Datascience/redbull-pit-strategy/data/CSV/lapweatherf1.csv')\n"
     ]
    },
    {
     "name": "stdout",
     "output_type": "stream",
     "text": [
      "78.14083285024152\n"
     ]
    },
    {
     "name": "stderr",
     "output_type": "stream",
     "text": [
      "/var/folders/vk/f22z063n5rl20ps172zv7gxm0000gn/T/ipykernel_13064/1535690992.py:6: DtypeWarning: Columns (37) have mixed types. Specify dtype option on import or set low_memory=False.\n",
      "  df1 = pd.read_csv('/Users/morainarthur/Home/Datascience/redbull-pit-strategy/data/CSV/lapweatherf1.csv')\n"
     ]
    },
    {
     "name": "stdout",
     "output_type": "stream",
     "text": [
      "100.18632838427956\n"
     ]
    },
    {
     "name": "stderr",
     "output_type": "stream",
     "text": [
      "/var/folders/vk/f22z063n5rl20ps172zv7gxm0000gn/T/ipykernel_13064/1535690992.py:6: DtypeWarning: Columns (37) have mixed types. Specify dtype option on import or set low_memory=False.\n",
      "  df1 = pd.read_csv('/Users/morainarthur/Home/Datascience/redbull-pit-strategy/data/CSV/lapweatherf1.csv')\n"
     ]
    },
    {
     "name": "stdout",
     "output_type": "stream",
     "text": [
      "85.12230352084173\n"
     ]
    },
    {
     "name": "stderr",
     "output_type": "stream",
     "text": [
      "/var/folders/vk/f22z063n5rl20ps172zv7gxm0000gn/T/ipykernel_13064/1535690992.py:6: DtypeWarning: Columns (37) have mixed types. Specify dtype option on import or set low_memory=False.\n",
      "  df1 = pd.read_csv('/Users/morainarthur/Home/Datascience/redbull-pit-strategy/data/CSV/lapweatherf1.csv')\n"
     ]
    },
    {
     "name": "stdout",
     "output_type": "stream",
     "text": [
      "87.39901781737174\n"
     ]
    },
    {
     "name": "stderr",
     "output_type": "stream",
     "text": [
      "/var/folders/vk/f22z063n5rl20ps172zv7gxm0000gn/T/ipykernel_13064/1535690992.py:6: DtypeWarning: Columns (37) have mixed types. Specify dtype option on import or set low_memory=False.\n",
      "  df1 = pd.read_csv('/Users/morainarthur/Home/Datascience/redbull-pit-strategy/data/CSV/lapweatherf1.csv')\n"
     ]
    },
    {
     "name": "stdout",
     "output_type": "stream",
     "text": [
      "97.02195381062353\n"
     ]
    },
    {
     "name": "stderr",
     "output_type": "stream",
     "text": [
      "/var/folders/vk/f22z063n5rl20ps172zv7gxm0000gn/T/ipykernel_13064/1535690992.py:6: DtypeWarning: Columns (37) have mixed types. Specify dtype option on import or set low_memory=False.\n",
      "  df1 = pd.read_csv('/Users/morainarthur/Home/Datascience/redbull-pit-strategy/data/CSV/lapweatherf1.csv')\n"
     ]
    },
    {
     "name": "stdout",
     "output_type": "stream",
     "text": [
      "84.1680666666667\n"
     ]
    },
    {
     "name": "stderr",
     "output_type": "stream",
     "text": [
      "/var/folders/vk/f22z063n5rl20ps172zv7gxm0000gn/T/ipykernel_13064/1535690992.py:6: DtypeWarning: Columns (37) have mixed types. Specify dtype option on import or set low_memory=False.\n",
      "  df1 = pd.read_csv('/Users/morainarthur/Home/Datascience/redbull-pit-strategy/data/CSV/lapweatherf1.csv')\n"
     ]
    },
    {
     "name": "stdout",
     "output_type": "stream",
     "text": [
      "80.41334462809915\n"
     ]
    },
    {
     "name": "stderr",
     "output_type": "stream",
     "text": [
      "/var/folders/vk/f22z063n5rl20ps172zv7gxm0000gn/T/ipykernel_13064/1535690992.py:6: DtypeWarning: Columns (37) have mixed types. Specify dtype option on import or set low_memory=False.\n",
      "  df1 = pd.read_csv('/Users/morainarthur/Home/Datascience/redbull-pit-strategy/data/CSV/lapweatherf1.csv')\n"
     ]
    },
    {
     "name": "stdout",
     "output_type": "stream",
     "text": [
      "98.45287626031165\n"
     ]
    },
    {
     "name": "stderr",
     "output_type": "stream",
     "text": [
      "/var/folders/vk/f22z063n5rl20ps172zv7gxm0000gn/T/ipykernel_13064/1535690992.py:6: DtypeWarning: Columns (37) have mixed types. Specify dtype option on import or set low_memory=False.\n",
      "  df1 = pd.read_csv('/Users/morainarthur/Home/Datascience/redbull-pit-strategy/data/CSV/lapweatherf1.csv')\n",
      "/var/folders/vk/f22z063n5rl20ps172zv7gxm0000gn/T/ipykernel_13064/1535690992.py:6: DtypeWarning: Columns (37) have mixed types. Specify dtype option on import or set low_memory=False.\n",
      "  df1 = pd.read_csv('/Users/morainarthur/Home/Datascience/redbull-pit-strategy/data/CSV/lapweatherf1.csv')\n"
     ]
    },
    {
     "name": "stdout",
     "output_type": "stream",
     "text": [
      "100.54511171171171\n"
     ]
    },
    {
     "name": "stderr",
     "output_type": "stream",
     "text": [
      "/var/folders/vk/f22z063n5rl20ps172zv7gxm0000gn/T/ipykernel_13064/1535690992.py:6: DtypeWarning: Columns (37) have mixed types. Specify dtype option on import or set low_memory=False.\n",
      "  df1 = pd.read_csv('/Users/morainarthur/Home/Datascience/redbull-pit-strategy/data/CSV/lapweatherf1.csv')\n"
     ]
    },
    {
     "name": "stdout",
     "output_type": "stream",
     "text": [
      "98.55810615384614\n"
     ]
    },
    {
     "name": "stderr",
     "output_type": "stream",
     "text": [
      "/var/folders/vk/f22z063n5rl20ps172zv7gxm0000gn/T/ipykernel_13064/1535690992.py:6: DtypeWarning: Columns (37) have mixed types. Specify dtype option on import or set low_memory=False.\n",
      "  df1 = pd.read_csv('/Users/morainarthur/Home/Datascience/redbull-pit-strategy/data/CSV/lapweatherf1.csv')\n"
     ]
    },
    {
     "name": "stdout",
     "output_type": "stream",
     "text": [
      "91.05849039692691\n"
     ]
    },
    {
     "name": "stderr",
     "output_type": "stream",
     "text": [
      "/var/folders/vk/f22z063n5rl20ps172zv7gxm0000gn/T/ipykernel_13064/1535690992.py:6: DtypeWarning: Columns (37) have mixed types. Specify dtype option on import or set low_memory=False.\n",
      "  df1 = pd.read_csv('/Users/morainarthur/Home/Datascience/redbull-pit-strategy/data/CSV/lapweatherf1.csv')\n"
     ]
    },
    {
     "name": "stdout",
     "output_type": "stream",
     "text": [
      "73.04040280210168\n"
     ]
    },
    {
     "name": "stderr",
     "output_type": "stream",
     "text": [
      "/var/folders/vk/f22z063n5rl20ps172zv7gxm0000gn/T/ipykernel_13064/1535690992.py:6: DtypeWarning: Columns (37) have mixed types. Specify dtype option on import or set low_memory=False.\n",
      "  df1 = pd.read_csv('/Users/morainarthur/Home/Datascience/redbull-pit-strategy/data/CSV/lapweatherf1.csv')\n"
     ]
    },
    {
     "name": "stdout",
     "output_type": "stream",
     "text": [
      "109.02829732408335\n"
     ]
    },
    {
     "name": "stderr",
     "output_type": "stream",
     "text": [
      "/var/folders/vk/f22z063n5rl20ps172zv7gxm0000gn/T/ipykernel_13064/1535690992.py:6: DtypeWarning: Columns (37) have mixed types. Specify dtype option on import or set low_memory=False.\n",
      "  df1 = pd.read_csv('/Users/morainarthur/Home/Datascience/redbull-pit-strategy/data/CSV/lapweatherf1.csv')\n"
     ]
    },
    {
     "name": "stdout",
     "output_type": "stream",
     "text": [
      "98.72058275058279\n"
     ]
    },
    {
     "name": "stderr",
     "output_type": "stream",
     "text": [
      "/var/folders/vk/f22z063n5rl20ps172zv7gxm0000gn/T/ipykernel_13064/1535690992.py:6: DtypeWarning: Columns (37) have mixed types. Specify dtype option on import or set low_memory=False.\n",
      "  df1 = pd.read_csv('/Users/morainarthur/Home/Datascience/redbull-pit-strategy/data/CSV/lapweatherf1.csv')\n"
     ]
    },
    {
     "name": "stdout",
     "output_type": "stream",
     "text": [
      "106.69152064026949\n"
     ]
    },
    {
     "name": "stderr",
     "output_type": "stream",
     "text": [
      "/var/folders/vk/f22z063n5rl20ps172zv7gxm0000gn/T/ipykernel_13064/1535690992.py:6: DtypeWarning: Columns (37) have mixed types. Specify dtype option on import or set low_memory=False.\n",
      "  df1 = pd.read_csv('/Users/morainarthur/Home/Datascience/redbull-pit-strategy/data/CSV/lapweatherf1.csv')\n"
     ]
    },
    {
     "name": "stdout",
     "output_type": "stream",
     "text": [
      "75.73884492481203\n"
     ]
    },
    {
     "name": "stderr",
     "output_type": "stream",
     "text": [
      "/var/folders/vk/f22z063n5rl20ps172zv7gxm0000gn/T/ipykernel_13064/1535690992.py:6: DtypeWarning: Columns (37) have mixed types. Specify dtype option on import or set low_memory=False.\n",
      "  df1 = pd.read_csv('/Users/morainarthur/Home/Datascience/redbull-pit-strategy/data/CSV/lapweatherf1.csv')\n"
     ]
    },
    {
     "name": "stdout",
     "output_type": "stream",
     "text": [
      "93.48667871485945\n"
     ]
    },
    {
     "name": "stderr",
     "output_type": "stream",
     "text": [
      "/var/folders/vk/f22z063n5rl20ps172zv7gxm0000gn/T/ipykernel_13064/1535690992.py:6: DtypeWarning: Columns (37) have mixed types. Specify dtype option on import or set low_memory=False.\n",
      "  df1 = pd.read_csv('/Users/morainarthur/Home/Datascience/redbull-pit-strategy/data/CSV/lapweatherf1.csv')\n"
     ]
    },
    {
     "name": "stdout",
     "output_type": "stream",
     "text": [
      "81.63676911544222\n"
     ]
    },
    {
     "name": "stderr",
     "output_type": "stream",
     "text": [
      "/var/folders/vk/f22z063n5rl20ps172zv7gxm0000gn/T/ipykernel_13064/1535690992.py:6: DtypeWarning: Columns (37) have mixed types. Specify dtype option on import or set low_memory=False.\n",
      "  df1 = pd.read_csv('/Users/morainarthur/Home/Datascience/redbull-pit-strategy/data/CSV/lapweatherf1.csv')\n"
     ]
    },
    {
     "name": "stdout",
     "output_type": "stream",
     "text": [
      "97.71412540716615\n"
     ]
    },
    {
     "name": "stderr",
     "output_type": "stream",
     "text": [
      "/var/folders/vk/f22z063n5rl20ps172zv7gxm0000gn/T/ipykernel_13064/1535690992.py:6: DtypeWarning: Columns (37) have mixed types. Specify dtype option on import or set low_memory=False.\n",
      "  df1 = pd.read_csv('/Users/morainarthur/Home/Datascience/redbull-pit-strategy/data/CSV/lapweatherf1.csv')\n"
     ]
    },
    {
     "name": "stdout",
     "output_type": "stream",
     "text": [
      "78.14083285024152\n"
     ]
    },
    {
     "name": "stderr",
     "output_type": "stream",
     "text": [
      "/var/folders/vk/f22z063n5rl20ps172zv7gxm0000gn/T/ipykernel_13064/1535690992.py:6: DtypeWarning: Columns (37) have mixed types. Specify dtype option on import or set low_memory=False.\n",
      "  df1 = pd.read_csv('/Users/morainarthur/Home/Datascience/redbull-pit-strategy/data/CSV/lapweatherf1.csv')\n"
     ]
    },
    {
     "name": "stdout",
     "output_type": "stream",
     "text": [
      "100.18632838427956\n"
     ]
    },
    {
     "name": "stderr",
     "output_type": "stream",
     "text": [
      "/var/folders/vk/f22z063n5rl20ps172zv7gxm0000gn/T/ipykernel_13064/1535690992.py:6: DtypeWarning: Columns (37) have mixed types. Specify dtype option on import or set low_memory=False.\n",
      "  df1 = pd.read_csv('/Users/morainarthur/Home/Datascience/redbull-pit-strategy/data/CSV/lapweatherf1.csv')\n"
     ]
    },
    {
     "name": "stdout",
     "output_type": "stream",
     "text": [
      "85.12230352084173\n"
     ]
    },
    {
     "name": "stderr",
     "output_type": "stream",
     "text": [
      "/var/folders/vk/f22z063n5rl20ps172zv7gxm0000gn/T/ipykernel_13064/1535690992.py:6: DtypeWarning: Columns (37) have mixed types. Specify dtype option on import or set low_memory=False.\n",
      "  df1 = pd.read_csv('/Users/morainarthur/Home/Datascience/redbull-pit-strategy/data/CSV/lapweatherf1.csv')\n"
     ]
    },
    {
     "name": "stdout",
     "output_type": "stream",
     "text": [
      "87.39901781737174\n"
     ]
    },
    {
     "name": "stderr",
     "output_type": "stream",
     "text": [
      "/var/folders/vk/f22z063n5rl20ps172zv7gxm0000gn/T/ipykernel_13064/1535690992.py:6: DtypeWarning: Columns (37) have mixed types. Specify dtype option on import or set low_memory=False.\n",
      "  df1 = pd.read_csv('/Users/morainarthur/Home/Datascience/redbull-pit-strategy/data/CSV/lapweatherf1.csv')\n"
     ]
    },
    {
     "name": "stdout",
     "output_type": "stream",
     "text": [
      "97.02195381062353\n"
     ]
    },
    {
     "name": "stderr",
     "output_type": "stream",
     "text": [
      "/var/folders/vk/f22z063n5rl20ps172zv7gxm0000gn/T/ipykernel_13064/1535690992.py:6: DtypeWarning: Columns (37) have mixed types. Specify dtype option on import or set low_memory=False.\n",
      "  df1 = pd.read_csv('/Users/morainarthur/Home/Datascience/redbull-pit-strategy/data/CSV/lapweatherf1.csv')\n"
     ]
    },
    {
     "name": "stdout",
     "output_type": "stream",
     "text": [
      "84.1680666666667\n"
     ]
    },
    {
     "name": "stderr",
     "output_type": "stream",
     "text": [
      "/var/folders/vk/f22z063n5rl20ps172zv7gxm0000gn/T/ipykernel_13064/1535690992.py:6: DtypeWarning: Columns (37) have mixed types. Specify dtype option on import or set low_memory=False.\n",
      "  df1 = pd.read_csv('/Users/morainarthur/Home/Datascience/redbull-pit-strategy/data/CSV/lapweatherf1.csv')\n"
     ]
    },
    {
     "name": "stdout",
     "output_type": "stream",
     "text": [
      "80.41334462809915\n"
     ]
    },
    {
     "name": "stderr",
     "output_type": "stream",
     "text": [
      "/var/folders/vk/f22z063n5rl20ps172zv7gxm0000gn/T/ipykernel_13064/1535690992.py:6: DtypeWarning: Columns (37) have mixed types. Specify dtype option on import or set low_memory=False.\n",
      "  df1 = pd.read_csv('/Users/morainarthur/Home/Datascience/redbull-pit-strategy/data/CSV/lapweatherf1.csv')\n"
     ]
    },
    {
     "name": "stdout",
     "output_type": "stream",
     "text": [
      "98.45287626031165\n"
     ]
    },
    {
     "name": "stderr",
     "output_type": "stream",
     "text": [
      "/var/folders/vk/f22z063n5rl20ps172zv7gxm0000gn/T/ipykernel_13064/1535690992.py:6: DtypeWarning: Columns (37) have mixed types. Specify dtype option on import or set low_memory=False.\n",
      "  df1 = pd.read_csv('/Users/morainarthur/Home/Datascience/redbull-pit-strategy/data/CSV/lapweatherf1.csv')\n",
      "/var/folders/vk/f22z063n5rl20ps172zv7gxm0000gn/T/ipykernel_13064/1535690992.py:6: DtypeWarning: Columns (37) have mixed types. Specify dtype option on import or set low_memory=False.\n",
      "  df1 = pd.read_csv('/Users/morainarthur/Home/Datascience/redbull-pit-strategy/data/CSV/lapweatherf1.csv')\n"
     ]
    },
    {
     "name": "stdout",
     "output_type": "stream",
     "text": [
      "100.54511171171171\n"
     ]
    },
    {
     "name": "stderr",
     "output_type": "stream",
     "text": [
      "/var/folders/vk/f22z063n5rl20ps172zv7gxm0000gn/T/ipykernel_13064/1535690992.py:6: DtypeWarning: Columns (37) have mixed types. Specify dtype option on import or set low_memory=False.\n",
      "  df1 = pd.read_csv('/Users/morainarthur/Home/Datascience/redbull-pit-strategy/data/CSV/lapweatherf1.csv')\n"
     ]
    },
    {
     "name": "stdout",
     "output_type": "stream",
     "text": [
      "86.18173764387282\n"
     ]
    },
    {
     "name": "stderr",
     "output_type": "stream",
     "text": [
      "/var/folders/vk/f22z063n5rl20ps172zv7gxm0000gn/T/ipykernel_13064/1535690992.py:6: DtypeWarning: Columns (37) have mixed types. Specify dtype option on import or set low_memory=False.\n",
      "  df1 = pd.read_csv('/Users/morainarthur/Home/Datascience/redbull-pit-strategy/data/CSV/lapweatherf1.csv')\n"
     ]
    },
    {
     "name": "stdout",
     "output_type": "stream",
     "text": [
      "98.55810615384614\n"
     ]
    },
    {
     "name": "stderr",
     "output_type": "stream",
     "text": [
      "/var/folders/vk/f22z063n5rl20ps172zv7gxm0000gn/T/ipykernel_13064/1535690992.py:6: DtypeWarning: Columns (37) have mixed types. Specify dtype option on import or set low_memory=False.\n",
      "  df1 = pd.read_csv('/Users/morainarthur/Home/Datascience/redbull-pit-strategy/data/CSV/lapweatherf1.csv')\n"
     ]
    },
    {
     "name": "stdout",
     "output_type": "stream",
     "text": [
      "91.05849039692691\n"
     ]
    },
    {
     "name": "stderr",
     "output_type": "stream",
     "text": [
      "/var/folders/vk/f22z063n5rl20ps172zv7gxm0000gn/T/ipykernel_13064/1535690992.py:6: DtypeWarning: Columns (37) have mixed types. Specify dtype option on import or set low_memory=False.\n",
      "  df1 = pd.read_csv('/Users/morainarthur/Home/Datascience/redbull-pit-strategy/data/CSV/lapweatherf1.csv')\n"
     ]
    },
    {
     "name": "stdout",
     "output_type": "stream",
     "text": [
      "73.04040280210168\n"
     ]
    },
    {
     "name": "stderr",
     "output_type": "stream",
     "text": [
      "/var/folders/vk/f22z063n5rl20ps172zv7gxm0000gn/T/ipykernel_13064/1535690992.py:6: DtypeWarning: Columns (37) have mixed types. Specify dtype option on import or set low_memory=False.\n",
      "  df1 = pd.read_csv('/Users/morainarthur/Home/Datascience/redbull-pit-strategy/data/CSV/lapweatherf1.csv')\n"
     ]
    },
    {
     "name": "stdout",
     "output_type": "stream",
     "text": [
      "109.02829732408335\n"
     ]
    },
    {
     "name": "stderr",
     "output_type": "stream",
     "text": [
      "/var/folders/vk/f22z063n5rl20ps172zv7gxm0000gn/T/ipykernel_13064/1535690992.py:6: DtypeWarning: Columns (37) have mixed types. Specify dtype option on import or set low_memory=False.\n",
      "  df1 = pd.read_csv('/Users/morainarthur/Home/Datascience/redbull-pit-strategy/data/CSV/lapweatherf1.csv')\n"
     ]
    },
    {
     "name": "stdout",
     "output_type": "stream",
     "text": [
      "98.72058275058279\n"
     ]
    },
    {
     "name": "stderr",
     "output_type": "stream",
     "text": [
      "/var/folders/vk/f22z063n5rl20ps172zv7gxm0000gn/T/ipykernel_13064/1535690992.py:6: DtypeWarning: Columns (37) have mixed types. Specify dtype option on import or set low_memory=False.\n",
      "  df1 = pd.read_csv('/Users/morainarthur/Home/Datascience/redbull-pit-strategy/data/CSV/lapweatherf1.csv')\n"
     ]
    },
    {
     "name": "stdout",
     "output_type": "stream",
     "text": [
      "106.69152064026949\n"
     ]
    },
    {
     "name": "stderr",
     "output_type": "stream",
     "text": [
      "/var/folders/vk/f22z063n5rl20ps172zv7gxm0000gn/T/ipykernel_13064/1535690992.py:6: DtypeWarning: Columns (37) have mixed types. Specify dtype option on import or set low_memory=False.\n",
      "  df1 = pd.read_csv('/Users/morainarthur/Home/Datascience/redbull-pit-strategy/data/CSV/lapweatherf1.csv')\n"
     ]
    },
    {
     "name": "stdout",
     "output_type": "stream",
     "text": [
      "75.73884492481203\n"
     ]
    },
    {
     "name": "stderr",
     "output_type": "stream",
     "text": [
      "/var/folders/vk/f22z063n5rl20ps172zv7gxm0000gn/T/ipykernel_13064/1535690992.py:6: DtypeWarning: Columns (37) have mixed types. Specify dtype option on import or set low_memory=False.\n",
      "  df1 = pd.read_csv('/Users/morainarthur/Home/Datascience/redbull-pit-strategy/data/CSV/lapweatherf1.csv')\n"
     ]
    },
    {
     "name": "stdout",
     "output_type": "stream",
     "text": [
      "93.48667871485945\n"
     ]
    },
    {
     "name": "stderr",
     "output_type": "stream",
     "text": [
      "/var/folders/vk/f22z063n5rl20ps172zv7gxm0000gn/T/ipykernel_13064/1535690992.py:6: DtypeWarning: Columns (37) have mixed types. Specify dtype option on import or set low_memory=False.\n",
      "  df1 = pd.read_csv('/Users/morainarthur/Home/Datascience/redbull-pit-strategy/data/CSV/lapweatherf1.csv')\n"
     ]
    },
    {
     "name": "stdout",
     "output_type": "stream",
     "text": [
      "81.63676911544222\n"
     ]
    },
    {
     "name": "stderr",
     "output_type": "stream",
     "text": [
      "/var/folders/vk/f22z063n5rl20ps172zv7gxm0000gn/T/ipykernel_13064/1535690992.py:6: DtypeWarning: Columns (37) have mixed types. Specify dtype option on import or set low_memory=False.\n",
      "  df1 = pd.read_csv('/Users/morainarthur/Home/Datascience/redbull-pit-strategy/data/CSV/lapweatherf1.csv')\n"
     ]
    },
    {
     "name": "stdout",
     "output_type": "stream",
     "text": [
      "97.71412540716615\n"
     ]
    },
    {
     "name": "stderr",
     "output_type": "stream",
     "text": [
      "/var/folders/vk/f22z063n5rl20ps172zv7gxm0000gn/T/ipykernel_13064/1535690992.py:6: DtypeWarning: Columns (37) have mixed types. Specify dtype option on import or set low_memory=False.\n",
      "  df1 = pd.read_csv('/Users/morainarthur/Home/Datascience/redbull-pit-strategy/data/CSV/lapweatherf1.csv')\n"
     ]
    },
    {
     "name": "stdout",
     "output_type": "stream",
     "text": [
      "78.14083285024152\n"
     ]
    },
    {
     "name": "stderr",
     "output_type": "stream",
     "text": [
      "/var/folders/vk/f22z063n5rl20ps172zv7gxm0000gn/T/ipykernel_13064/1535690992.py:6: DtypeWarning: Columns (37) have mixed types. Specify dtype option on import or set low_memory=False.\n",
      "  df1 = pd.read_csv('/Users/morainarthur/Home/Datascience/redbull-pit-strategy/data/CSV/lapweatherf1.csv')\n"
     ]
    },
    {
     "name": "stdout",
     "output_type": "stream",
     "text": [
      "100.18632838427956\n"
     ]
    },
    {
     "name": "stderr",
     "output_type": "stream",
     "text": [
      "/var/folders/vk/f22z063n5rl20ps172zv7gxm0000gn/T/ipykernel_13064/1535690992.py:6: DtypeWarning: Columns (37) have mixed types. Specify dtype option on import or set low_memory=False.\n",
      "  df1 = pd.read_csv('/Users/morainarthur/Home/Datascience/redbull-pit-strategy/data/CSV/lapweatherf1.csv')\n"
     ]
    },
    {
     "name": "stdout",
     "output_type": "stream",
     "text": [
      "85.12230352084173\n"
     ]
    },
    {
     "name": "stderr",
     "output_type": "stream",
     "text": [
      "/var/folders/vk/f22z063n5rl20ps172zv7gxm0000gn/T/ipykernel_13064/1535690992.py:6: DtypeWarning: Columns (37) have mixed types. Specify dtype option on import or set low_memory=False.\n",
      "  df1 = pd.read_csv('/Users/morainarthur/Home/Datascience/redbull-pit-strategy/data/CSV/lapweatherf1.csv')\n"
     ]
    },
    {
     "name": "stdout",
     "output_type": "stream",
     "text": [
      "87.39901781737174\n"
     ]
    },
    {
     "name": "stderr",
     "output_type": "stream",
     "text": [
      "/var/folders/vk/f22z063n5rl20ps172zv7gxm0000gn/T/ipykernel_13064/1535690992.py:6: DtypeWarning: Columns (37) have mixed types. Specify dtype option on import or set low_memory=False.\n",
      "  df1 = pd.read_csv('/Users/morainarthur/Home/Datascience/redbull-pit-strategy/data/CSV/lapweatherf1.csv')\n"
     ]
    },
    {
     "name": "stdout",
     "output_type": "stream",
     "text": [
      "97.02195381062353\n"
     ]
    },
    {
     "name": "stderr",
     "output_type": "stream",
     "text": [
      "/var/folders/vk/f22z063n5rl20ps172zv7gxm0000gn/T/ipykernel_13064/1535690992.py:6: DtypeWarning: Columns (37) have mixed types. Specify dtype option on import or set low_memory=False.\n",
      "  df1 = pd.read_csv('/Users/morainarthur/Home/Datascience/redbull-pit-strategy/data/CSV/lapweatherf1.csv')\n"
     ]
    },
    {
     "name": "stdout",
     "output_type": "stream",
     "text": [
      "84.1680666666667\n"
     ]
    },
    {
     "name": "stderr",
     "output_type": "stream",
     "text": [
      "/var/folders/vk/f22z063n5rl20ps172zv7gxm0000gn/T/ipykernel_13064/1535690992.py:6: DtypeWarning: Columns (37) have mixed types. Specify dtype option on import or set low_memory=False.\n",
      "  df1 = pd.read_csv('/Users/morainarthur/Home/Datascience/redbull-pit-strategy/data/CSV/lapweatherf1.csv')\n"
     ]
    },
    {
     "name": "stdout",
     "output_type": "stream",
     "text": [
      "80.41334462809915\n"
     ]
    },
    {
     "name": "stderr",
     "output_type": "stream",
     "text": [
      "/var/folders/vk/f22z063n5rl20ps172zv7gxm0000gn/T/ipykernel_13064/1535690992.py:6: DtypeWarning: Columns (37) have mixed types. Specify dtype option on import or set low_memory=False.\n",
      "  df1 = pd.read_csv('/Users/morainarthur/Home/Datascience/redbull-pit-strategy/data/CSV/lapweatherf1.csv')\n"
     ]
    },
    {
     "name": "stdout",
     "output_type": "stream",
     "text": [
      "98.45287626031165\n"
     ]
    },
    {
     "name": "stderr",
     "output_type": "stream",
     "text": [
      "/var/folders/vk/f22z063n5rl20ps172zv7gxm0000gn/T/ipykernel_13064/1535690992.py:6: DtypeWarning: Columns (37) have mixed types. Specify dtype option on import or set low_memory=False.\n",
      "  df1 = pd.read_csv('/Users/morainarthur/Home/Datascience/redbull-pit-strategy/data/CSV/lapweatherf1.csv')\n",
      "/var/folders/vk/f22z063n5rl20ps172zv7gxm0000gn/T/ipykernel_13064/1535690992.py:6: DtypeWarning: Columns (37) have mixed types. Specify dtype option on import or set low_memory=False.\n",
      "  df1 = pd.read_csv('/Users/morainarthur/Home/Datascience/redbull-pit-strategy/data/CSV/lapweatherf1.csv')\n"
     ]
    },
    {
     "name": "stdout",
     "output_type": "stream",
     "text": [
      "100.54511171171171\n"
     ]
    },
    {
     "name": "stderr",
     "output_type": "stream",
     "text": [
      "/var/folders/vk/f22z063n5rl20ps172zv7gxm0000gn/T/ipykernel_13064/1535690992.py:6: DtypeWarning: Columns (37) have mixed types. Specify dtype option on import or set low_memory=False.\n",
      "  df1 = pd.read_csv('/Users/morainarthur/Home/Datascience/redbull-pit-strategy/data/CSV/lapweatherf1.csv')\n"
     ]
    },
    {
     "name": "stdout",
     "output_type": "stream",
     "text": [
      "86.18173764387282\n"
     ]
    },
    {
     "name": "stderr",
     "output_type": "stream",
     "text": [
      "/var/folders/vk/f22z063n5rl20ps172zv7gxm0000gn/T/ipykernel_13064/1535690992.py:6: DtypeWarning: Columns (37) have mixed types. Specify dtype option on import or set low_memory=False.\n",
      "  df1 = pd.read_csv('/Users/morainarthur/Home/Datascience/redbull-pit-strategy/data/CSV/lapweatherf1.csv')\n"
     ]
    },
    {
     "name": "stdout",
     "output_type": "stream",
     "text": [
      "102.4157019681348\n"
     ]
    },
    {
     "name": "stderr",
     "output_type": "stream",
     "text": [
      "/var/folders/vk/f22z063n5rl20ps172zv7gxm0000gn/T/ipykernel_13064/1535690992.py:6: DtypeWarning: Columns (37) have mixed types. Specify dtype option on import or set low_memory=False.\n",
      "  df1 = pd.read_csv('/Users/morainarthur/Home/Datascience/redbull-pit-strategy/data/CSV/lapweatherf1.csv')\n"
     ]
    },
    {
     "name": "stdout",
     "output_type": "stream",
     "text": [
      "98.55810615384614\n"
     ]
    },
    {
     "name": "stderr",
     "output_type": "stream",
     "text": [
      "/var/folders/vk/f22z063n5rl20ps172zv7gxm0000gn/T/ipykernel_13064/1535690992.py:6: DtypeWarning: Columns (37) have mixed types. Specify dtype option on import or set low_memory=False.\n",
      "  df1 = pd.read_csv('/Users/morainarthur/Home/Datascience/redbull-pit-strategy/data/CSV/lapweatherf1.csv')\n"
     ]
    },
    {
     "name": "stdout",
     "output_type": "stream",
     "text": [
      "91.05849039692691\n"
     ]
    },
    {
     "name": "stderr",
     "output_type": "stream",
     "text": [
      "/var/folders/vk/f22z063n5rl20ps172zv7gxm0000gn/T/ipykernel_13064/1535690992.py:6: DtypeWarning: Columns (37) have mixed types. Specify dtype option on import or set low_memory=False.\n",
      "  df1 = pd.read_csv('/Users/morainarthur/Home/Datascience/redbull-pit-strategy/data/CSV/lapweatherf1.csv')\n"
     ]
    },
    {
     "name": "stdout",
     "output_type": "stream",
     "text": [
      "73.04040280210168\n"
     ]
    },
    {
     "name": "stderr",
     "output_type": "stream",
     "text": [
      "/var/folders/vk/f22z063n5rl20ps172zv7gxm0000gn/T/ipykernel_13064/1535690992.py:6: DtypeWarning: Columns (37) have mixed types. Specify dtype option on import or set low_memory=False.\n",
      "  df1 = pd.read_csv('/Users/morainarthur/Home/Datascience/redbull-pit-strategy/data/CSV/lapweatherf1.csv')\n"
     ]
    },
    {
     "name": "stdout",
     "output_type": "stream",
     "text": [
      "109.02829732408335\n"
     ]
    },
    {
     "name": "stderr",
     "output_type": "stream",
     "text": [
      "/var/folders/vk/f22z063n5rl20ps172zv7gxm0000gn/T/ipykernel_13064/1535690992.py:6: DtypeWarning: Columns (37) have mixed types. Specify dtype option on import or set low_memory=False.\n",
      "  df1 = pd.read_csv('/Users/morainarthur/Home/Datascience/redbull-pit-strategy/data/CSV/lapweatherf1.csv')\n"
     ]
    },
    {
     "name": "stdout",
     "output_type": "stream",
     "text": [
      "98.72058275058279\n"
     ]
    },
    {
     "name": "stderr",
     "output_type": "stream",
     "text": [
      "/var/folders/vk/f22z063n5rl20ps172zv7gxm0000gn/T/ipykernel_13064/1535690992.py:6: DtypeWarning: Columns (37) have mixed types. Specify dtype option on import or set low_memory=False.\n",
      "  df1 = pd.read_csv('/Users/morainarthur/Home/Datascience/redbull-pit-strategy/data/CSV/lapweatherf1.csv')\n"
     ]
    },
    {
     "name": "stdout",
     "output_type": "stream",
     "text": [
      "106.69152064026949\n"
     ]
    },
    {
     "name": "stderr",
     "output_type": "stream",
     "text": [
      "/var/folders/vk/f22z063n5rl20ps172zv7gxm0000gn/T/ipykernel_13064/1535690992.py:6: DtypeWarning: Columns (37) have mixed types. Specify dtype option on import or set low_memory=False.\n",
      "  df1 = pd.read_csv('/Users/morainarthur/Home/Datascience/redbull-pit-strategy/data/CSV/lapweatherf1.csv')\n"
     ]
    },
    {
     "name": "stdout",
     "output_type": "stream",
     "text": [
      "75.73884492481203\n"
     ]
    },
    {
     "name": "stderr",
     "output_type": "stream",
     "text": [
      "/var/folders/vk/f22z063n5rl20ps172zv7gxm0000gn/T/ipykernel_13064/1535690992.py:6: DtypeWarning: Columns (37) have mixed types. Specify dtype option on import or set low_memory=False.\n",
      "  df1 = pd.read_csv('/Users/morainarthur/Home/Datascience/redbull-pit-strategy/data/CSV/lapweatherf1.csv')\n"
     ]
    },
    {
     "name": "stdout",
     "output_type": "stream",
     "text": [
      "93.48667871485945\n"
     ]
    },
    {
     "name": "stderr",
     "output_type": "stream",
     "text": [
      "/var/folders/vk/f22z063n5rl20ps172zv7gxm0000gn/T/ipykernel_13064/1535690992.py:6: DtypeWarning: Columns (37) have mixed types. Specify dtype option on import or set low_memory=False.\n",
      "  df1 = pd.read_csv('/Users/morainarthur/Home/Datascience/redbull-pit-strategy/data/CSV/lapweatherf1.csv')\n"
     ]
    },
    {
     "name": "stdout",
     "output_type": "stream",
     "text": [
      "81.63676911544222\n"
     ]
    },
    {
     "name": "stderr",
     "output_type": "stream",
     "text": [
      "/var/folders/vk/f22z063n5rl20ps172zv7gxm0000gn/T/ipykernel_13064/1535690992.py:6: DtypeWarning: Columns (37) have mixed types. Specify dtype option on import or set low_memory=False.\n",
      "  df1 = pd.read_csv('/Users/morainarthur/Home/Datascience/redbull-pit-strategy/data/CSV/lapweatherf1.csv')\n"
     ]
    },
    {
     "name": "stdout",
     "output_type": "stream",
     "text": [
      "97.71412540716615\n"
     ]
    },
    {
     "name": "stderr",
     "output_type": "stream",
     "text": [
      "/var/folders/vk/f22z063n5rl20ps172zv7gxm0000gn/T/ipykernel_13064/1535690992.py:6: DtypeWarning: Columns (37) have mixed types. Specify dtype option on import or set low_memory=False.\n",
      "  df1 = pd.read_csv('/Users/morainarthur/Home/Datascience/redbull-pit-strategy/data/CSV/lapweatherf1.csv')\n"
     ]
    },
    {
     "name": "stdout",
     "output_type": "stream",
     "text": [
      "78.14083285024152\n"
     ]
    },
    {
     "name": "stderr",
     "output_type": "stream",
     "text": [
      "/var/folders/vk/f22z063n5rl20ps172zv7gxm0000gn/T/ipykernel_13064/1535690992.py:6: DtypeWarning: Columns (37) have mixed types. Specify dtype option on import or set low_memory=False.\n",
      "  df1 = pd.read_csv('/Users/morainarthur/Home/Datascience/redbull-pit-strategy/data/CSV/lapweatherf1.csv')\n"
     ]
    },
    {
     "name": "stdout",
     "output_type": "stream",
     "text": [
      "100.18632838427956\n"
     ]
    },
    {
     "name": "stderr",
     "output_type": "stream",
     "text": [
      "/var/folders/vk/f22z063n5rl20ps172zv7gxm0000gn/T/ipykernel_13064/1535690992.py:6: DtypeWarning: Columns (37) have mixed types. Specify dtype option on import or set low_memory=False.\n",
      "  df1 = pd.read_csv('/Users/morainarthur/Home/Datascience/redbull-pit-strategy/data/CSV/lapweatherf1.csv')\n"
     ]
    },
    {
     "name": "stdout",
     "output_type": "stream",
     "text": [
      "85.12230352084173\n"
     ]
    },
    {
     "name": "stderr",
     "output_type": "stream",
     "text": [
      "/var/folders/vk/f22z063n5rl20ps172zv7gxm0000gn/T/ipykernel_13064/1535690992.py:6: DtypeWarning: Columns (37) have mixed types. Specify dtype option on import or set low_memory=False.\n",
      "  df1 = pd.read_csv('/Users/morainarthur/Home/Datascience/redbull-pit-strategy/data/CSV/lapweatherf1.csv')\n"
     ]
    },
    {
     "name": "stdout",
     "output_type": "stream",
     "text": [
      "87.39901781737174\n"
     ]
    },
    {
     "name": "stderr",
     "output_type": "stream",
     "text": [
      "/var/folders/vk/f22z063n5rl20ps172zv7gxm0000gn/T/ipykernel_13064/1535690992.py:6: DtypeWarning: Columns (37) have mixed types. Specify dtype option on import or set low_memory=False.\n",
      "  df1 = pd.read_csv('/Users/morainarthur/Home/Datascience/redbull-pit-strategy/data/CSV/lapweatherf1.csv')\n"
     ]
    },
    {
     "name": "stdout",
     "output_type": "stream",
     "text": [
      "97.02195381062353\n"
     ]
    },
    {
     "name": "stderr",
     "output_type": "stream",
     "text": [
      "/var/folders/vk/f22z063n5rl20ps172zv7gxm0000gn/T/ipykernel_13064/1535690992.py:6: DtypeWarning: Columns (37) have mixed types. Specify dtype option on import or set low_memory=False.\n",
      "  df1 = pd.read_csv('/Users/morainarthur/Home/Datascience/redbull-pit-strategy/data/CSV/lapweatherf1.csv')\n"
     ]
    },
    {
     "name": "stdout",
     "output_type": "stream",
     "text": [
      "84.1680666666667\n"
     ]
    },
    {
     "name": "stderr",
     "output_type": "stream",
     "text": [
      "/var/folders/vk/f22z063n5rl20ps172zv7gxm0000gn/T/ipykernel_13064/1535690992.py:6: DtypeWarning: Columns (37) have mixed types. Specify dtype option on import or set low_memory=False.\n",
      "  df1 = pd.read_csv('/Users/morainarthur/Home/Datascience/redbull-pit-strategy/data/CSV/lapweatherf1.csv')\n"
     ]
    },
    {
     "name": "stdout",
     "output_type": "stream",
     "text": [
      "80.41334462809915\n"
     ]
    },
    {
     "name": "stderr",
     "output_type": "stream",
     "text": [
      "/var/folders/vk/f22z063n5rl20ps172zv7gxm0000gn/T/ipykernel_13064/1535690992.py:6: DtypeWarning: Columns (37) have mixed types. Specify dtype option on import or set low_memory=False.\n",
      "  df1 = pd.read_csv('/Users/morainarthur/Home/Datascience/redbull-pit-strategy/data/CSV/lapweatherf1.csv')\n"
     ]
    },
    {
     "name": "stdout",
     "output_type": "stream",
     "text": [
      "98.45287626031165\n"
     ]
    },
    {
     "name": "stderr",
     "output_type": "stream",
     "text": [
      "/var/folders/vk/f22z063n5rl20ps172zv7gxm0000gn/T/ipykernel_13064/1535690992.py:6: DtypeWarning: Columns (37) have mixed types. Specify dtype option on import or set low_memory=False.\n",
      "  df1 = pd.read_csv('/Users/morainarthur/Home/Datascience/redbull-pit-strategy/data/CSV/lapweatherf1.csv')\n",
      "/var/folders/vk/f22z063n5rl20ps172zv7gxm0000gn/T/ipykernel_13064/1535690992.py:6: DtypeWarning: Columns (37) have mixed types. Specify dtype option on import or set low_memory=False.\n",
      "  df1 = pd.read_csv('/Users/morainarthur/Home/Datascience/redbull-pit-strategy/data/CSV/lapweatherf1.csv')\n"
     ]
    },
    {
     "name": "stdout",
     "output_type": "stream",
     "text": [
      "100.54511171171171\n"
     ]
    },
    {
     "name": "stderr",
     "output_type": "stream",
     "text": [
      "/var/folders/vk/f22z063n5rl20ps172zv7gxm0000gn/T/ipykernel_13064/1535690992.py:6: DtypeWarning: Columns (37) have mixed types. Specify dtype option on import or set low_memory=False.\n",
      "  df1 = pd.read_csv('/Users/morainarthur/Home/Datascience/redbull-pit-strategy/data/CSV/lapweatherf1.csv')\n"
     ]
    },
    {
     "name": "stdout",
     "output_type": "stream",
     "text": [
      "86.18173764387282\n"
     ]
    },
    {
     "name": "stderr",
     "output_type": "stream",
     "text": [
      "/var/folders/vk/f22z063n5rl20ps172zv7gxm0000gn/T/ipykernel_13064/1535690992.py:6: DtypeWarning: Columns (37) have mixed types. Specify dtype option on import or set low_memory=False.\n",
      "  df1 = pd.read_csv('/Users/morainarthur/Home/Datascience/redbull-pit-strategy/data/CSV/lapweatherf1.csv')\n"
     ]
    },
    {
     "name": "stdout",
     "output_type": "stream",
     "text": [
      "102.4157019681348\n"
     ]
    },
    {
     "name": "stderr",
     "output_type": "stream",
     "text": [
      "/var/folders/vk/f22z063n5rl20ps172zv7gxm0000gn/T/ipykernel_13064/1535690992.py:6: DtypeWarning: Columns (37) have mixed types. Specify dtype option on import or set low_memory=False.\n",
      "  df1 = pd.read_csv('/Users/morainarthur/Home/Datascience/redbull-pit-strategy/data/CSV/lapweatherf1.csv')\n"
     ]
    },
    {
     "name": "stdout",
     "output_type": "stream",
     "text": [
      "82.29841417910454\n"
     ]
    },
    {
     "name": "stderr",
     "output_type": "stream",
     "text": [
      "/var/folders/vk/f22z063n5rl20ps172zv7gxm0000gn/T/ipykernel_13064/1535690992.py:6: DtypeWarning: Columns (37) have mixed types. Specify dtype option on import or set low_memory=False.\n",
      "  df1 = pd.read_csv('/Users/morainarthur/Home/Datascience/redbull-pit-strategy/data/CSV/lapweatherf1.csv')\n"
     ]
    },
    {
     "name": "stdout",
     "output_type": "stream",
     "text": [
      "98.55810615384614\n"
     ]
    },
    {
     "name": "stderr",
     "output_type": "stream",
     "text": [
      "/var/folders/vk/f22z063n5rl20ps172zv7gxm0000gn/T/ipykernel_13064/1535690992.py:6: DtypeWarning: Columns (37) have mixed types. Specify dtype option on import or set low_memory=False.\n",
      "  df1 = pd.read_csv('/Users/morainarthur/Home/Datascience/redbull-pit-strategy/data/CSV/lapweatherf1.csv')\n"
     ]
    },
    {
     "name": "stdout",
     "output_type": "stream",
     "text": [
      "91.05849039692691\n"
     ]
    },
    {
     "name": "stderr",
     "output_type": "stream",
     "text": [
      "/var/folders/vk/f22z063n5rl20ps172zv7gxm0000gn/T/ipykernel_13064/1535690992.py:6: DtypeWarning: Columns (37) have mixed types. Specify dtype option on import or set low_memory=False.\n",
      "  df1 = pd.read_csv('/Users/morainarthur/Home/Datascience/redbull-pit-strategy/data/CSV/lapweatherf1.csv')\n"
     ]
    },
    {
     "name": "stdout",
     "output_type": "stream",
     "text": [
      "73.04040280210168\n"
     ]
    },
    {
     "name": "stderr",
     "output_type": "stream",
     "text": [
      "/var/folders/vk/f22z063n5rl20ps172zv7gxm0000gn/T/ipykernel_13064/1535690992.py:6: DtypeWarning: Columns (37) have mixed types. Specify dtype option on import or set low_memory=False.\n",
      "  df1 = pd.read_csv('/Users/morainarthur/Home/Datascience/redbull-pit-strategy/data/CSV/lapweatherf1.csv')\n"
     ]
    },
    {
     "name": "stdout",
     "output_type": "stream",
     "text": [
      "109.02829732408335\n"
     ]
    },
    {
     "name": "stderr",
     "output_type": "stream",
     "text": [
      "/var/folders/vk/f22z063n5rl20ps172zv7gxm0000gn/T/ipykernel_13064/1535690992.py:6: DtypeWarning: Columns (37) have mixed types. Specify dtype option on import or set low_memory=False.\n",
      "  df1 = pd.read_csv('/Users/morainarthur/Home/Datascience/redbull-pit-strategy/data/CSV/lapweatherf1.csv')\n"
     ]
    },
    {
     "name": "stdout",
     "output_type": "stream",
     "text": [
      "98.72058275058279\n"
     ]
    },
    {
     "name": "stderr",
     "output_type": "stream",
     "text": [
      "/var/folders/vk/f22z063n5rl20ps172zv7gxm0000gn/T/ipykernel_13064/1535690992.py:6: DtypeWarning: Columns (37) have mixed types. Specify dtype option on import or set low_memory=False.\n",
      "  df1 = pd.read_csv('/Users/morainarthur/Home/Datascience/redbull-pit-strategy/data/CSV/lapweatherf1.csv')\n"
     ]
    },
    {
     "name": "stdout",
     "output_type": "stream",
     "text": [
      "106.69152064026949\n"
     ]
    },
    {
     "name": "stderr",
     "output_type": "stream",
     "text": [
      "/var/folders/vk/f22z063n5rl20ps172zv7gxm0000gn/T/ipykernel_13064/1535690992.py:6: DtypeWarning: Columns (37) have mixed types. Specify dtype option on import or set low_memory=False.\n",
      "  df1 = pd.read_csv('/Users/morainarthur/Home/Datascience/redbull-pit-strategy/data/CSV/lapweatherf1.csv')\n"
     ]
    },
    {
     "name": "stdout",
     "output_type": "stream",
     "text": [
      "75.73884492481203\n"
     ]
    },
    {
     "name": "stderr",
     "output_type": "stream",
     "text": [
      "/var/folders/vk/f22z063n5rl20ps172zv7gxm0000gn/T/ipykernel_13064/1535690992.py:6: DtypeWarning: Columns (37) have mixed types. Specify dtype option on import or set low_memory=False.\n",
      "  df1 = pd.read_csv('/Users/morainarthur/Home/Datascience/redbull-pit-strategy/data/CSV/lapweatherf1.csv')\n"
     ]
    },
    {
     "name": "stdout",
     "output_type": "stream",
     "text": [
      "93.48667871485945\n"
     ]
    },
    {
     "name": "stderr",
     "output_type": "stream",
     "text": [
      "/var/folders/vk/f22z063n5rl20ps172zv7gxm0000gn/T/ipykernel_13064/1535690992.py:6: DtypeWarning: Columns (37) have mixed types. Specify dtype option on import or set low_memory=False.\n",
      "  df1 = pd.read_csv('/Users/morainarthur/Home/Datascience/redbull-pit-strategy/data/CSV/lapweatherf1.csv')\n"
     ]
    },
    {
     "name": "stdout",
     "output_type": "stream",
     "text": [
      "81.63676911544222\n"
     ]
    },
    {
     "name": "stderr",
     "output_type": "stream",
     "text": [
      "/var/folders/vk/f22z063n5rl20ps172zv7gxm0000gn/T/ipykernel_13064/1535690992.py:6: DtypeWarning: Columns (37) have mixed types. Specify dtype option on import or set low_memory=False.\n",
      "  df1 = pd.read_csv('/Users/morainarthur/Home/Datascience/redbull-pit-strategy/data/CSV/lapweatherf1.csv')\n"
     ]
    },
    {
     "name": "stdout",
     "output_type": "stream",
     "text": [
      "97.71412540716615\n"
     ]
    },
    {
     "name": "stderr",
     "output_type": "stream",
     "text": [
      "/var/folders/vk/f22z063n5rl20ps172zv7gxm0000gn/T/ipykernel_13064/1535690992.py:6: DtypeWarning: Columns (37) have mixed types. Specify dtype option on import or set low_memory=False.\n",
      "  df1 = pd.read_csv('/Users/morainarthur/Home/Datascience/redbull-pit-strategy/data/CSV/lapweatherf1.csv')\n"
     ]
    },
    {
     "name": "stdout",
     "output_type": "stream",
     "text": [
      "78.14083285024152\n"
     ]
    },
    {
     "name": "stderr",
     "output_type": "stream",
     "text": [
      "/var/folders/vk/f22z063n5rl20ps172zv7gxm0000gn/T/ipykernel_13064/1535690992.py:6: DtypeWarning: Columns (37) have mixed types. Specify dtype option on import or set low_memory=False.\n",
      "  df1 = pd.read_csv('/Users/morainarthur/Home/Datascience/redbull-pit-strategy/data/CSV/lapweatherf1.csv')\n"
     ]
    },
    {
     "name": "stdout",
     "output_type": "stream",
     "text": [
      "100.18632838427956\n"
     ]
    },
    {
     "name": "stderr",
     "output_type": "stream",
     "text": [
      "/var/folders/vk/f22z063n5rl20ps172zv7gxm0000gn/T/ipykernel_13064/1535690992.py:6: DtypeWarning: Columns (37) have mixed types. Specify dtype option on import or set low_memory=False.\n",
      "  df1 = pd.read_csv('/Users/morainarthur/Home/Datascience/redbull-pit-strategy/data/CSV/lapweatherf1.csv')\n"
     ]
    },
    {
     "name": "stdout",
     "output_type": "stream",
     "text": [
      "85.12230352084173\n"
     ]
    },
    {
     "name": "stderr",
     "output_type": "stream",
     "text": [
      "/var/folders/vk/f22z063n5rl20ps172zv7gxm0000gn/T/ipykernel_13064/1535690992.py:6: DtypeWarning: Columns (37) have mixed types. Specify dtype option on import or set low_memory=False.\n",
      "  df1 = pd.read_csv('/Users/morainarthur/Home/Datascience/redbull-pit-strategy/data/CSV/lapweatherf1.csv')\n"
     ]
    },
    {
     "name": "stdout",
     "output_type": "stream",
     "text": [
      "87.39901781737174\n"
     ]
    },
    {
     "name": "stderr",
     "output_type": "stream",
     "text": [
      "/var/folders/vk/f22z063n5rl20ps172zv7gxm0000gn/T/ipykernel_13064/1535690992.py:6: DtypeWarning: Columns (37) have mixed types. Specify dtype option on import or set low_memory=False.\n",
      "  df1 = pd.read_csv('/Users/morainarthur/Home/Datascience/redbull-pit-strategy/data/CSV/lapweatherf1.csv')\n"
     ]
    },
    {
     "name": "stdout",
     "output_type": "stream",
     "text": [
      "97.02195381062353\n"
     ]
    },
    {
     "name": "stderr",
     "output_type": "stream",
     "text": [
      "/var/folders/vk/f22z063n5rl20ps172zv7gxm0000gn/T/ipykernel_13064/1535690992.py:6: DtypeWarning: Columns (37) have mixed types. Specify dtype option on import or set low_memory=False.\n",
      "  df1 = pd.read_csv('/Users/morainarthur/Home/Datascience/redbull-pit-strategy/data/CSV/lapweatherf1.csv')\n"
     ]
    },
    {
     "name": "stdout",
     "output_type": "stream",
     "text": [
      "84.1680666666667\n"
     ]
    },
    {
     "name": "stderr",
     "output_type": "stream",
     "text": [
      "/var/folders/vk/f22z063n5rl20ps172zv7gxm0000gn/T/ipykernel_13064/1535690992.py:6: DtypeWarning: Columns (37) have mixed types. Specify dtype option on import or set low_memory=False.\n",
      "  df1 = pd.read_csv('/Users/morainarthur/Home/Datascience/redbull-pit-strategy/data/CSV/lapweatherf1.csv')\n"
     ]
    },
    {
     "name": "stdout",
     "output_type": "stream",
     "text": [
      "80.41334462809915\n"
     ]
    },
    {
     "name": "stderr",
     "output_type": "stream",
     "text": [
      "/var/folders/vk/f22z063n5rl20ps172zv7gxm0000gn/T/ipykernel_13064/1535690992.py:6: DtypeWarning: Columns (37) have mixed types. Specify dtype option on import or set low_memory=False.\n",
      "  df1 = pd.read_csv('/Users/morainarthur/Home/Datascience/redbull-pit-strategy/data/CSV/lapweatherf1.csv')\n"
     ]
    },
    {
     "name": "stdout",
     "output_type": "stream",
     "text": [
      "98.45287626031165\n"
     ]
    },
    {
     "name": "stderr",
     "output_type": "stream",
     "text": [
      "/var/folders/vk/f22z063n5rl20ps172zv7gxm0000gn/T/ipykernel_13064/1535690992.py:6: DtypeWarning: Columns (37) have mixed types. Specify dtype option on import or set low_memory=False.\n",
      "  df1 = pd.read_csv('/Users/morainarthur/Home/Datascience/redbull-pit-strategy/data/CSV/lapweatherf1.csv')\n",
      "/var/folders/vk/f22z063n5rl20ps172zv7gxm0000gn/T/ipykernel_13064/1535690992.py:6: DtypeWarning: Columns (37) have mixed types. Specify dtype option on import or set low_memory=False.\n",
      "  df1 = pd.read_csv('/Users/morainarthur/Home/Datascience/redbull-pit-strategy/data/CSV/lapweatherf1.csv')\n"
     ]
    },
    {
     "name": "stdout",
     "output_type": "stream",
     "text": [
      "100.54511171171171\n"
     ]
    },
    {
     "name": "stderr",
     "output_type": "stream",
     "text": [
      "/var/folders/vk/f22z063n5rl20ps172zv7gxm0000gn/T/ipykernel_13064/1535690992.py:6: DtypeWarning: Columns (37) have mixed types. Specify dtype option on import or set low_memory=False.\n",
      "  df1 = pd.read_csv('/Users/morainarthur/Home/Datascience/redbull-pit-strategy/data/CSV/lapweatherf1.csv')\n"
     ]
    },
    {
     "name": "stdout",
     "output_type": "stream",
     "text": [
      "86.18173764387282\n"
     ]
    },
    {
     "name": "stderr",
     "output_type": "stream",
     "text": [
      "/var/folders/vk/f22z063n5rl20ps172zv7gxm0000gn/T/ipykernel_13064/1535690992.py:6: DtypeWarning: Columns (37) have mixed types. Specify dtype option on import or set low_memory=False.\n",
      "  df1 = pd.read_csv('/Users/morainarthur/Home/Datascience/redbull-pit-strategy/data/CSV/lapweatherf1.csv')\n"
     ]
    },
    {
     "name": "stdout",
     "output_type": "stream",
     "text": [
      "102.4157019681348\n"
     ]
    },
    {
     "name": "stderr",
     "output_type": "stream",
     "text": [
      "/var/folders/vk/f22z063n5rl20ps172zv7gxm0000gn/T/ipykernel_13064/1535690992.py:6: DtypeWarning: Columns (37) have mixed types. Specify dtype option on import or set low_memory=False.\n",
      "  df1 = pd.read_csv('/Users/morainarthur/Home/Datascience/redbull-pit-strategy/data/CSV/lapweatherf1.csv')\n"
     ]
    },
    {
     "name": "stdout",
     "output_type": "stream",
     "text": [
      "82.29841417910454\n"
     ]
    },
    {
     "name": "stderr",
     "output_type": "stream",
     "text": [
      "/var/folders/vk/f22z063n5rl20ps172zv7gxm0000gn/T/ipykernel_13064/1535690992.py:6: DtypeWarning: Columns (37) have mixed types. Specify dtype option on import or set low_memory=False.\n",
      "  df1 = pd.read_csv('/Users/morainarthur/Home/Datascience/redbull-pit-strategy/data/CSV/lapweatherf1.csv')\n",
      "/var/folders/vk/f22z063n5rl20ps172zv7gxm0000gn/T/ipykernel_13064/1535690992.py:6: DtypeWarning: Columns (37) have mixed types. Specify dtype option on import or set low_memory=False.\n",
      "  df1 = pd.read_csv('/Users/morainarthur/Home/Datascience/redbull-pit-strategy/data/CSV/lapweatherf1.csv')\n"
     ]
    },
    {
     "name": "stdout",
     "output_type": "stream",
     "text": [
      "98.55810615384614\n"
     ]
    },
    {
     "name": "stderr",
     "output_type": "stream",
     "text": [
      "/var/folders/vk/f22z063n5rl20ps172zv7gxm0000gn/T/ipykernel_13064/1535690992.py:6: DtypeWarning: Columns (37) have mixed types. Specify dtype option on import or set low_memory=False.\n",
      "  df1 = pd.read_csv('/Users/morainarthur/Home/Datascience/redbull-pit-strategy/data/CSV/lapweatherf1.csv')\n"
     ]
    },
    {
     "name": "stdout",
     "output_type": "stream",
     "text": [
      "91.05849039692691\n"
     ]
    },
    {
     "name": "stderr",
     "output_type": "stream",
     "text": [
      "/var/folders/vk/f22z063n5rl20ps172zv7gxm0000gn/T/ipykernel_13064/1535690992.py:6: DtypeWarning: Columns (37) have mixed types. Specify dtype option on import or set low_memory=False.\n",
      "  df1 = pd.read_csv('/Users/morainarthur/Home/Datascience/redbull-pit-strategy/data/CSV/lapweatherf1.csv')\n"
     ]
    },
    {
     "name": "stdout",
     "output_type": "stream",
     "text": [
      "73.04040280210168\n"
     ]
    },
    {
     "name": "stderr",
     "output_type": "stream",
     "text": [
      "/var/folders/vk/f22z063n5rl20ps172zv7gxm0000gn/T/ipykernel_13064/1535690992.py:6: DtypeWarning: Columns (37) have mixed types. Specify dtype option on import or set low_memory=False.\n",
      "  df1 = pd.read_csv('/Users/morainarthur/Home/Datascience/redbull-pit-strategy/data/CSV/lapweatherf1.csv')\n"
     ]
    },
    {
     "name": "stdout",
     "output_type": "stream",
     "text": [
      "109.02829732408335\n"
     ]
    },
    {
     "name": "stderr",
     "output_type": "stream",
     "text": [
      "/var/folders/vk/f22z063n5rl20ps172zv7gxm0000gn/T/ipykernel_13064/1535690992.py:6: DtypeWarning: Columns (37) have mixed types. Specify dtype option on import or set low_memory=False.\n",
      "  df1 = pd.read_csv('/Users/morainarthur/Home/Datascience/redbull-pit-strategy/data/CSV/lapweatherf1.csv')\n"
     ]
    },
    {
     "name": "stdout",
     "output_type": "stream",
     "text": [
      "98.72058275058279\n"
     ]
    },
    {
     "name": "stderr",
     "output_type": "stream",
     "text": [
      "/var/folders/vk/f22z063n5rl20ps172zv7gxm0000gn/T/ipykernel_13064/1535690992.py:6: DtypeWarning: Columns (37) have mixed types. Specify dtype option on import or set low_memory=False.\n",
      "  df1 = pd.read_csv('/Users/morainarthur/Home/Datascience/redbull-pit-strategy/data/CSV/lapweatherf1.csv')\n"
     ]
    },
    {
     "name": "stdout",
     "output_type": "stream",
     "text": [
      "106.69152064026949\n"
     ]
    },
    {
     "name": "stderr",
     "output_type": "stream",
     "text": [
      "/var/folders/vk/f22z063n5rl20ps172zv7gxm0000gn/T/ipykernel_13064/1535690992.py:6: DtypeWarning: Columns (37) have mixed types. Specify dtype option on import or set low_memory=False.\n",
      "  df1 = pd.read_csv('/Users/morainarthur/Home/Datascience/redbull-pit-strategy/data/CSV/lapweatherf1.csv')\n"
     ]
    },
    {
     "name": "stdout",
     "output_type": "stream",
     "text": [
      "75.73884492481203\n"
     ]
    },
    {
     "name": "stderr",
     "output_type": "stream",
     "text": [
      "/var/folders/vk/f22z063n5rl20ps172zv7gxm0000gn/T/ipykernel_13064/1535690992.py:6: DtypeWarning: Columns (37) have mixed types. Specify dtype option on import or set low_memory=False.\n",
      "  df1 = pd.read_csv('/Users/morainarthur/Home/Datascience/redbull-pit-strategy/data/CSV/lapweatherf1.csv')\n"
     ]
    },
    {
     "name": "stdout",
     "output_type": "stream",
     "text": [
      "93.48667871485945\n"
     ]
    },
    {
     "name": "stderr",
     "output_type": "stream",
     "text": [
      "/var/folders/vk/f22z063n5rl20ps172zv7gxm0000gn/T/ipykernel_13064/1535690992.py:6: DtypeWarning: Columns (37) have mixed types. Specify dtype option on import or set low_memory=False.\n",
      "  df1 = pd.read_csv('/Users/morainarthur/Home/Datascience/redbull-pit-strategy/data/CSV/lapweatherf1.csv')\n"
     ]
    },
    {
     "name": "stdout",
     "output_type": "stream",
     "text": [
      "81.63676911544222\n"
     ]
    },
    {
     "name": "stderr",
     "output_type": "stream",
     "text": [
      "/var/folders/vk/f22z063n5rl20ps172zv7gxm0000gn/T/ipykernel_13064/1535690992.py:6: DtypeWarning: Columns (37) have mixed types. Specify dtype option on import or set low_memory=False.\n",
      "  df1 = pd.read_csv('/Users/morainarthur/Home/Datascience/redbull-pit-strategy/data/CSV/lapweatherf1.csv')\n"
     ]
    },
    {
     "name": "stdout",
     "output_type": "stream",
     "text": [
      "97.71412540716615\n"
     ]
    },
    {
     "name": "stderr",
     "output_type": "stream",
     "text": [
      "/var/folders/vk/f22z063n5rl20ps172zv7gxm0000gn/T/ipykernel_13064/1535690992.py:6: DtypeWarning: Columns (37) have mixed types. Specify dtype option on import or set low_memory=False.\n",
      "  df1 = pd.read_csv('/Users/morainarthur/Home/Datascience/redbull-pit-strategy/data/CSV/lapweatherf1.csv')\n"
     ]
    },
    {
     "name": "stdout",
     "output_type": "stream",
     "text": [
      "78.14083285024152\n"
     ]
    },
    {
     "name": "stderr",
     "output_type": "stream",
     "text": [
      "/var/folders/vk/f22z063n5rl20ps172zv7gxm0000gn/T/ipykernel_13064/1535690992.py:6: DtypeWarning: Columns (37) have mixed types. Specify dtype option on import or set low_memory=False.\n",
      "  df1 = pd.read_csv('/Users/morainarthur/Home/Datascience/redbull-pit-strategy/data/CSV/lapweatherf1.csv')\n"
     ]
    },
    {
     "name": "stdout",
     "output_type": "stream",
     "text": [
      "100.18632838427956\n"
     ]
    },
    {
     "name": "stderr",
     "output_type": "stream",
     "text": [
      "/var/folders/vk/f22z063n5rl20ps172zv7gxm0000gn/T/ipykernel_13064/1535690992.py:6: DtypeWarning: Columns (37) have mixed types. Specify dtype option on import or set low_memory=False.\n",
      "  df1 = pd.read_csv('/Users/morainarthur/Home/Datascience/redbull-pit-strategy/data/CSV/lapweatherf1.csv')\n"
     ]
    },
    {
     "name": "stdout",
     "output_type": "stream",
     "text": [
      "85.12230352084173\n"
     ]
    },
    {
     "name": "stderr",
     "output_type": "stream",
     "text": [
      "/var/folders/vk/f22z063n5rl20ps172zv7gxm0000gn/T/ipykernel_13064/1535690992.py:6: DtypeWarning: Columns (37) have mixed types. Specify dtype option on import or set low_memory=False.\n",
      "  df1 = pd.read_csv('/Users/morainarthur/Home/Datascience/redbull-pit-strategy/data/CSV/lapweatherf1.csv')\n"
     ]
    },
    {
     "name": "stdout",
     "output_type": "stream",
     "text": [
      "87.39901781737174\n"
     ]
    },
    {
     "name": "stderr",
     "output_type": "stream",
     "text": [
      "/var/folders/vk/f22z063n5rl20ps172zv7gxm0000gn/T/ipykernel_13064/1535690992.py:6: DtypeWarning: Columns (37) have mixed types. Specify dtype option on import or set low_memory=False.\n",
      "  df1 = pd.read_csv('/Users/morainarthur/Home/Datascience/redbull-pit-strategy/data/CSV/lapweatherf1.csv')\n"
     ]
    },
    {
     "name": "stdout",
     "output_type": "stream",
     "text": [
      "97.02195381062353\n"
     ]
    },
    {
     "name": "stderr",
     "output_type": "stream",
     "text": [
      "/var/folders/vk/f22z063n5rl20ps172zv7gxm0000gn/T/ipykernel_13064/1535690992.py:6: DtypeWarning: Columns (37) have mixed types. Specify dtype option on import or set low_memory=False.\n",
      "  df1 = pd.read_csv('/Users/morainarthur/Home/Datascience/redbull-pit-strategy/data/CSV/lapweatherf1.csv')\n"
     ]
    },
    {
     "name": "stdout",
     "output_type": "stream",
     "text": [
      "84.1680666666667\n"
     ]
    },
    {
     "name": "stderr",
     "output_type": "stream",
     "text": [
      "/var/folders/vk/f22z063n5rl20ps172zv7gxm0000gn/T/ipykernel_13064/1535690992.py:6: DtypeWarning: Columns (37) have mixed types. Specify dtype option on import or set low_memory=False.\n",
      "  df1 = pd.read_csv('/Users/morainarthur/Home/Datascience/redbull-pit-strategy/data/CSV/lapweatherf1.csv')\n"
     ]
    },
    {
     "name": "stdout",
     "output_type": "stream",
     "text": [
      "80.41334462809915\n"
     ]
    },
    {
     "name": "stderr",
     "output_type": "stream",
     "text": [
      "/var/folders/vk/f22z063n5rl20ps172zv7gxm0000gn/T/ipykernel_13064/1535690992.py:6: DtypeWarning: Columns (37) have mixed types. Specify dtype option on import or set low_memory=False.\n",
      "  df1 = pd.read_csv('/Users/morainarthur/Home/Datascience/redbull-pit-strategy/data/CSV/lapweatherf1.csv')\n"
     ]
    },
    {
     "name": "stdout",
     "output_type": "stream",
     "text": [
      "98.45287626031165\n"
     ]
    },
    {
     "name": "stderr",
     "output_type": "stream",
     "text": [
      "/var/folders/vk/f22z063n5rl20ps172zv7gxm0000gn/T/ipykernel_13064/1535690992.py:6: DtypeWarning: Columns (37) have mixed types. Specify dtype option on import or set low_memory=False.\n",
      "  df1 = pd.read_csv('/Users/morainarthur/Home/Datascience/redbull-pit-strategy/data/CSV/lapweatherf1.csv')\n",
      "/var/folders/vk/f22z063n5rl20ps172zv7gxm0000gn/T/ipykernel_13064/1535690992.py:6: DtypeWarning: Columns (37) have mixed types. Specify dtype option on import or set low_memory=False.\n",
      "  df1 = pd.read_csv('/Users/morainarthur/Home/Datascience/redbull-pit-strategy/data/CSV/lapweatherf1.csv')\n"
     ]
    },
    {
     "name": "stdout",
     "output_type": "stream",
     "text": [
      "100.54511171171171\n"
     ]
    },
    {
     "name": "stderr",
     "output_type": "stream",
     "text": [
      "/var/folders/vk/f22z063n5rl20ps172zv7gxm0000gn/T/ipykernel_13064/1535690992.py:6: DtypeWarning: Columns (37) have mixed types. Specify dtype option on import or set low_memory=False.\n",
      "  df1 = pd.read_csv('/Users/morainarthur/Home/Datascience/redbull-pit-strategy/data/CSV/lapweatherf1.csv')\n"
     ]
    },
    {
     "name": "stdout",
     "output_type": "stream",
     "text": [
      "86.18173764387282\n"
     ]
    },
    {
     "name": "stderr",
     "output_type": "stream",
     "text": [
      "/var/folders/vk/f22z063n5rl20ps172zv7gxm0000gn/T/ipykernel_13064/1535690992.py:6: DtypeWarning: Columns (37) have mixed types. Specify dtype option on import or set low_memory=False.\n",
      "  df1 = pd.read_csv('/Users/morainarthur/Home/Datascience/redbull-pit-strategy/data/CSV/lapweatherf1.csv')\n"
     ]
    },
    {
     "name": "stdout",
     "output_type": "stream",
     "text": [
      "102.4157019681348\n"
     ]
    },
    {
     "name": "stderr",
     "output_type": "stream",
     "text": [
      "/var/folders/vk/f22z063n5rl20ps172zv7gxm0000gn/T/ipykernel_13064/1535690992.py:6: DtypeWarning: Columns (37) have mixed types. Specify dtype option on import or set low_memory=False.\n",
      "  df1 = pd.read_csv('/Users/morainarthur/Home/Datascience/redbull-pit-strategy/data/CSV/lapweatherf1.csv')\n"
     ]
    },
    {
     "name": "stdout",
     "output_type": "stream",
     "text": [
      "82.29841417910454\n"
     ]
    },
    {
     "name": "stderr",
     "output_type": "stream",
     "text": [
      "/var/folders/vk/f22z063n5rl20ps172zv7gxm0000gn/T/ipykernel_13064/1535690992.py:6: DtypeWarning: Columns (37) have mixed types. Specify dtype option on import or set low_memory=False.\n",
      "  df1 = pd.read_csv('/Users/morainarthur/Home/Datascience/redbull-pit-strategy/data/CSV/lapweatherf1.csv')\n",
      "/var/folders/vk/f22z063n5rl20ps172zv7gxm0000gn/T/ipykernel_13064/1535690992.py:6: DtypeWarning: Columns (37) have mixed types. Specify dtype option on import or set low_memory=False.\n",
      "  df1 = pd.read_csv('/Users/morainarthur/Home/Datascience/redbull-pit-strategy/data/CSV/lapweatherf1.csv')\n"
     ]
    },
    {
     "name": "stdout",
     "output_type": "stream",
     "text": [
      "85.76441930618402\n"
     ]
    },
    {
     "data": {
      "text/plain": [
       "{0: 9.5367431640625e-07,\n",
       " 1287: 2.186600923538208,\n",
       " 2063: 3.9555342197418213,\n",
       " 3772: 5.9214699268341064,\n",
       " 4772: 7.897726058959961,\n",
       " 6907: 9.798135042190552,\n",
       " 8076: 11.827510595321655,\n",
       " 9134: 13.738490104675293,\n",
       " 10866: 15.67737889289856,\n",
       " 11526: 17.643830060958862,\n",
       " 12124: 19.601498126983643,\n",
       " 13157: 21.58196520805359,\n",
       " 14297: 167.10443997383118,\n",
       " 16762: 25.53424906730652,\n",
       " 18538: 27.49581003189087,\n",
       " 19396: 29.429306030273438,\n",
       " 19920: 31.395215034484863,\n",
       " 21124: 1159.3263847827911,\n",
       " 22206: 37.28484296798706,\n",
       " 22757: 39.15558481216431,\n",
       " 25694: 41.23978304862976,\n",
       " 26753: 43.15518379211426,\n",
       " 28345: 47.24258494377136,\n",
       " 29667: 49.09381103515625}"
      ]
     },
     "execution_count": 35,
     "metadata": {},
     "output_type": "execute_result"
    },
    {
     "data": {
      "image/png": "[encoded data removed]",
      "text/plain": [
       "<Figure size 1200x200 with 1 Axes>"
      ]
     },
     "metadata": {},
     "output_type": "display_data"
    }
   ],
   "source": [
    "lst_temps(l1,['MEDIUM'])"
   ]
  },
  {
   "cell_type": "code",
   "execution_count": null,
   "id": "d4366fd8-1dbb-4fd1-a529-22ffd0cfe050",
   "metadata": {},
   "outputs": [],
   "source": []
  }
 ],
 "metadata": {
  "kernelspec": {
   "display_name": "Python 3 (ipykernel)",
   "language": "python",
   "name": "python3"
  },
  "language_info": {
   "codemirror_mode": {
    "name": "ipython",
    "version": 3
   },
   "file_extension": ".py",
   "mimetype": "text/x-python",
   "name": "python",
   "nbconvert_exporter": "python",
   "pygments_lexer": "ipython3",
   "version": "3.9.13"
  }
 },
 "nbformat": 4,
 "nbformat_minor": 5
}
