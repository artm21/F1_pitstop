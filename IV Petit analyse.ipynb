{
 "cells": [
  {
   "cell_type": "markdown",
   "id": "09819f2f-6223-46a1-b868-4689e925df1c",
   "metadata": {},
   "source": [
    "# TIPE 2023-2024 \"Jeux et sports\" \n",
    "### MORAIN Arthur MP2 Montaigne"
   ]
  },
  {
   "cell_type": "markdown",
   "id": "b14ee7c6-4bc5-4703-ae6d-c386b6d863c8",
   "metadata": {},
   "source": [
    "## <ins>Optimisation de l'arrêt au stand en Formule 1</ins> "
   ]
  },
  {
   "cell_type": "markdown",
   "id": "2738e093-430c-44c5-86a1-8c9ffe4050d7",
   "metadata": {},
   "source": [
    "### **<ins>IV- Une nouvelle exploration de données :</ins>**   "
   ]
  },
  {
   "cell_type": "markdown",
   "id": "97f6bb05-fec0-4dae-bd54-9ecb1bab7286",
   "metadata": {},
   "source": [
    "#### <ins>a- Création du chemin et ouverture des modules : </ins>"
   ]
  },
  {
   "cell_type": "code",
   "execution_count": 9,
   "id": "1c3061f5-9653-4e92-b2b8-a291877117e9",
   "metadata": {},
   "outputs": [
    {
     "name": "stdout",
     "output_type": "stream",
     "text": [
      "Current working directory is: /Users/morainarthur/Home/Datascience/redbull-pit-strategy/notebooks\n"
     ]
    }
   ],
   "source": [
    "path = '/Users/morainarthur/Home/Datascience/redbull-pit-strategy/notebooks'\n",
    "data_path = '/Users/morainarthur/Home/Datascience/redbull-pit-strategy/data/'\n",
    "cwd = os.getcwd()\n",
    "print(\"Current working directory is:\", cwd)"
   ]
  },
  {
   "cell_type": "code",
   "execution_count": 7,
   "id": "16e93ad4-6bed-4a73-bcd7-24c55276ed4a",
   "metadata": {},
   "outputs": [],
   "source": [
    "import os\n",
    "os.chdir(path)\n",
    "import pandas as pd\n",
    "import logging\n",
    "import json\n",
    "import pickle\n",
    "import requests\n",
    "import numpy as np\n",
    "import datetime as dt\n",
    "import matplotlib.pyplot as plt"
   ]
  },
  {
   "cell_type": "markdown",
   "id": "06ae5ac7-7d3c-4b52-9d49-cb6a91795df9",
   "metadata": {},
   "source": [
    "#### <ins>b- Les données météorologiques : </ins>"
   ]
  },
  {
   "cell_type": "markdown",
   "id": "acce0d07-72ec-4a45-af1b-58f1069a98d0",
   "metadata": {},
   "source": [
    "-> Il faut remarquer que les données météorologiques ne sont pas avec les données des tours, en effet ces données sont associées à des sessions et pas à des tours"
   ]
  },
  {
   "cell_type": "code",
   "execution_count": 10,
   "id": "7ba65a8e-b42e-42ce-834b-a07569aeb740",
   "metadata": {},
   "outputs": [],
   "source": [
    "file = open('{}{}'.format(data_path, 'weathers_data.pickle'),'rb')\n",
    "df_weather = pickle.load(file)"
   ]
  },
  {
   "cell_type": "markdown",
   "id": "9e9cfe1f-530e-4eed-ac52-4ade051122b7",
   "metadata": {},
   "source": [
    "-> On se retrouve de nouveau avec des types plus faciles à maitriser"
   ]
  },
  {
   "cell_type": "code",
   "execution_count": 11,
   "id": "6d6ffc07-1db5-4916-a3d3-552c47cc1220",
   "metadata": {},
   "outputs": [
    {
     "data": {
      "text/plain": [
       "(51149, 13)"
      ]
     },
     "execution_count": 11,
     "metadata": {},
     "output_type": "execute_result"
    }
   ],
   "source": [
    "df_weather.shape"
   ]
  },
  {
   "cell_type": "code",
   "execution_count": 12,
   "id": "3072ecaf-9770-470c-a1a5-f721ab81f04a",
   "metadata": {},
   "outputs": [
    {
     "data": {
      "text/plain": [
       "Index(['Time', 'AirTemp', 'Humidity', 'Pressure', 'Rainfall', 'TrackTemp',\n",
       "       'WindDirection', 'WindSpeed', 'RoundNumber', 'EventName', 'country',\n",
       "       'session', 'EventDate'],\n",
       "      dtype='object')"
      ]
     },
     "execution_count": 12,
     "metadata": {},
     "output_type": "execute_result"
    }
   ],
   "source": [
    "df_weather.columns"
   ]
  },
  {
   "cell_type": "code",
   "execution_count": 13,
   "id": "782318ef-e6ed-47a0-ac44-d6aba632ebe1",
   "metadata": {},
   "outputs": [
    {
     "data": {
      "text/html": [
       "<div>\n",
       "<style scoped>\n",
       "    .dataframe tbody tr th:only-of-type {\n",
       "        vertical-align: middle;\n",
       "    }\n",
       "\n",
       "    .dataframe tbody tr th {\n",
       "        vertical-align: top;\n",
       "    }\n",
       "\n",
       "    .dataframe thead th {\n",
       "        text-align: right;\n",
       "    }\n",
       "</style>\n",
       "<table border=\"1\" class=\"dataframe\">\n",
       "  <thead>\n",
       "    <tr style=\"text-align: right;\">\n",
       "      <th></th>\n",
       "      <th>Time</th>\n",
       "      <th>AirTemp</th>\n",
       "      <th>Humidity</th>\n",
       "      <th>Pressure</th>\n",
       "      <th>Rainfall</th>\n",
       "      <th>TrackTemp</th>\n",
       "      <th>WindDirection</th>\n",
       "      <th>WindSpeed</th>\n",
       "      <th>RoundNumber</th>\n",
       "      <th>EventName</th>\n",
       "      <th>country</th>\n",
       "      <th>session</th>\n",
       "      <th>EventDate</th>\n",
       "    </tr>\n",
       "  </thead>\n",
       "  <tbody>\n",
       "    <tr>\n",
       "      <th>0</th>\n",
       "      <td>0 days 00:00:24.964000</td>\n",
       "      <td>25.3</td>\n",
       "      <td>36.7</td>\n",
       "      <td>1020.2</td>\n",
       "      <td>False</td>\n",
       "      <td>38.5</td>\n",
       "      <td>330</td>\n",
       "      <td>2.6</td>\n",
       "      <td>1</td>\n",
       "      <td>Australian Grand Prix</td>\n",
       "      <td>Australia</td>\n",
       "      <td>FP1</td>\n",
       "      <td>2018-03-23 12:00:00+11:00</td>\n",
       "    </tr>\n",
       "    <tr>\n",
       "      <th>1</th>\n",
       "      <td>0 days 00:01:24.977000</td>\n",
       "      <td>25.4</td>\n",
       "      <td>36.9</td>\n",
       "      <td>1020.0</td>\n",
       "      <td>False</td>\n",
       "      <td>38.5</td>\n",
       "      <td>308</td>\n",
       "      <td>2.5</td>\n",
       "      <td>1</td>\n",
       "      <td>Australian Grand Prix</td>\n",
       "      <td>Australia</td>\n",
       "      <td>FP1</td>\n",
       "      <td>2018-03-23 12:00:00+11:00</td>\n",
       "    </tr>\n",
       "    <tr>\n",
       "      <th>2</th>\n",
       "      <td>0 days 00:02:24.990000</td>\n",
       "      <td>25.2</td>\n",
       "      <td>36.8</td>\n",
       "      <td>1020.1</td>\n",
       "      <td>False</td>\n",
       "      <td>38.5</td>\n",
       "      <td>305</td>\n",
       "      <td>2.7</td>\n",
       "      <td>1</td>\n",
       "      <td>Australian Grand Prix</td>\n",
       "      <td>Australia</td>\n",
       "      <td>FP1</td>\n",
       "      <td>2018-03-23 12:00:00+11:00</td>\n",
       "    </tr>\n",
       "    <tr>\n",
       "      <th>3</th>\n",
       "      <td>0 days 00:03:25.002000</td>\n",
       "      <td>25.3</td>\n",
       "      <td>36.1</td>\n",
       "      <td>1020.1</td>\n",
       "      <td>False</td>\n",
       "      <td>38.5</td>\n",
       "      <td>305</td>\n",
       "      <td>2.5</td>\n",
       "      <td>1</td>\n",
       "      <td>Australian Grand Prix</td>\n",
       "      <td>Australia</td>\n",
       "      <td>FP1</td>\n",
       "      <td>2018-03-23 12:00:00+11:00</td>\n",
       "    </tr>\n",
       "  </tbody>\n",
       "</table>\n",
       "</div>"
      ],
      "text/plain": [
       "                    Time  AirTemp  Humidity  Pressure  Rainfall  TrackTemp  \\\n",
       "0 0 days 00:00:24.964000     25.3      36.7    1020.2     False       38.5   \n",
       "1 0 days 00:01:24.977000     25.4      36.9    1020.0     False       38.5   \n",
       "2 0 days 00:02:24.990000     25.2      36.8    1020.1     False       38.5   \n",
       "3 0 days 00:03:25.002000     25.3      36.1    1020.1     False       38.5   \n",
       "\n",
       "   WindDirection  WindSpeed  RoundNumber              EventName    country  \\\n",
       "0            330        2.6            1  Australian Grand Prix  Australia   \n",
       "1            308        2.5            1  Australian Grand Prix  Australia   \n",
       "2            305        2.7            1  Australian Grand Prix  Australia   \n",
       "3            305        2.5            1  Australian Grand Prix  Australia   \n",
       "\n",
       "  session                  EventDate  \n",
       "0     FP1  2018-03-23 12:00:00+11:00  \n",
       "1     FP1  2018-03-23 12:00:00+11:00  \n",
       "2     FP1  2018-03-23 12:00:00+11:00  \n",
       "3     FP1  2018-03-23 12:00:00+11:00  "
      ]
     },
     "execution_count": 13,
     "metadata": {},
     "output_type": "execute_result"
    }
   ],
   "source": [
    "df_weather.head(4)"
   ]
  },
  {
   "cell_type": "markdown",
   "id": "1e37466c-eb37-471c-ac2c-0d5113ebd83d",
   "metadata": {},
   "source": [
    "-> Les informations pourront donc être utilisé ce qui nous donne 7 variables de travail supplémentaire"
   ]
  },
  {
   "cell_type": "markdown",
   "id": "4e986703-8c27-45e7-8cee-391dd2bd513e",
   "metadata": {},
   "source": [
    "-> En plus de travailler selon le circuit on pourra travailler selon la météo (ce qui est un caractère important)"
   ]
  },
  {
   "cell_type": "code",
   "execution_count": 15,
   "id": "f4d44ce1-a29c-4ac7-84b8-496825623a47",
   "metadata": {},
   "outputs": [
    {
     "data": {
      "text/plain": [
       "<bound method Series.count of 0       FP1\n",
       "1       FP1\n",
       "2       FP1\n",
       "3       FP1\n",
       "4       FP1\n",
       "       ... \n",
       "130    Race\n",
       "131    Race\n",
       "132    Race\n",
       "133    Race\n",
       "134    Race\n",
       "Name: session, Length: 51149, dtype: object>"
      ]
     },
     "execution_count": 15,
     "metadata": {},
     "output_type": "execute_result"
    }
   ],
   "source": [
    "df_weather['session'].count"
   ]
  },
  {
   "cell_type": "code",
   "execution_count": 16,
   "id": "a8dca847-0807-4224-ba65-2dcd7d219efa",
   "metadata": {},
   "outputs": [
    {
     "data": {
      "text/html": [
       "<div>\n",
       "<style scoped>\n",
       "    .dataframe tbody tr th:only-of-type {\n",
       "        vertical-align: middle;\n",
       "    }\n",
       "\n",
       "    .dataframe tbody tr th {\n",
       "        vertical-align: top;\n",
       "    }\n",
       "\n",
       "    .dataframe thead th {\n",
       "        text-align: right;\n",
       "    }\n",
       "</style>\n",
       "<table border=\"1\" class=\"dataframe\">\n",
       "  <thead>\n",
       "    <tr style=\"text-align: right;\">\n",
       "      <th></th>\n",
       "      <th>Time</th>\n",
       "      <th>AirTemp</th>\n",
       "      <th>Humidity</th>\n",
       "      <th>Pressure</th>\n",
       "      <th>Rainfall</th>\n",
       "      <th>TrackTemp</th>\n",
       "      <th>WindDirection</th>\n",
       "      <th>WindSpeed</th>\n",
       "      <th>RoundNumber</th>\n",
       "      <th>EventName</th>\n",
       "      <th>country</th>\n",
       "      <th>session</th>\n",
       "      <th>EventDate</th>\n",
       "    </tr>\n",
       "  </thead>\n",
       "  <tbody>\n",
       "    <tr>\n",
       "      <th>0</th>\n",
       "      <td>0 days 00:00:57.060000</td>\n",
       "      <td>24.1</td>\n",
       "      <td>36.2</td>\n",
       "      <td>997.1</td>\n",
       "      <td>False</td>\n",
       "      <td>38.2</td>\n",
       "      <td>294</td>\n",
       "      <td>3.0</td>\n",
       "      <td>1</td>\n",
       "      <td>Australian Grand Prix</td>\n",
       "      <td>Australia</td>\n",
       "      <td>Race</td>\n",
       "      <td>2018-03-25 16:10:00+11:00</td>\n",
       "    </tr>\n",
       "    <tr>\n",
       "      <th>1</th>\n",
       "      <td>0 days 00:01:57.078000</td>\n",
       "      <td>24.0</td>\n",
       "      <td>36.3</td>\n",
       "      <td>997.1</td>\n",
       "      <td>False</td>\n",
       "      <td>38.6</td>\n",
       "      <td>273</td>\n",
       "      <td>1.4</td>\n",
       "      <td>1</td>\n",
       "      <td>Australian Grand Prix</td>\n",
       "      <td>Australia</td>\n",
       "      <td>Race</td>\n",
       "      <td>2018-03-25 16:10:00+11:00</td>\n",
       "    </tr>\n",
       "    <tr>\n",
       "      <th>2</th>\n",
       "      <td>0 days 00:02:57.090000</td>\n",
       "      <td>24.0</td>\n",
       "      <td>36.3</td>\n",
       "      <td>997.1</td>\n",
       "      <td>False</td>\n",
       "      <td>38.6</td>\n",
       "      <td>273</td>\n",
       "      <td>1.4</td>\n",
       "      <td>1</td>\n",
       "      <td>Australian Grand Prix</td>\n",
       "      <td>Australia</td>\n",
       "      <td>Race</td>\n",
       "      <td>2018-03-25 16:10:00+11:00</td>\n",
       "    </tr>\n",
       "  </tbody>\n",
       "</table>\n",
       "</div>"
      ],
      "text/plain": [
       "                    Time  AirTemp  Humidity  Pressure  Rainfall  TrackTemp  \\\n",
       "0 0 days 00:00:57.060000     24.1      36.2     997.1     False       38.2   \n",
       "1 0 days 00:01:57.078000     24.0      36.3     997.1     False       38.6   \n",
       "2 0 days 00:02:57.090000     24.0      36.3     997.1     False       38.6   \n",
       "\n",
       "   WindDirection  WindSpeed  RoundNumber              EventName    country  \\\n",
       "0            294        3.0            1  Australian Grand Prix  Australia   \n",
       "1            273        1.4            1  Australian Grand Prix  Australia   \n",
       "2            273        1.4            1  Australian Grand Prix  Australia   \n",
       "\n",
       "  session                  EventDate  \n",
       "0    Race  2018-03-25 16:10:00+11:00  \n",
       "1    Race  2018-03-25 16:10:00+11:00  \n",
       "2    Race  2018-03-25 16:10:00+11:00  "
      ]
     },
     "execution_count": 16,
     "metadata": {},
     "output_type": "execute_result"
    }
   ],
   "source": [
    "df_weather[df_weather['session']=='Race'].head(3)"
   ]
  },
  {
   "cell_type": "code",
   "execution_count": 19,
   "id": "ef8ae2c6-b58a-414f-98cb-220f5da624dd",
   "metadata": {},
   "outputs": [
    {
     "data": {
      "text/html": [
       "<div>\n",
       "<style scoped>\n",
       "    .dataframe tbody tr th:only-of-type {\n",
       "        vertical-align: middle;\n",
       "    }\n",
       "\n",
       "    .dataframe tbody tr th {\n",
       "        vertical-align: top;\n",
       "    }\n",
       "\n",
       "    .dataframe thead th {\n",
       "        text-align: right;\n",
       "    }\n",
       "</style>\n",
       "<table border=\"1\" class=\"dataframe\">\n",
       "  <thead>\n",
       "    <tr style=\"text-align: right;\">\n",
       "      <th></th>\n",
       "      <th>EventName</th>\n",
       "      <th>session</th>\n",
       "      <th>EventDate</th>\n",
       "      <th>AirTemp</th>\n",
       "      <th>Humidity</th>\n",
       "      <th>Pressure</th>\n",
       "      <th>Rainfall</th>\n",
       "      <th>TrackTemp</th>\n",
       "      <th>WindDirection</th>\n",
       "      <th>WindSpeed</th>\n",
       "      <th>RoundNumber</th>\n",
       "    </tr>\n",
       "  </thead>\n",
       "  <tbody>\n",
       "    <tr>\n",
       "      <th>0</th>\n",
       "      <td>70th Anniversary Grand Prix</td>\n",
       "      <td>Race</td>\n",
       "      <td>2020-08-09 14:10:00+01:00</td>\n",
       "      <td>25.287069</td>\n",
       "      <td>58.556034</td>\n",
       "      <td>1000.950862</td>\n",
       "      <td>0.000000</td>\n",
       "      <td>43.227586</td>\n",
       "      <td>71.931034</td>\n",
       "      <td>2.236207</td>\n",
       "      <td>5.0</td>\n",
       "    </tr>\n",
       "    <tr>\n",
       "      <th>1</th>\n",
       "      <td>Abu Dhabi Grand Prix</td>\n",
       "      <td>Race</td>\n",
       "      <td>2018-11-25 17:10:00+04:00</td>\n",
       "      <td>31.273723</td>\n",
       "      <td>45.437956</td>\n",
       "      <td>1013.111679</td>\n",
       "      <td>0.043796</td>\n",
       "      <td>33.318248</td>\n",
       "      <td>241.175182</td>\n",
       "      <td>2.163504</td>\n",
       "      <td>21.0</td>\n",
       "    </tr>\n",
       "    <tr>\n",
       "      <th>2</th>\n",
       "      <td>Abu Dhabi Grand Prix</td>\n",
       "      <td>Race</td>\n",
       "      <td>2019-12-01 17:10:00+04:00</td>\n",
       "      <td>26.018045</td>\n",
       "      <td>64.471429</td>\n",
       "      <td>1015.383459</td>\n",
       "      <td>0.000000</td>\n",
       "      <td>29.566165</td>\n",
       "      <td>221.097744</td>\n",
       "      <td>1.264662</td>\n",
       "      <td>21.0</td>\n",
       "    </tr>\n",
       "    <tr>\n",
       "      <th>3</th>\n",
       "      <td>Abu Dhabi Grand Prix</td>\n",
       "      <td>Race</td>\n",
       "      <td>2020-12-13 17:10:00+04:00</td>\n",
       "      <td>23.121481</td>\n",
       "      <td>55.446667</td>\n",
       "      <td>1015.847407</td>\n",
       "      <td>0.000000</td>\n",
       "      <td>27.980000</td>\n",
       "      <td>258.244444</td>\n",
       "      <td>2.504444</td>\n",
       "      <td>17.0</td>\n",
       "    </tr>\n",
       "    <tr>\n",
       "      <th>4</th>\n",
       "      <td>Abu Dhabi Grand Prix</td>\n",
       "      <td>Race</td>\n",
       "      <td>2021-12-12 17:00:00+04:00</td>\n",
       "      <td>24.519108</td>\n",
       "      <td>59.054777</td>\n",
       "      <td>1017.710828</td>\n",
       "      <td>0.000000</td>\n",
       "      <td>28.465605</td>\n",
       "      <td>289.191083</td>\n",
       "      <td>0.414650</td>\n",
       "      <td>22.0</td>\n",
       "    </tr>\n",
       "  </tbody>\n",
       "</table>\n",
       "</div>"
      ],
      "text/plain": [
       "                     EventName session                  EventDate    AirTemp  \\\n",
       "0  70th Anniversary Grand Prix    Race  2020-08-09 14:10:00+01:00  25.287069   \n",
       "1         Abu Dhabi Grand Prix    Race  2018-11-25 17:10:00+04:00  31.273723   \n",
       "2         Abu Dhabi Grand Prix    Race  2019-12-01 17:10:00+04:00  26.018045   \n",
       "3         Abu Dhabi Grand Prix    Race  2020-12-13 17:10:00+04:00  23.121481   \n",
       "4         Abu Dhabi Grand Prix    Race  2021-12-12 17:00:00+04:00  24.519108   \n",
       "\n",
       "    Humidity     Pressure  Rainfall  TrackTemp  WindDirection  WindSpeed  \\\n",
       "0  58.556034  1000.950862  0.000000  43.227586      71.931034   2.236207   \n",
       "1  45.437956  1013.111679  0.043796  33.318248     241.175182   2.163504   \n",
       "2  64.471429  1015.383459  0.000000  29.566165     221.097744   1.264662   \n",
       "3  55.446667  1015.847407  0.000000  27.980000     258.244444   2.504444   \n",
       "4  59.054777  1017.710828  0.000000  28.465605     289.191083   0.414650   \n",
       "\n",
       "   RoundNumber  \n",
       "0          5.0  \n",
       "1         21.0  \n",
       "2         21.0  \n",
       "3         17.0  \n",
       "4         22.0  "
      ]
     },
     "execution_count": 19,
     "metadata": {},
     "output_type": "execute_result"
    }
   ],
   "source": [
    "ave_weather = df_weather[df_weather['session']=='Race'].groupby(['EventName','session','EventDate']).mean().reset_index().sort_values(['EventName'])\n",
    "ave_weather.head(5)"
   ]
  },
  {
   "cell_type": "code",
   "execution_count": 20,
   "id": "eedbc265-5a26-4bf6-8573-1697795a9bd8",
   "metadata": {},
   "outputs": [
    {
     "data": {
      "image/png": "[encoded data removed]",
      "text/plain": [
       "<Figure size 1200x200 with 1 Axes>"
      ]
     },
     "metadata": {},
     "output_type": "display_data"
    }
   ],
   "source": [
    "def plot_weather(d_f):\n",
    "\n",
    "    fig = plt.figure(figsize=(12,2))\n",
    "    ax = fig.add_axes([0,0,1,1])\n",
    "    labels = [d_f.loc[x,['EventName']].values[0] +'_'+ \n",
    "              str(pd.DatetimeIndex(d_f.loc[x,['EventDate']]).year.values[0]) \n",
    "              for x in range(len(d_f))]\n",
    "    x = np.arange(len(labels) )\n",
    "    ax.bar(x + 0.00, d_f['AirTemp'], color='b', width=0.10)\n",
    "    ax.bar(x + 0.25, d_f['TrackTemp'], color='r', width=0.10)\n",
    "    ax.bar(x + 0.50, d_f['Humidity'], color='g', width=0.10)\n",
    "    ax.set_xticks(x, labels, rotation=45, fontsize =10)\n",
    "    ax.legend(['AirTemp','TrackTemp','Humidity'])\n",
    "    ax.grid()\n",
    "    plt.title('average weather parameters at different sessions')\n",
    "    plt.show()\n",
    "    return\n",
    "\n",
    "\n",
    "plot_weather(ave_weather[(ave_weather['EventName']=='Austrian Grand Prix') | \n",
    "    (ave_weather['EventName']=='Abu Dhabi Grand Prix')].reset_index())"
   ]
  },
  {
   "cell_type": "markdown",
   "id": "7dcc62a9-bcdd-46ec-a5b4-304e5416cce7",
   "metadata": {},
   "source": [
    "-> les données météréologiques ne sont pas les mêmes chaque année sur les circuits ce qui nous fait remarquer que la donnée météo est intéressante"
   ]
  },
  {
   "cell_type": "code",
   "execution_count": 38,
   "id": "d2456d11-494e-462d-8423-9893d0c03811",
   "metadata": {},
   "outputs": [
    {
     "data": {
      "text/plain": [
       "<bound method Series.count of 0      Australian Grand Prix\n",
       "1      Australian Grand Prix\n",
       "2      Australian Grand Prix\n",
       "3      Australian Grand Prix\n",
       "4      Australian Grand Prix\n",
       "               ...          \n",
       "130     Abu Dhabi Grand Prix\n",
       "131     Abu Dhabi Grand Prix\n",
       "132     Abu Dhabi Grand Prix\n",
       "133     Abu Dhabi Grand Prix\n",
       "134     Abu Dhabi Grand Prix\n",
       "Name: EventName, Length: 51149, dtype: object>"
      ]
     },
     "execution_count": 38,
     "metadata": {},
     "output_type": "execute_result"
    }
   ],
   "source": [
    "df_weather['EventName'].count"
   ]
  },
  {
   "cell_type": "code",
   "execution_count": 31,
   "id": "e4388810-b7bd-4d8f-b0b9-17cfbfa150fd",
   "metadata": {},
   "outputs": [
    {
     "data": {
      "image/png": "[encoded data removed]",
      "text/plain": [
       "<Figure size 1200x200 with 1 Axes>"
      ]
     },
     "metadata": {},
     "output_type": "display_data"
    }
   ],
   "source": [
    "plot_weather(ave_weather[(ave_weather['EventName']=='Emilia Romagna Grand Prix') | \n",
    "    (ave_weather['EventName']=='Australian Grand Prix')].reset_index())"
   ]
  },
  {
   "cell_type": "markdown",
   "id": "6e166bb5-d084-494b-85d1-e50e322dd9c7",
   "metadata": {},
   "source": [
    "-> la saison se déroulant sur 7 mois, la météo n'est pas la même partout"
   ]
  },
  {
   "cell_type": "code",
   "execution_count": 26,
   "id": "acd403b4-508a-4085-a712-45ab43f6edbd",
   "metadata": {},
   "outputs": [],
   "source": [
    "def plot_pressure(d_f):\n",
    "\n",
    "    fig = plt.figure(figsize=(12,2))\n",
    "    ax = fig.add_axes([0,0,1,1])\n",
    "    labels = [d_f.loc[x,['EventName']].values[0] +'_'+ \n",
    "              str(pd.DatetimeIndex(d_f.loc[x,['EventDate']]).year.values[0]) \n",
    "              for x in range(len(d_f))]\n",
    "    x = np.arange(len(labels) )\n",
    "    ax.bar(x + 0.00, d_f['Pressure'], color='b', width=0.10)\n",
    "    ax.set_xticks(x, labels, rotation=45, fontsize =10)\n",
    "    ax.legend(['Pressure'])\n",
    "    ax.grid()\n",
    "    plt.title('average pressure parameters at different sessions')\n",
    "    plt.show()\n",
    "    return"
   ]
  },
  {
   "cell_type": "code",
   "execution_count": 42,
   "id": "5ef1c493-fa92-4243-955f-8530f53b8897",
   "metadata": {},
   "outputs": [
    {
     "data": {
      "image/png": "[encoded data removed]",
      "text/plain": [
       "<Figure size 1200x200 with 1 Axes>"
      ]
     },
     "metadata": {},
     "output_type": "display_data"
    }
   ],
   "source": [
    "plot_pressure(ave_weather[(ave_weather['EventName']=='Australian Grand Prix') | \n",
    "    (ave_weather['EventName']=='Mexico City Grand Prix')].reset_index())"
   ]
  },
  {
   "cell_type": "markdown",
   "id": "e9af76cd-ad6a-460f-8b60-ceca1762e306",
   "metadata": {},
   "source": [
    "-> La pression est caractéristique de la position du circuit mais cependant elle ne varie pas en fonction des année ainsi on peut retirer ce paramètre si l'algorithme dépend du circuit"
   ]
  },
  {
   "cell_type": "markdown",
   "id": "c66b87e9-2c46-404b-923a-5c185e1975e0",
   "metadata": {},
   "source": [
    "#### <ins>c- Les résultats de course : </ins>"
   ]
  },
  {
   "cell_type": "code",
   "execution_count": 43,
   "id": "8ceed894-2ae5-4c48-b289-3fe925fd19ec",
   "metadata": {},
   "outputs": [],
   "source": [
    "file = open('{}{}'.format(data_path, 'results_data.pickle'),'rb')\n",
    "df_res = pickle.load(file)"
   ]
  },
  {
   "cell_type": "markdown",
   "id": "6de13374-c4a5-4afc-84ca-fc896145e7d6",
   "metadata": {},
   "source": [
    "-> ces données vraisemblablement pourraient être intéressante mais ne vont pas nous servir"
   ]
  },
  {
   "cell_type": "code",
   "execution_count": 44,
   "id": "d84443d8-f0ad-4374-bab7-2f990bedb8b9",
   "metadata": {},
   "outputs": [],
   "source": [
    "df_res['eventYear'] = pd.to_datetime(df_res['EventDate'], utc=True).dt.year\n",
    "df_res['Q1Sec'] = df_res['Q1']/np.timedelta64(1, 's')\n",
    "df_res['Q2Sec'] = df_res['Q2']/np.timedelta64(1, 's')\n",
    "df_res['Q3Sec'] = df_res['Q3']/np.timedelta64(1, 's')\n",
    "df_res['TimeSec'] = df_res['Time']/np.timedelta64(1, 's')"
   ]
  },
  {
   "cell_type": "code",
   "execution_count": 45,
   "id": "b8aa62d8-c944-4ded-bc56-f163e1049947",
   "metadata": {},
   "outputs": [
    {
     "data": {
      "text/html": [
       "<div>\n",
       "<style scoped>\n",
       "    .dataframe tbody tr th:only-of-type {\n",
       "        vertical-align: middle;\n",
       "    }\n",
       "\n",
       "    .dataframe tbody tr th {\n",
       "        vertical-align: top;\n",
       "    }\n",
       "\n",
       "    .dataframe thead th {\n",
       "        text-align: right;\n",
       "    }\n",
       "</style>\n",
       "<table border=\"1\" class=\"dataframe\">\n",
       "  <thead>\n",
       "    <tr style=\"text-align: right;\">\n",
       "      <th></th>\n",
       "      <th>index</th>\n",
       "      <th>DriverNumber</th>\n",
       "      <th>BroadcastName</th>\n",
       "      <th>Abbreviation</th>\n",
       "      <th>DriverId</th>\n",
       "      <th>TeamName</th>\n",
       "      <th>TeamColor</th>\n",
       "      <th>TeamId</th>\n",
       "      <th>FirstName</th>\n",
       "      <th>LastName</th>\n",
       "      <th>...</th>\n",
       "      <th>RoundNumber</th>\n",
       "      <th>EventName</th>\n",
       "      <th>country</th>\n",
       "      <th>session</th>\n",
       "      <th>EventDate</th>\n",
       "      <th>eventYear</th>\n",
       "      <th>Q1Sec</th>\n",
       "      <th>Q2Sec</th>\n",
       "      <th>Q3Sec</th>\n",
       "      <th>TimeSec</th>\n",
       "    </tr>\n",
       "  </thead>\n",
       "  <tbody>\n",
       "    <tr>\n",
       "      <th>0</th>\n",
       "      <td>3</td>\n",
       "      <td>3</td>\n",
       "      <td>D RICCIARDO</td>\n",
       "      <td>RIC</td>\n",
       "      <td></td>\n",
       "      <td>Renault</td>\n",
       "      <td>fff500</td>\n",
       "      <td></td>\n",
       "      <td>Daniel</td>\n",
       "      <td>Ricciardo</td>\n",
       "      <td>...</td>\n",
       "      <td>1</td>\n",
       "      <td>Australian Grand Prix</td>\n",
       "      <td>Australia</td>\n",
       "      <td>FP1</td>\n",
       "      <td>2019-03-15 12:00:00+11:00</td>\n",
       "      <td>2019</td>\n",
       "      <td>NaN</td>\n",
       "      <td>NaN</td>\n",
       "      <td>NaN</td>\n",
       "      <td>NaN</td>\n",
       "    </tr>\n",
       "    <tr>\n",
       "      <th>1</th>\n",
       "      <td>4</td>\n",
       "      <td>4</td>\n",
       "      <td>L NORRIS</td>\n",
       "      <td>NOR</td>\n",
       "      <td></td>\n",
       "      <td>McLaren</td>\n",
       "      <td>ff8700</td>\n",
       "      <td></td>\n",
       "      <td>Lando</td>\n",
       "      <td>Norris</td>\n",
       "      <td>...</td>\n",
       "      <td>1</td>\n",
       "      <td>Australian Grand Prix</td>\n",
       "      <td>Australia</td>\n",
       "      <td>FP1</td>\n",
       "      <td>2019-03-15 12:00:00+11:00</td>\n",
       "      <td>2019</td>\n",
       "      <td>NaN</td>\n",
       "      <td>NaN</td>\n",
       "      <td>NaN</td>\n",
       "      <td>NaN</td>\n",
       "    </tr>\n",
       "    <tr>\n",
       "      <th>2</th>\n",
       "      <td>5</td>\n",
       "      <td>5</td>\n",
       "      <td>S VETTEL</td>\n",
       "      <td>VET</td>\n",
       "      <td></td>\n",
       "      <td>Ferrari</td>\n",
       "      <td>dc0000</td>\n",
       "      <td></td>\n",
       "      <td>Sebastian</td>\n",
       "      <td>Vettel</td>\n",
       "      <td>...</td>\n",
       "      <td>1</td>\n",
       "      <td>Australian Grand Prix</td>\n",
       "      <td>Australia</td>\n",
       "      <td>FP1</td>\n",
       "      <td>2019-03-15 12:00:00+11:00</td>\n",
       "      <td>2019</td>\n",
       "      <td>NaN</td>\n",
       "      <td>NaN</td>\n",
       "      <td>NaN</td>\n",
       "      <td>NaN</td>\n",
       "    </tr>\n",
       "    <tr>\n",
       "      <th>3</th>\n",
       "      <td>7</td>\n",
       "      <td>7</td>\n",
       "      <td>K RAIKKONEN</td>\n",
       "      <td>RAI</td>\n",
       "      <td></td>\n",
       "      <td>Alfa Romeo Racing</td>\n",
       "      <td>9b0000</td>\n",
       "      <td></td>\n",
       "      <td>Kimi</td>\n",
       "      <td>Räikkönen</td>\n",
       "      <td>...</td>\n",
       "      <td>1</td>\n",
       "      <td>Australian Grand Prix</td>\n",
       "      <td>Australia</td>\n",
       "      <td>FP1</td>\n",
       "      <td>2019-03-15 12:00:00+11:00</td>\n",
       "      <td>2019</td>\n",
       "      <td>NaN</td>\n",
       "      <td>NaN</td>\n",
       "      <td>NaN</td>\n",
       "      <td>NaN</td>\n",
       "    </tr>\n",
       "    <tr>\n",
       "      <th>4</th>\n",
       "      <td>8</td>\n",
       "      <td>8</td>\n",
       "      <td>R GROSJEAN</td>\n",
       "      <td>GRO</td>\n",
       "      <td></td>\n",
       "      <td>Haas F1 Team</td>\n",
       "      <td>bd9e57</td>\n",
       "      <td></td>\n",
       "      <td>Romain</td>\n",
       "      <td>Grosjean</td>\n",
       "      <td>...</td>\n",
       "      <td>1</td>\n",
       "      <td>Australian Grand Prix</td>\n",
       "      <td>Australia</td>\n",
       "      <td>FP1</td>\n",
       "      <td>2019-03-15 12:00:00+11:00</td>\n",
       "      <td>2019</td>\n",
       "      <td>NaN</td>\n",
       "      <td>NaN</td>\n",
       "      <td>NaN</td>\n",
       "      <td>NaN</td>\n",
       "    </tr>\n",
       "  </tbody>\n",
       "</table>\n",
       "<p>5 rows × 32 columns</p>\n",
       "</div>"
      ],
      "text/plain": [
       "  index DriverNumber BroadcastName Abbreviation DriverId           TeamName  \\\n",
       "0     3            3   D RICCIARDO          RIC                     Renault   \n",
       "1     4            4      L NORRIS          NOR                     McLaren   \n",
       "2     5            5      S VETTEL          VET                     Ferrari   \n",
       "3     7            7   K RAIKKONEN          RAI           Alfa Romeo Racing   \n",
       "4     8            8    R GROSJEAN          GRO                Haas F1 Team   \n",
       "\n",
       "  TeamColor TeamId  FirstName   LastName  ... RoundNumber  \\\n",
       "0    fff500            Daniel  Ricciardo  ...           1   \n",
       "1    ff8700             Lando     Norris  ...           1   \n",
       "2    dc0000         Sebastian     Vettel  ...           1   \n",
       "3    9b0000              Kimi  Räikkönen  ...           1   \n",
       "4    bd9e57            Romain   Grosjean  ...           1   \n",
       "\n",
       "               EventName    country  session                  EventDate  \\\n",
       "0  Australian Grand Prix  Australia      FP1  2019-03-15 12:00:00+11:00   \n",
       "1  Australian Grand Prix  Australia      FP1  2019-03-15 12:00:00+11:00   \n",
       "2  Australian Grand Prix  Australia      FP1  2019-03-15 12:00:00+11:00   \n",
       "3  Australian Grand Prix  Australia      FP1  2019-03-15 12:00:00+11:00   \n",
       "4  Australian Grand Prix  Australia      FP1  2019-03-15 12:00:00+11:00   \n",
       "\n",
       "   eventYear Q1Sec Q2Sec Q3Sec TimeSec  \n",
       "0       2019   NaN   NaN   NaN     NaN  \n",
       "1       2019   NaN   NaN   NaN     NaN  \n",
       "2       2019   NaN   NaN   NaN     NaN  \n",
       "3       2019   NaN   NaN   NaN     NaN  \n",
       "4       2019   NaN   NaN   NaN     NaN  \n",
       "\n",
       "[5 rows x 32 columns]"
      ]
     },
     "execution_count": 45,
     "metadata": {},
     "output_type": "execute_result"
    }
   ],
   "source": [
    "df_res.head(5)"
   ]
  },
  {
   "cell_type": "markdown",
   "id": "a67c3a6d-7e03-4bc9-b34f-a77d19bc171e",
   "metadata": {},
   "source": [
    "#### <ins>d- Les données de tour : </ins>"
   ]
  },
  {
   "cell_type": "markdown",
   "id": "2b541bac-024b-499b-b91f-021a4e17c066",
   "metadata": {},
   "source": [
    "Enfin "
   ]
  },
  {
   "cell_type": "code",
   "execution_count": 46,
   "id": "39d78564-035f-4b9d-b08e-6b65da3e4ece",
   "metadata": {},
   "outputs": [],
   "source": [
    "file = open('{}{}'.format(data_path, 'laps_data.pickle'),'rb')\n",
    "df_laps = pickle.load(file)\n",
    "# Columns to drop\n",
    "drop_cols = ['Sector1Time','Sector2Time','Sector3Time',\n",
    "             'Sector1SessionTime','Sector2SessionTime','Sector3SessionTime',\n",
    "            'SpeedI1','SpeedI2','SpeedFL', 'IsAccurate']\n",
    "\n",
    "df_laps['eventYear'] = pd.to_datetime(df_laps['EventDate'], utc=True).dt.year\n",
    "df_laps['lapTimeSec'] = df_laps['LapTime']/np.timedelta64(1, 's')\n"
   ]
  },
  {
   "cell_type": "code",
   "execution_count": 47,
   "id": "bb22cf78-7369-4cea-8c74-3dc588cf481a",
   "metadata": {},
   "outputs": [
    {
     "data": {
      "text/plain": [
       "Index(['Time', 'Driver', 'DriverNumber', 'LapTime', 'LapNumber', 'Stint',\n",
       "       'PitOutTime', 'PitInTime', 'Sector1Time', 'Sector2Time', 'Sector3Time',\n",
       "       'Sector1SessionTime', 'Sector2SessionTime', 'Sector3SessionTime',\n",
       "       'SpeedI1', 'SpeedI2', 'SpeedFL', 'SpeedST', 'IsPersonalBest',\n",
       "       'Compound', 'TyreLife', 'FreshTyre', 'Team', 'LapStartTime',\n",
       "       'LapStartDate', 'TrackStatus', 'Position', 'Deleted', 'DeletedReason',\n",
       "       'FastF1Generated', 'IsAccurate', 'RoundNumber', 'EventName', 'country',\n",
       "       'session', 'EventDate', 'eventYear', 'lapTimeSec'],\n",
       "      dtype='object')"
      ]
     },
     "execution_count": 47,
     "metadata": {},
     "output_type": "execute_result"
    }
   ],
   "source": [
    "df_laps.columns"
   ]
  },
  {
   "cell_type": "code",
   "execution_count": 48,
   "id": "d5515288-21b1-4c1b-bf1a-3e964385652a",
   "metadata": {},
   "outputs": [
    {
     "data": {
      "text/html": [
       "<div>\n",
       "<style scoped>\n",
       "    .dataframe tbody tr th:only-of-type {\n",
       "        vertical-align: middle;\n",
       "    }\n",
       "\n",
       "    .dataframe tbody tr th {\n",
       "        vertical-align: top;\n",
       "    }\n",
       "\n",
       "    .dataframe thead th {\n",
       "        text-align: right;\n",
       "    }\n",
       "</style>\n",
       "<table border=\"1\" class=\"dataframe\">\n",
       "  <thead>\n",
       "    <tr style=\"text-align: right;\">\n",
       "      <th></th>\n",
       "      <th>Time</th>\n",
       "      <th>Driver</th>\n",
       "      <th>DriverNumber</th>\n",
       "      <th>LapTime</th>\n",
       "      <th>LapNumber</th>\n",
       "      <th>Stint</th>\n",
       "      <th>PitOutTime</th>\n",
       "      <th>PitInTime</th>\n",
       "      <th>Sector1Time</th>\n",
       "      <th>Sector2Time</th>\n",
       "      <th>...</th>\n",
       "      <th>DeletedReason</th>\n",
       "      <th>FastF1Generated</th>\n",
       "      <th>IsAccurate</th>\n",
       "      <th>RoundNumber</th>\n",
       "      <th>EventName</th>\n",
       "      <th>country</th>\n",
       "      <th>session</th>\n",
       "      <th>EventDate</th>\n",
       "      <th>eventYear</th>\n",
       "      <th>lapTimeSec</th>\n",
       "    </tr>\n",
       "  </thead>\n",
       "  <tbody>\n",
       "    <tr>\n",
       "      <th>0</th>\n",
       "      <td>0 days 00:20:19.908000</td>\n",
       "      <td>VER</td>\n",
       "      <td>1</td>\n",
       "      <td>NaT</td>\n",
       "      <td>1.0</td>\n",
       "      <td>1.0</td>\n",
       "      <td>0 days 00:18:33.392000</td>\n",
       "      <td>NaT</td>\n",
       "      <td>NaT</td>\n",
       "      <td>0 days 00:00:46.433000</td>\n",
       "      <td>...</td>\n",
       "      <td></td>\n",
       "      <td>False</td>\n",
       "      <td>False</td>\n",
       "      <td>1</td>\n",
       "      <td>Bahrain Grand Prix</td>\n",
       "      <td>Bahrain</td>\n",
       "      <td>FP1</td>\n",
       "      <td>2022-03-18 15:00:00+03:00</td>\n",
       "      <td>2022</td>\n",
       "      <td>NaN</td>\n",
       "    </tr>\n",
       "    <tr>\n",
       "      <th>1</th>\n",
       "      <td>0 days 00:21:57.674000</td>\n",
       "      <td>VER</td>\n",
       "      <td>1</td>\n",
       "      <td>0 days 00:01:37.766000</td>\n",
       "      <td>2.0</td>\n",
       "      <td>1.0</td>\n",
       "      <td>NaT</td>\n",
       "      <td>NaT</td>\n",
       "      <td>0 days 00:00:30.695000</td>\n",
       "      <td>0 days 00:00:41.580000</td>\n",
       "      <td>...</td>\n",
       "      <td></td>\n",
       "      <td>False</td>\n",
       "      <td>True</td>\n",
       "      <td>1</td>\n",
       "      <td>Bahrain Grand Prix</td>\n",
       "      <td>Bahrain</td>\n",
       "      <td>FP1</td>\n",
       "      <td>2022-03-18 15:00:00+03:00</td>\n",
       "      <td>2022</td>\n",
       "      <td>97.766</td>\n",
       "    </tr>\n",
       "    <tr>\n",
       "      <th>2</th>\n",
       "      <td>0 days 00:36:10.140000</td>\n",
       "      <td>VER</td>\n",
       "      <td>1</td>\n",
       "      <td>NaT</td>\n",
       "      <td>3.0</td>\n",
       "      <td>1.0</td>\n",
       "      <td>NaT</td>\n",
       "      <td>0 days 00:24:20.357000</td>\n",
       "      <td>0 days 00:00:47.032000</td>\n",
       "      <td>NaT</td>\n",
       "      <td>...</td>\n",
       "      <td></td>\n",
       "      <td>False</td>\n",
       "      <td>False</td>\n",
       "      <td>1</td>\n",
       "      <td>Bahrain Grand Prix</td>\n",
       "      <td>Bahrain</td>\n",
       "      <td>FP1</td>\n",
       "      <td>2022-03-18 15:00:00+03:00</td>\n",
       "      <td>2022</td>\n",
       "      <td>NaN</td>\n",
       "    </tr>\n",
       "    <tr>\n",
       "      <th>3</th>\n",
       "      <td>0 days 00:38:04.834000</td>\n",
       "      <td>VER</td>\n",
       "      <td>1</td>\n",
       "      <td>NaT</td>\n",
       "      <td>4.0</td>\n",
       "      <td>2.0</td>\n",
       "      <td>0 days 00:36:10.140000</td>\n",
       "      <td>NaT</td>\n",
       "      <td>NaT</td>\n",
       "      <td>0 days 00:00:45.882000</td>\n",
       "      <td>...</td>\n",
       "      <td></td>\n",
       "      <td>False</td>\n",
       "      <td>False</td>\n",
       "      <td>1</td>\n",
       "      <td>Bahrain Grand Prix</td>\n",
       "      <td>Bahrain</td>\n",
       "      <td>FP1</td>\n",
       "      <td>2022-03-18 15:00:00+03:00</td>\n",
       "      <td>2022</td>\n",
       "      <td>NaN</td>\n",
       "    </tr>\n",
       "    <tr>\n",
       "      <th>4</th>\n",
       "      <td>0 days 00:39:39.617000</td>\n",
       "      <td>VER</td>\n",
       "      <td>1</td>\n",
       "      <td>0 days 00:01:34.783000</td>\n",
       "      <td>5.0</td>\n",
       "      <td>2.0</td>\n",
       "      <td>NaT</td>\n",
       "      <td>NaT</td>\n",
       "      <td>0 days 00:00:30.119000</td>\n",
       "      <td>0 days 00:00:40.789000</td>\n",
       "      <td>...</td>\n",
       "      <td></td>\n",
       "      <td>False</td>\n",
       "      <td>True</td>\n",
       "      <td>1</td>\n",
       "      <td>Bahrain Grand Prix</td>\n",
       "      <td>Bahrain</td>\n",
       "      <td>FP1</td>\n",
       "      <td>2022-03-18 15:00:00+03:00</td>\n",
       "      <td>2022</td>\n",
       "      <td>94.783</td>\n",
       "    </tr>\n",
       "    <tr>\n",
       "      <th>5</th>\n",
       "      <td>0 days 00:41:48.377000</td>\n",
       "      <td>VER</td>\n",
       "      <td>1</td>\n",
       "      <td>0 days 00:02:08.760000</td>\n",
       "      <td>6.0</td>\n",
       "      <td>2.0</td>\n",
       "      <td>NaT</td>\n",
       "      <td>NaT</td>\n",
       "      <td>0 days 00:00:42.765000</td>\n",
       "      <td>0 days 00:01:00.164000</td>\n",
       "      <td>...</td>\n",
       "      <td></td>\n",
       "      <td>False</td>\n",
       "      <td>True</td>\n",
       "      <td>1</td>\n",
       "      <td>Bahrain Grand Prix</td>\n",
       "      <td>Bahrain</td>\n",
       "      <td>FP1</td>\n",
       "      <td>2022-03-18 15:00:00+03:00</td>\n",
       "      <td>2022</td>\n",
       "      <td>128.760</td>\n",
       "    </tr>\n",
       "  </tbody>\n",
       "</table>\n",
       "<p>6 rows × 38 columns</p>\n",
       "</div>"
      ],
      "text/plain": [
       "                    Time Driver DriverNumber                LapTime  \\\n",
       "0 0 days 00:20:19.908000    VER            1                    NaT   \n",
       "1 0 days 00:21:57.674000    VER            1 0 days 00:01:37.766000   \n",
       "2 0 days 00:36:10.140000    VER            1                    NaT   \n",
       "3 0 days 00:38:04.834000    VER            1                    NaT   \n",
       "4 0 days 00:39:39.617000    VER            1 0 days 00:01:34.783000   \n",
       "5 0 days 00:41:48.377000    VER            1 0 days 00:02:08.760000   \n",
       "\n",
       "   LapNumber  Stint              PitOutTime               PitInTime  \\\n",
       "0        1.0    1.0  0 days 00:18:33.392000                     NaT   \n",
       "1        2.0    1.0                     NaT                     NaT   \n",
       "2        3.0    1.0                     NaT  0 days 00:24:20.357000   \n",
       "3        4.0    2.0  0 days 00:36:10.140000                     NaT   \n",
       "4        5.0    2.0                     NaT                     NaT   \n",
       "5        6.0    2.0                     NaT                     NaT   \n",
       "\n",
       "             Sector1Time            Sector2Time  ... DeletedReason  \\\n",
       "0                    NaT 0 days 00:00:46.433000  ...                 \n",
       "1 0 days 00:00:30.695000 0 days 00:00:41.580000  ...                 \n",
       "2 0 days 00:00:47.032000                    NaT  ...                 \n",
       "3                    NaT 0 days 00:00:45.882000  ...                 \n",
       "4 0 days 00:00:30.119000 0 days 00:00:40.789000  ...                 \n",
       "5 0 days 00:00:42.765000 0 days 00:01:00.164000  ...                 \n",
       "\n",
       "  FastF1Generated IsAccurate RoundNumber           EventName  country  \\\n",
       "0           False      False           1  Bahrain Grand Prix  Bahrain   \n",
       "1           False       True           1  Bahrain Grand Prix  Bahrain   \n",
       "2           False      False           1  Bahrain Grand Prix  Bahrain   \n",
       "3           False      False           1  Bahrain Grand Prix  Bahrain   \n",
       "4           False       True           1  Bahrain Grand Prix  Bahrain   \n",
       "5           False       True           1  Bahrain Grand Prix  Bahrain   \n",
       "\n",
       "   session                  EventDate eventYear lapTimeSec  \n",
       "0      FP1  2022-03-18 15:00:00+03:00      2022        NaN  \n",
       "1      FP1  2022-03-18 15:00:00+03:00      2022     97.766  \n",
       "2      FP1  2022-03-18 15:00:00+03:00      2022        NaN  \n",
       "3      FP1  2022-03-18 15:00:00+03:00      2022        NaN  \n",
       "4      FP1  2022-03-18 15:00:00+03:00      2022     94.783  \n",
       "5      FP1  2022-03-18 15:00:00+03:00      2022    128.760  \n",
       "\n",
       "[6 rows x 38 columns]"
      ]
     },
     "execution_count": 48,
     "metadata": {},
     "output_type": "execute_result"
    }
   ],
   "source": [
    "df_laps.head(6)"
   ]
  },
  {
   "cell_type": "markdown",
   "id": "ab6defca-7600-456b-b3b7-1324a7593838",
   "metadata": {},
   "source": [
    "Restons en là, le plaisir des graphiques semble s'approcher"
   ]
  }
 ],
 "metadata": {
  "kernelspec": {
   "display_name": "Python 3 (ipykernel)",
   "language": "python",
   "name": "python3"
  },
  "language_info": {
   "codemirror_mode": {
    "name": "ipython",
    "version": 3
   },
   "file_extension": ".py",
   "mimetype": "text/x-python",
   "name": "python",
   "nbconvert_exporter": "python",
   "pygments_lexer": "ipython3",
   "version": "3.9.13"
  }
 },
 "nbformat": 4,
 "nbformat_minor": 5
}
