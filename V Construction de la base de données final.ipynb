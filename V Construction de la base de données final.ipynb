{
 "cells": [
  {
   "cell_type": "markdown",
   "id": "fc9cebfb-5e3f-40ec-b494-194f0bafb6c8",
   "metadata": {},
   "source": [
    "# TIPE 2023-2024 \"Jeux et sports\" \n",
    "### MORAIN Arthur MP2 Montaigne"
   ]
  },
  {
   "cell_type": "markdown",
   "id": "bed74f73-920f-4a4f-92ad-ed29af9b8436",
   "metadata": {},
   "source": [
    "## <ins>Optimisation de l'arrêt au stand en Formule 1</ins> "
   ]
  },
  {
   "cell_type": "markdown",
   "id": "59c95f3e-bdf3-46f3-95b9-904bc849ade7",
   "metadata": {},
   "source": [
    "### **<ins>V- Construction de notre base de travail :</ins>**   "
   ]
  },
  {
   "cell_type": "markdown",
   "id": "3a2fde80-31d5-4fb7-a454-ca7ea9649196",
   "metadata": {},
   "source": [
    "-> L'objectif ici est de construire notre base de données finale, qui nous permettra ensuite de mettre en place notre modèle de pneumatiques et puis nos deux expériences."
   ]
  },
  {
   "cell_type": "markdown",
   "id": "f315f474-5361-418b-820c-b9c3ae38b4f4",
   "metadata": {},
   "source": [
    "#### **<ins>a- Le Chemin, le Dataset, les Modules :</ins>**  "
   ]
  },
  {
   "cell_type": "markdown",
   "id": "70e7dc46-1d0d-4168-b2aa-6ff2bda629c5",
   "metadata": {},
   "source": [
    "encore"
   ]
  },
  {
   "cell_type": "code",
   "execution_count": 7,
   "id": "8efed336-3507-465f-b7be-e1f627a5c5d2",
   "metadata": {},
   "outputs": [],
   "source": [
    "path = '/Users/morainarthur/Home/Datascience/redbull-pit-strategy/notebooks'\n",
    "data_path = '/Users/morainarthur/Home/Datascience/redbull-pit-strategy/data/'"
   ]
  },
  {
   "cell_type": "code",
   "execution_count": 2,
   "id": "1d1fd737-c0f3-4d46-88db-d70a85dbbcb8",
   "metadata": {},
   "outputs": [],
   "source": [
    "import os\n",
    "os.chdir(path)\n",
    "import pandas as pd\n",
    "import logging\n",
    "import json\n",
    "import pickle\n",
    "import requests\n",
    "import numpy as np\n",
    "import datetime as dt\n",
    "import seaborn as sns\n",
    "import matplotlib.pyplot as plt"
   ]
  },
  {
   "cell_type": "markdown",
   "id": "3ae4cbfb-e2d3-4421-afe3-8d5219da3e37",
   "metadata": {},
   "source": [
    "#### **<ins>b- Données météo :</ins>**  "
   ]
  },
  {
   "cell_type": "code",
   "execution_count": 8,
   "id": "d71774e7-4a97-4d96-9ba6-bdf50fde31f6",
   "metadata": {},
   "outputs": [],
   "source": [
    "file = open(data_path+'weathers_data.pickle','rb')\n",
    "df_weather = pickle.load(file)\n",
    "df_weather['eventYear'] = pd.to_datetime(df_weather['EventDate'], utc=True).dt.year"
   ]
  },
  {
   "cell_type": "markdown",
   "id": "21fbe8ed-a0e4-4088-bd46-93ecd1f2ce20",
   "metadata": {},
   "source": [
    "#### **<ins>c- Données des résultats :</ins>**  "
   ]
  },
  {
   "cell_type": "code",
   "execution_count": 9,
   "id": "9a7151b3-d131-4b7d-8220-387faf7bbe96",
   "metadata": {},
   "outputs": [
    {
     "name": "stdout",
     "output_type": "stream",
     "text": [
      "---------------------------------------------------------------------------------------------------- \n",
      " df_res size is:  (2060, 29) \n",
      " ---------------------------------------------------------------------------------------------------- \n",
      "\n",
      "\n"
     ]
    }
   ],
   "source": [
    "file = open(data_path+'results_data.pickle','rb')\n",
    "df_res = pickle.load(file)\n",
    "\n",
    "df_res['eventYear'] = pd.to_datetime(df_res['EventDate'], utc=True).dt.year\n",
    "df_res['TimeSec'] = df_res['Time']/np.timedelta64(1, 's')\n",
    "\n",
    "\n",
    "## on garde seulement ce qui concerne la course\n",
    "df_res = df_res[(df_res['session']=='Race')]\n",
    "print('-'*100,'\\n', 'df_res size is: ', df_res.shape,'\\n','-'*100,'\\n')\n",
    "print()\n",
    "\n",
    "df_res= df_res[['Position','GridPosition','FullName','RoundNumber','Abbreviation',\n",
    "                'EventName','eventYear','session','Time','TimeSec','TeamName', 'EventDate']]"
   ]
  },
  {
   "cell_type": "markdown",
   "id": "9b48c180-1814-44fa-8b45-1847796a7450",
   "metadata": {},
   "source": [
    "#### **<ins>d-  Les données de temps :</ins>**  "
   ]
  },
  {
   "cell_type": "markdown",
   "id": "bbe23baf-507f-4777-86b7-375bb6fc6962",
   "metadata": {},
   "source": [
    "On charge le dataset puis on convertit les temps en seconde, plus agréable à manipuler"
   ]
  },
  {
   "cell_type": "code",
   "execution_count": 10,
   "id": "67bb56d1-558e-403c-85f1-ef49161f81d2",
   "metadata": {},
   "outputs": [],
   "source": [
    "file = open(data_path+'laps_data.pickle','rb')\n",
    "df_laps = pickle.load(file)"
   ]
  },
  {
   "cell_type": "code",
   "execution_count": 11,
   "id": "877a276e-7ebe-4058-9443-0d1d2a0335d6",
   "metadata": {},
   "outputs": [
    {
     "data": {
      "text/plain": [
       "(285769, 36)"
      ]
     },
     "execution_count": 11,
     "metadata": {},
     "output_type": "execute_result"
    }
   ],
   "source": [
    "df_laps.shape"
   ]
  },
  {
   "cell_type": "code",
   "execution_count": 12,
   "id": "2cdeeaac-b1eb-4052-a8dc-5eaba92bfe27",
   "metadata": {},
   "outputs": [
    {
     "data": {
      "text/plain": [
       "Index(['Time', 'Driver', 'DriverNumber', 'LapTime', 'LapNumber', 'Stint',\n",
       "       'PitOutTime', 'PitInTime', 'Sector1Time', 'Sector2Time', 'Sector3Time',\n",
       "       'Sector1SessionTime', 'Sector2SessionTime', 'Sector3SessionTime',\n",
       "       'SpeedI1', 'SpeedI2', 'SpeedFL', 'SpeedST', 'IsPersonalBest',\n",
       "       'Compound', 'TyreLife', 'FreshTyre', 'Team', 'LapStartTime',\n",
       "       'LapStartDate', 'TrackStatus', 'Position', 'Deleted', 'DeletedReason',\n",
       "       'FastF1Generated', 'IsAccurate', 'RoundNumber', 'EventName', 'country',\n",
       "       'session', 'EventDate'],\n",
       "      dtype='object')"
      ]
     },
     "execution_count": 12,
     "metadata": {},
     "output_type": "execute_result"
    }
   ],
   "source": [
    "df_laps.columns"
   ]
  },
  {
   "cell_type": "code",
   "execution_count": 14,
   "id": "09f4202c-6471-46d0-97fe-dcea1f32c1e0",
   "metadata": {},
   "outputs": [],
   "source": [
    "drops = ['SpeedI1', 'SpeedI2', 'SpeedFL']\n",
    "df_laps = df_laps.drop(drops,axis=1).reset_index(drop=True)"
   ]
  },
  {
   "cell_type": "code",
   "execution_count": 15,
   "id": "dbd5f0f3-1a90-42b6-a555-10f438e70d01",
   "metadata": {},
   "outputs": [
    {
     "data": {
      "text/plain": [
       "Index(['Time', 'Driver', 'DriverNumber', 'LapTime', 'LapNumber', 'Stint',\n",
       "       'PitOutTime', 'PitInTime', 'Sector1Time', 'Sector2Time', 'Sector3Time',\n",
       "       'Sector1SessionTime', 'Sector2SessionTime', 'Sector3SessionTime',\n",
       "       'SpeedST', 'IsPersonalBest', 'Compound', 'TyreLife', 'FreshTyre',\n",
       "       'Team', 'LapStartTime', 'LapStartDate', 'TrackStatus', 'Position',\n",
       "       'Deleted', 'DeletedReason', 'FastF1Generated', 'IsAccurate',\n",
       "       'RoundNumber', 'EventName', 'country', 'session', 'EventDate'],\n",
       "      dtype='object')"
      ]
     },
     "execution_count": 15,
     "metadata": {},
     "output_type": "execute_result"
    }
   ],
   "source": [
    "df_laps.columns"
   ]
  },
  {
   "cell_type": "code",
   "execution_count": 16,
   "id": "9eada654-1c9a-4406-a9eb-649e99ffe72b",
   "metadata": {},
   "outputs": [],
   "source": [
    "df_laps['eventYear'] = pd.to_datetime(df_laps['EventDate'], utc=True).dt.year\n",
    "df_laps['lapTimeSec'] = df_laps['LapTime']/np.timedelta64(1, 's')"
   ]
  },
  {
   "cell_type": "markdown",
   "id": "3ba03d3e-092c-40f9-b420-f6a72cb0a8b6",
   "metadata": {},
   "source": [
    "#### **<ins>e- Fusion des données météo et de temps :</ins>**  "
   ]
  },
  {
   "cell_type": "code",
   "execution_count": 17,
   "id": "5c7e7913-b9fd-4876-beb7-0dbd7dd651c5",
   "metadata": {},
   "outputs": [],
   "source": [
    "df_weather = df_weather.sort_values( ['EventName','eventYear','session', 'Time']).reset_index(drop=True)\n",
    "df_laps = df_laps.sort_values( ['EventName','eventYear','session','Team','Driver', 'Time']).reset_index(drop=True)"
   ]
  },
  {
   "cell_type": "code",
   "execution_count": 18,
   "id": "9ef49c5b-4019-440c-bc27-0ca42e147375",
   "metadata": {},
   "outputs": [
    {
     "data": {
      "text/plain": [
       "Index(['Time', 'Driver', 'DriverNumber', 'LapTime', 'LapNumber', 'Stint',\n",
       "       'PitOutTime', 'PitInTime', 'Sector1Time', 'Sector2Time', 'Sector3Time',\n",
       "       'Sector1SessionTime', 'Sector2SessionTime', 'Sector3SessionTime',\n",
       "       'SpeedST', 'IsPersonalBest', 'Compound', 'TyreLife', 'FreshTyre',\n",
       "       'Team', 'LapStartTime', 'LapStartDate', 'TrackStatus', 'Position',\n",
       "       'Deleted', 'DeletedReason', 'FastF1Generated', 'IsAccurate',\n",
       "       'RoundNumber', 'EventName', 'country', 'session', 'EventDate',\n",
       "       'eventYear', 'lapTimeSec'],\n",
       "      dtype='object')"
      ]
     },
     "execution_count": 18,
     "metadata": {},
     "output_type": "execute_result"
    }
   ],
   "source": [
    "df_laps.columns"
   ]
  },
  {
   "cell_type": "code",
   "execution_count": 19,
   "id": "bc2967fb-bed7-4ea0-bf7c-194c7fa37910",
   "metadata": {},
   "outputs": [],
   "source": [
    "dflaps_columns = ['Time', 'Driver', 'DriverNumber', 'LapTime', 'LapNumber', 'Stint',\n",
    "       'PitOutTime', 'PitInTime', 'Sector1Time', 'Sector2Time', 'Sector3Time',\n",
    "       'Sector1SessionTime', 'Sector2SessionTime', 'Sector3SessionTime',\n",
    "       'SpeedST', 'IsPersonalBest', 'Compound', 'TyreLife', 'FreshTyre',\n",
    "       'Team', 'LapStartTime', 'LapStartDate', 'TrackStatus', 'Position',\n",
    "       'Deleted', 'DeletedReason', 'FastF1Generated', 'IsAccurate',\n",
    "       'RoundNumber', 'EventName', 'country', 'session', 'EventDate',\n",
    "       'eventYear', 'lapTimeSec']"
   ]
  },
  {
   "cell_type": "code",
   "execution_count": 21,
   "id": "ed86b666-1268-47be-b832-03492e45a91a",
   "metadata": {},
   "outputs": [
    {
     "name": "stdout",
     "output_type": "stream",
     "text": [
      "CPU times: user 8min 37s, sys: 2.55 s, total: 8min 39s\n",
      "Wall time: 8min 40s\n"
     ]
    }
   ],
   "source": [
    "%%time\n",
    "\n",
    "import warnings # permettra de terminer le programme malgré un avertissement\n",
    "warnings.filterwarnings(\"ignore\")\n",
    "\n",
    "# group lap data by event, session... etc and then go to weather data and extract relevant weather information.\n",
    "# since time doesn't quite match, we find the closest possible time between both tables.\n",
    "# merge_asof allows us to find the nearest time between the two tables and combine them.\n",
    "def func_merger_lap_weather(d_f):\n",
    "    '''\n",
    "    func_merger_lap_weather method merges weather and laps data\n",
    "    it returns all columns after merge\n",
    "    '''    \n",
    "    \n",
    "    d_f = d_f.sort_values('Time').reset_index(drop=True)\n",
    "    \n",
    "    EventName = np.unique(d_f['EventName'])[0]\n",
    "    session = np.unique(d_f['session'])[0]\n",
    "    eventYear = np.unique(d_f['eventYear'])[0]\n",
    "    Driver = np.unique(d_f['Driver'])\n",
    "    \n",
    "    sub_weather = df_weather[(df_weather['EventName']==EventName) &\n",
    "                            (df_weather['session']==session) &\n",
    "                            (df_weather['eventYear']==eventYear) ].sort_values('Time').reset_index(drop=True)\n",
    "    \n",
    "    sub_result = df_res[(df_weather['EventName']==EventName) &\n",
    "                            (df_weather['session']==session) &\n",
    "                            (df_weather['eventYear']==eventYear) ].sort_values('Time').reset_index(drop=True)\n",
    "    \n",
    "    d_f_merged = pd.merge_asof(d_f, sub_weather, \n",
    "                          on=\"Time\", direction='nearest',\n",
    "                         suffixes=('', '_drop'))\n",
    "    d_f_merged.drop([col for col in d_f_merged.columns if 'drop' in col], axis=1, inplace=True)\n",
    "    \n",
    "#     print(d_f.shape,Driver, len(d_f_merged), EventName , eventYear, np.unique(d_f['Team']), \n",
    "#           session, len(df_weather))\n",
    "    weather_cols = ['WindSpeed', 'AirTemp','Humidity', 'Pressure','TrackTemp','Rainfall','WindDirection']\n",
    "    laps_cols = ['Time', 'DriverNumber', 'LapTime', 'LapNumber', 'Stint', 'PitOutTime', 'RoundNumber',\n",
    "       'PitInTime', 'SpeedST', 'IsPersonalBest', 'Compound', 'TyreLife','FreshTyre', 'LapStartTime', 'TrackStatus',\n",
    "       'LapStartDate',  'country', 'EventDate','lapTimeSec','Sector1Time','Sector2Time','Sector3Time',\n",
    "             'Sector1SessionTime','Sector2SessionTime','Sector3SessionTime', 'IsAccurate']\n",
    "    laps_cols.extend(weather_cols) \n",
    "    \n",
    "    return  d_f_merged[laps_cols]\n",
    "\n",
    "df_lapWeather = df_laps.groupby(['EventName', 'eventYear','Team','session','Driver'])[dflaps_columns].apply(func_merger_lap_weather).reset_index()\n"
   ]
  },
  {
   "cell_type": "code",
   "execution_count": 24,
   "id": "b49cc127-442b-407f-88c5-4f32db868540",
   "metadata": {},
   "outputs": [
    {
     "data": {
      "text/plain": [
       "Index(['EventName', 'eventYear', 'Team', 'session', 'Driver', 'level_5',\n",
       "       'Time', 'DriverNumber', 'LapTime', 'LapNumber', 'Stint', 'PitOutTime',\n",
       "       'RoundNumber', 'PitInTime', 'SpeedST', 'IsPersonalBest', 'Compound',\n",
       "       'TyreLife', 'FreshTyre', 'LapStartTime', 'TrackStatus', 'LapStartDate',\n",
       "       'country', 'EventDate', 'lapTimeSec', 'Sector1Time', 'Sector2Time',\n",
       "       'Sector3Time', 'Sector1SessionTime', 'Sector2SessionTime',\n",
       "       'Sector3SessionTime', 'IsAccurate', 'WindSpeed', 'AirTemp', 'Humidity',\n",
       "       'Pressure', 'TrackTemp', 'Rainfall', 'WindDirection'],\n",
       "      dtype='object')"
      ]
     },
     "execution_count": 24,
     "metadata": {},
     "output_type": "execute_result"
    }
   ],
   "source": [
    "df_lapWeather.columns"
   ]
  },
  {
   "cell_type": "code",
   "execution_count": 25,
   "id": "82184dd6-1fb1-410c-96fb-a0e8c87628ad",
   "metadata": {},
   "outputs": [
    {
     "data": {
      "text/html": [
       "<div>\n",
       "<style scoped>\n",
       "    .dataframe tbody tr th:only-of-type {\n",
       "        vertical-align: middle;\n",
       "    }\n",
       "\n",
       "    .dataframe tbody tr th {\n",
       "        vertical-align: top;\n",
       "    }\n",
       "\n",
       "    .dataframe thead th {\n",
       "        text-align: right;\n",
       "    }\n",
       "</style>\n",
       "<table border=\"1\" class=\"dataframe\">\n",
       "  <thead>\n",
       "    <tr style=\"text-align: right;\">\n",
       "      <th></th>\n",
       "      <th>EventName</th>\n",
       "      <th>eventYear</th>\n",
       "      <th>Team</th>\n",
       "      <th>session</th>\n",
       "      <th>Driver</th>\n",
       "      <th>level_5</th>\n",
       "      <th>Time</th>\n",
       "      <th>DriverNumber</th>\n",
       "      <th>LapTime</th>\n",
       "      <th>LapNumber</th>\n",
       "      <th>...</th>\n",
       "      <th>Sector2SessionTime</th>\n",
       "      <th>Sector3SessionTime</th>\n",
       "      <th>IsAccurate</th>\n",
       "      <th>WindSpeed</th>\n",
       "      <th>AirTemp</th>\n",
       "      <th>Humidity</th>\n",
       "      <th>Pressure</th>\n",
       "      <th>TrackTemp</th>\n",
       "      <th>Rainfall</th>\n",
       "      <th>WindDirection</th>\n",
       "    </tr>\n",
       "  </thead>\n",
       "  <tbody>\n",
       "    <tr>\n",
       "      <th>0</th>\n",
       "      <td>70th Anniversary Grand Prix</td>\n",
       "      <td>2020</td>\n",
       "      <td>Alfa Romeo Racing</td>\n",
       "      <td>FP1</td>\n",
       "      <td>KUB</td>\n",
       "      <td>0</td>\n",
       "      <td>0 days 00:18:07.531000</td>\n",
       "      <td>88</td>\n",
       "      <td>NaT</td>\n",
       "      <td>1.0</td>\n",
       "      <td>...</td>\n",
       "      <td>0 days 00:17:36.888000</td>\n",
       "      <td>0 days 00:18:07.598000</td>\n",
       "      <td>False</td>\n",
       "      <td>2.7</td>\n",
       "      <td>25.3</td>\n",
       "      <td>49.6</td>\n",
       "      <td>1001.5</td>\n",
       "      <td>34.6</td>\n",
       "      <td>False</td>\n",
       "      <td>231.0</td>\n",
       "    </tr>\n",
       "    <tr>\n",
       "      <th>1</th>\n",
       "      <td>70th Anniversary Grand Prix</td>\n",
       "      <td>2020</td>\n",
       "      <td>Alfa Romeo Racing</td>\n",
       "      <td>FP1</td>\n",
       "      <td>KUB</td>\n",
       "      <td>1</td>\n",
       "      <td>0 days 00:35:28.649000</td>\n",
       "      <td>88</td>\n",
       "      <td>NaT</td>\n",
       "      <td>2.0</td>\n",
       "      <td>...</td>\n",
       "      <td>0 days 00:34:57.975000</td>\n",
       "      <td>0 days 00:35:28.775000</td>\n",
       "      <td>False</td>\n",
       "      <td>3.4</td>\n",
       "      <td>26.4</td>\n",
       "      <td>43.6</td>\n",
       "      <td>1001.5</td>\n",
       "      <td>37.2</td>\n",
       "      <td>False</td>\n",
       "      <td>222.0</td>\n",
       "    </tr>\n",
       "    <tr>\n",
       "      <th>2</th>\n",
       "      <td>70th Anniversary Grand Prix</td>\n",
       "      <td>2020</td>\n",
       "      <td>Alfa Romeo Racing</td>\n",
       "      <td>FP1</td>\n",
       "      <td>KUB</td>\n",
       "      <td>2</td>\n",
       "      <td>0 days 00:37:00.685000</td>\n",
       "      <td>88</td>\n",
       "      <td>0 days 00:01:32.036000</td>\n",
       "      <td>3.0</td>\n",
       "      <td>...</td>\n",
       "      <td>0 days 00:36:35.547000</td>\n",
       "      <td>0 days 00:37:00.685000</td>\n",
       "      <td>True</td>\n",
       "      <td>2.1</td>\n",
       "      <td>26.0</td>\n",
       "      <td>44.8</td>\n",
       "      <td>1001.5</td>\n",
       "      <td>36.7</td>\n",
       "      <td>False</td>\n",
       "      <td>212.0</td>\n",
       "    </tr>\n",
       "    <tr>\n",
       "      <th>3</th>\n",
       "      <td>70th Anniversary Grand Prix</td>\n",
       "      <td>2020</td>\n",
       "      <td>Alfa Romeo Racing</td>\n",
       "      <td>FP1</td>\n",
       "      <td>KUB</td>\n",
       "      <td>3</td>\n",
       "      <td>0 days 00:39:11.032000</td>\n",
       "      <td>88</td>\n",
       "      <td>0 days 00:02:10.347000</td>\n",
       "      <td>4.0</td>\n",
       "      <td>...</td>\n",
       "      <td>0 days 00:38:34.621000</td>\n",
       "      <td>0 days 00:39:11.032000</td>\n",
       "      <td>True</td>\n",
       "      <td>2.5</td>\n",
       "      <td>26.2</td>\n",
       "      <td>43.9</td>\n",
       "      <td>1001.5</td>\n",
       "      <td>37.6</td>\n",
       "      <td>False</td>\n",
       "      <td>189.0</td>\n",
       "    </tr>\n",
       "    <tr>\n",
       "      <th>4</th>\n",
       "      <td>70th Anniversary Grand Prix</td>\n",
       "      <td>2020</td>\n",
       "      <td>Alfa Romeo Racing</td>\n",
       "      <td>FP1</td>\n",
       "      <td>KUB</td>\n",
       "      <td>4</td>\n",
       "      <td>0 days 00:40:41.364000</td>\n",
       "      <td>88</td>\n",
       "      <td>0 days 00:01:30.332000</td>\n",
       "      <td>5.0</td>\n",
       "      <td>...</td>\n",
       "      <td>0 days 00:40:16.516000</td>\n",
       "      <td>0 days 00:40:41.364000</td>\n",
       "      <td>True</td>\n",
       "      <td>1.2</td>\n",
       "      <td>26.3</td>\n",
       "      <td>43.3</td>\n",
       "      <td>1001.5</td>\n",
       "      <td>37.9</td>\n",
       "      <td>False</td>\n",
       "      <td>219.0</td>\n",
       "    </tr>\n",
       "  </tbody>\n",
       "</table>\n",
       "<p>5 rows × 39 columns</p>\n",
       "</div>"
      ],
      "text/plain": [
       "                     EventName  eventYear               Team session Driver  \\\n",
       "0  70th Anniversary Grand Prix       2020  Alfa Romeo Racing     FP1    KUB   \n",
       "1  70th Anniversary Grand Prix       2020  Alfa Romeo Racing     FP1    KUB   \n",
       "2  70th Anniversary Grand Prix       2020  Alfa Romeo Racing     FP1    KUB   \n",
       "3  70th Anniversary Grand Prix       2020  Alfa Romeo Racing     FP1    KUB   \n",
       "4  70th Anniversary Grand Prix       2020  Alfa Romeo Racing     FP1    KUB   \n",
       "\n",
       "   level_5                   Time DriverNumber                LapTime  \\\n",
       "0        0 0 days 00:18:07.531000           88                    NaT   \n",
       "1        1 0 days 00:35:28.649000           88                    NaT   \n",
       "2        2 0 days 00:37:00.685000           88 0 days 00:01:32.036000   \n",
       "3        3 0 days 00:39:11.032000           88 0 days 00:02:10.347000   \n",
       "4        4 0 days 00:40:41.364000           88 0 days 00:01:30.332000   \n",
       "\n",
       "   LapNumber  ...     Sector2SessionTime     Sector3SessionTime  IsAccurate  \\\n",
       "0        1.0  ... 0 days 00:17:36.888000 0 days 00:18:07.598000       False   \n",
       "1        2.0  ... 0 days 00:34:57.975000 0 days 00:35:28.775000       False   \n",
       "2        3.0  ... 0 days 00:36:35.547000 0 days 00:37:00.685000        True   \n",
       "3        4.0  ... 0 days 00:38:34.621000 0 days 00:39:11.032000        True   \n",
       "4        5.0  ... 0 days 00:40:16.516000 0 days 00:40:41.364000        True   \n",
       "\n",
       "  WindSpeed  AirTemp Humidity Pressure  TrackTemp  Rainfall WindDirection  \n",
       "0       2.7     25.3     49.6   1001.5       34.6     False         231.0  \n",
       "1       3.4     26.4     43.6   1001.5       37.2     False         222.0  \n",
       "2       2.1     26.0     44.8   1001.5       36.7     False         212.0  \n",
       "3       2.5     26.2     43.9   1001.5       37.6     False         189.0  \n",
       "4       1.2     26.3     43.3   1001.5       37.9     False         219.0  \n",
       "\n",
       "[5 rows x 39 columns]"
      ]
     },
     "execution_count": 25,
     "metadata": {},
     "output_type": "execute_result"
    }
   ],
   "source": [
    "df_lapWeather.head(5)"
   ]
  },
  {
   "cell_type": "markdown",
   "id": "d46e8b4c-ee02-4a8f-9f85-6f60d104597a",
   "metadata": {},
   "source": [
    "L'objectif est atteint, plus qu'à y travailler"
   ]
  },
  {
   "cell_type": "markdown",
   "id": "037c3c8e-771f-407d-aede-7dd10e9f61da",
   "metadata": {},
   "source": [
    "#### **<ins>f- Conversion et enregistrement :</ins>**  "
   ]
  },
  {
   "cell_type": "code",
   "execution_count": 34,
   "id": "376e156d-5f4b-42ad-a720-42051827a431",
   "metadata": {},
   "outputs": [
    {
     "data": {
      "text/plain": [
       "pandas.core.frame.DataFrame"
      ]
     },
     "execution_count": 34,
     "metadata": {},
     "output_type": "execute_result"
    }
   ],
   "source": [
    "type(df_lapWeather)"
   ]
  },
  {
   "cell_type": "code",
   "execution_count": 27,
   "id": "99bd780c-b64f-448c-99c5-50d109ca70ac",
   "metadata": {},
   "outputs": [],
   "source": [
    "csv_data = df_lapWeather.to_csv()"
   ]
  },
  {
   "cell_type": "code",
   "execution_count": 28,
   "id": "b4dad08d-1ae0-44ff-8973-fe8477be5354",
   "metadata": {},
   "outputs": [
    {
     "data": {
      "text/plain": [
       "(285769, 39)"
      ]
     },
     "execution_count": 28,
     "metadata": {},
     "output_type": "execute_result"
    }
   ],
   "source": [
    "df_lapWeather.shape"
   ]
  },
  {
   "cell_type": "code",
   "execution_count": 39,
   "id": "fe41339e-a7bc-4cae-8c0a-156ad002298d",
   "metadata": {},
   "outputs": [],
   "source": [
    "df_lapWeather.to_csv('/Users/morainarthur/Home/Datascience/redbull-pit-strategy/data/lapweatherf1.csv', index = False ) "
   ]
  },
  {
   "cell_type": "markdown",
   "id": "107d44eb-a334-4d76-8076-224576d44a77",
   "metadata": {},
   "source": [
    "### **<ins>Remarque :</ins>**   "
   ]
  },
  {
   "cell_type": "markdown",
   "id": "915f1750-a182-4308-8f5e-22557243dbb3",
   "metadata": {},
   "source": [
    "-> Ici se termine un premier quart du projet"
   ]
  },
  {
   "cell_type": "markdown",
   "id": "a3705aeb-139e-4d30-9ab9-ac27ff4b3665",
   "metadata": {},
   "source": [
    "-> On a obtenu une base de données avec laquelle nous allons pouvoir travailler facilement"
   ]
  },
  {
   "cell_type": "markdown",
   "id": "1bd29473-1baa-4feb-900a-da93eaf7592c",
   "metadata": {},
   "source": [
    "-> Je ne pensais pas que cette étape serait aussi conséquente"
   ]
  },
  {
   "cell_type": "markdown",
   "id": "2a2cb075-814a-456c-bdc3-411562537d56",
   "metadata": {},
   "source": [
    "31/10/2023"
   ]
  }
 ],
 "metadata": {
  "kernelspec": {
   "display_name": "Python 3 (ipykernel)",
   "language": "python",
   "name": "python3"
  },
  "language_info": {
   "codemirror_mode": {
    "name": "ipython",
    "version": 3
   },
   "file_extension": ".py",
   "mimetype": "text/x-python",
   "name": "python",
   "nbconvert_exporter": "python",
   "pygments_lexer": "ipython3",
   "version": "3.9.13"
  }
 },
 "nbformat": 4,
 "nbformat_minor": 5
}
